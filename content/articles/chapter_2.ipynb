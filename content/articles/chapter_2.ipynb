{
 "cells": [
  {
   "cell_type": "markdown",
   "metadata": {},
   "source": [
    "# The mechanism of C++: from source code to a running program"
   ]
  },
  {
   "cell_type": "markdown",
   "metadata": {},
   "source": [
    "## Introduction and objectives"
   ]
  },
  {
   "cell_type": "code",
   "execution_count": 1,
   "metadata": {},
   "outputs": [
    {
     "name": "stdout",
     "output_type": "stream",
     "text": [
      "// Inequalities.hpp\r\n",
      "//\r\n",
      "// Header file containing declarations of functions\r\n",
      "//\r\n",
      "// (C) Datasim Education BV 2006\r\n",
      "//\r\n",
      "\r\n",
      "// Preprocessor directives; ensures that we do not \r\n",
      "// include a file twice (gives compiler error)\r\n",
      "#ifndef Inequalities_HPP\r\n",
      "#define Inequalities_HPP\r\n",
      "\r\n",
      "/////////// Useful functions //////////////////\r\n",
      "\r\n",
      "// Max and Min of two numbers\r\n",
      "double Max(double x, double y);\r\n",
      "double Min(double x, double y);\r\n",
      "\r\n",
      "// Max and Min of three numbers\r\n",
      "double Max(double x, double y, double z);\r\n",
      "double Min(double x, double y, double z);\r\n",
      "\r\n",
      "////////////////////////////////////////////////\r\n",
      "\r\n",
      "#endif"
     ]
    }
   ],
   "source": [
    "!cat Inequalities.hpp"
   ]
  },
  {
   "cell_type": "code",
   "execution_count": 2,
   "metadata": {},
   "outputs": [
    {
     "name": "stdout",
     "output_type": "stream",
     "text": [
      "// Inequalities.cpp\r\n",
      "//\r\n",
      "// Code file containing bodies of functions\r\n",
      "//\r\n",
      "// Last Modification Dates:\r\n",
      "//\r\n",
      "//\t2006-2-17 DD kick-off code\r\n",
      "//\r\n",
      "// (C) Datasim Education BV 2006\r\n",
      "//\r\n",
      "\r\n",
      "#include \"Inequalities.hpp\"\r\n",
      "\r\n",
      "/////////// Useful functions //////////////////\r\n",
      "\r\n",
      "// Max and Min of two numbers\r\n",
      "double Max(double x, double y)\r\n",
      "{\r\n",
      "\tif (x > y)\r\n",
      "\t\treturn x;\r\n",
      "\r\n",
      "\treturn y;\r\n",
      "}\r\n",
      "\r\n",
      "double Min(double x, double y)\r\n",
      "{\r\n",
      "\tif (x < y)\r\n",
      "\t\treturn x;\r\n",
      "\r\n",
      "\treturn y;\r\n",
      "}\r\n",
      "\r\n",
      "// Max and Min of three numbers\r\n",
      "double Max(double x, double y, double z)\r\n",
      "{\r\n",
      "\treturn Max(Max(x,y), z);\r\n",
      "}\r\n",
      "\r\n",
      "double Min(double x, double y, double z)\r\n",
      "{\r\n",
      "\treturn Min(Min(x,y), z);\r\n",
      "}"
     ]
    }
   ],
   "source": [
    "!cat Inequalities.cpp"
   ]
  },
  {
   "cell_type": "code",
   "execution_count": 3,
   "metadata": {},
   "outputs": [
    {
     "name": "stdout",
     "output_type": "stream",
     "text": [
      "// TestInequalities.cpp\r\n",
      "//\r\n",
      "// Main program (Console-based) to test Max and \r\n",
      "// Min functions.\r\n",
      "//\r\n",
      "// (C) Datasim Education BV 2006\r\n",
      "//\r\n",
      "\r\n",
      "#include <iostream>\t\t// Console input and output\r\n",
      "\r\n",
      "#include \"Inequalities.hpp\"\r\n",
      "\r\n",
      "int main()\r\n",
      "{\r\n",
      "\t// Prompt the user for input. Console output (cout)\r\n",
      "\t// and input (cin)\r\n",
      "\tdouble d1, d2;\r\n",
      "\tstd::cout << \"Give the first number: \";\r\n",
      "\tstd::cin >> d1;\r\n",
      "\tstd::cout << \"Give the second number: \";\r\n",
      "\tstd::cin >> d2;\r\n",
      "\r\n",
      "\tchar c;\t// Character type\r\n",
      "\tstd::cout << \"Which function a) Max() or b) Min()? \";\r\n",
      "\tstd::cin >> c;\r\n",
      "\tif (c == 'a')\r\n",
      "\t{\r\n",
      "\t\tstd::cout << \"Max value is: \" << Max(d1, d2) << std::endl;\r\n",
      "\t}\r\n",
      "\telse\r\n",
      "\t{\r\n",
      "\t\tstd::cout << \"Min value is: \" << Min(d1, d2) << std::endl;\r\n",
      "\t}\r\n",
      "\r\n",
      "\tdouble dA = 1.0; double dB = 2.0; double dC = 3.0;\r\n",
      "\tstd::cout << \"\\n\\nMax and min of three numbers: \" << std::endl;\r\n",
      "\tstd::cout << \"Max value is: \" << Max(dA, dB, dC) << std::endl;\r\n",
      "\tstd::cout << \"Min value is: \" << Min(dA, dB, dC) << std::endl;\r\n",
      "\r\n",
      "\treturn 0;\r\n",
      "}"
     ]
    }
   ],
   "source": [
    "!cat TestInequalities.cpp"
   ]
  },
  {
   "cell_type": "code",
   "execution_count": 12,
   "metadata": {},
   "outputs": [],
   "source": [
    "#include \"Inequalities.cpp\"\n",
    "#include <iostream>"
   ]
  },
  {
   "cell_type": "code",
   "execution_count": 16,
   "metadata": {},
   "outputs": [
    {
     "name": "stdout",
     "output_type": "stream",
     "text": [
      "Give the first number: 10\n",
      "Give the second number: 20\n",
      "Which function a) Max() or b) Min()? a\n",
      "Max value is: 20\n"
     ]
    }
   ],
   "source": [
    "{\n",
    "    double d1, d2;\n",
    "    char c;\t// Character type\n",
    "\n",
    "    std::cout << \"Give the first number: \";\n",
    "    std::cin >> d1;\n",
    "\n",
    "    std::cout << \"Give the second number: \";\n",
    "    std::cin >> d2;\n",
    "\n",
    "    std::cout << \"Which function a) Max() or b) Min()? \";\n",
    "    std::cin >> c;\n",
    "    \n",
    "    if (c == 'a')\n",
    "    {\n",
    "        std::cout << \"Max value is: \" << Max(d1, d2) << std::endl;\n",
    "    }\n",
    "    else\n",
    "    {\n",
    "        std::cout << \"Min value is: \" << Min(d1, d2) << std::endl;\n",
    "    }\n",
    "}"
   ]
  },
  {
   "cell_type": "markdown",
   "metadata": {},
   "source": [
    "## Creating classes and using their objects\n",
    "\n",
    "We now discuss how to set up a program that uses C++ classes. This is not much more difficult than in the previous section and in this case we use three files:\n",
    "* Header file describing the class members (data and functions).\n",
    "* Code file containing the bodies of member functions.\n",
    "* File containing the test program."
   ]
  },
  {
   "cell_type": "code",
   "execution_count": 19,
   "metadata": {},
   "outputs": [
    {
     "name": "stdout",
     "output_type": "stream",
     "text": [
      "// Person.hpp\r\n",
      "//\r\n",
      "// 'Hello World' class. Function declarations.\r\n",
      "//\r\n",
      "// (C) Datasim Education BV 2005-2006\r\n",
      "//\r\n",
      "\r\n",
      "#ifndef Person_HPP\r\n",
      "#define Person_HPP\r\n",
      "\r\n",
      "#include \"DatasimDate.hpp\"\t// My dates and other useful stuff\r\n",
      "#include <string>\t\t\t// Standard string class in C++\r\n",
      "\r\n",
      "class Person\r\n",
      "{\r\n",
      "public: // Everything public, for convenience only\r\n",
      "\r\n",
      "\t\t// Data\r\n",
      "\t\tstd::string nam;\t\t\t\t\t// Name of person\r\n",
      "\t\tDatasimDate dob;\t\t\t// Date of birth\r\n",
      "\r\n",
      "\t\tDatasimDate createdD;\t\t// Internal, when object was created\r\n",
      "\r\n",
      "public:\r\n",
      "\t\tPerson (const std::string& name, const DatasimDate& DateofBirth);\r\n",
      "\r\n",
      "\r\n",
      "\t\tvoid print() const;\r\n",
      "\t\t\r\n",
      "\t\tint age() const;\r\n",
      "\t\t\r\n",
      "};\r\n",
      "\r\n",
      "#endif"
     ]
    }
   ],
   "source": [
    "!cat Person.hpp"
   ]
  },
  {
   "cell_type": "code",
   "execution_count": 20,
   "metadata": {},
   "outputs": [
    {
     "name": "stdout",
     "output_type": "stream",
     "text": [
      "// Person.cpp\r\n",
      "//\r\n",
      "// 'Hello World' class \r\n",
      "//\r\n",
      "// Last Modification Dates\r\n",
      "//\r\n",
      "// 2006-2-17 DD Kick-off\r\n",
      "//\r\n",
      "// (C) Datasim Education BV 2005-2006\r\n",
      "//\r\n",
      "\r\n",
      "\r\n",
      "#include \"Person.hpp\"\r\n",
      "\r\n",
      "Person::Person (const std::string& name, const DatasimDate& DateofBirth)\r\n",
      "{\r\n",
      "\t\t\tnam = name;\r\n",
      "\t\t\tdob = DateofBirth;\r\n",
      "\t\t\tcreatedD = DatasimDate();\t// default, today REALLY!\r\n",
      "\r\n",
      "}\r\n",
      "\r\n",
      "void Person::print() const\r\n",
      "{ // Who am I?\r\n",
      "\t\t\t\r\n",
      "\t\t\tstd::cout << \"\\n** Person Data **\\n\";\r\n",
      "\t\t\r\n",
      "\t\t\tstd::cout << \"Name: \" << nam << \", Date of birth: \" << dob \r\n",
      "\t\t\t\t\t\t<< \", Age: \" << age() << std::endl;\r\n",
      "\r\n",
      "}\r\n",
      "\r\n",
      "int Person::age() const\r\n",
      "{\r\n",
      "\t\treturn int( double(DatasimDate() - dob) / 365.0);\r\n",
      "}\r\n",
      "\r\n"
     ]
    }
   ],
   "source": [
    "!cat Person.cpp"
   ]
  },
  {
   "cell_type": "code",
   "execution_count": 21,
   "metadata": {},
   "outputs": [
    {
     "name": "stdout",
     "output_type": "stream",
     "text": [
      "// TestPerson.cpp\r\n",
      "//\r\n",
      "// 'Hello World' Testing the first C++ class\r\n",
      "//\r\n",
      "// (C) Datasim Education BV 2005-2006\r\n",
      "//\r\n",
      "\r\n",
      "\r\n",
      "#include \"DatasimDate.hpp\"\t// Dates and other useful stuff\r\n",
      "#include \"Person.hpp\"\t\t// Interface functions for Person\r\n",
      "#include <string>\t\t\t// Standard string class in C++\r\n",
      "\r\n",
      "int main()\r\n",
      "{\r\n",
      "\r\n",
      "\tDatasimDate myBirthday(29, 8, 1952);\r\n",
      "\tstd::string myName (\"Daniel J. Duffy\");\r\n",
      "\tPerson dd(myName, myBirthday);\r\n",
      "\tdd.print();\r\n",
      "\r\n",
      "\tDatasimDate bBirthday(06, 8, 1994);\r\n",
      "\tstd::string bName (\"Brendan Duffy\");\r\n",
      "\tPerson bd(bName, bBirthday);\r\n",
      "\tbd.print();\r\n",
      "\t\r\n",
      "\treturn 0;\r\n",
      "}"
     ]
    }
   ],
   "source": [
    "!cat TestPerson.cpp"
   ]
  },
  {
   "cell_type": "code",
   "execution_count": 1,
   "metadata": {},
   "outputs": [],
   "source": [
    "#include <string>\n",
    "#include \"DatasimDate.cpp\"\n",
    "#include \"Person.cpp\""
   ]
  },
  {
   "cell_type": "code",
   "execution_count": 19,
   "metadata": {},
   "outputs": [
    {
     "name": "stdout",
     "output_type": "stream",
     "text": [
      "\n",
      "** Person Data **\n",
      "Name: Daniel J. Duffy, Date of birth: 29/8/1952, Age: 67\n"
     ]
    }
   ],
   "source": [
    "{\n",
    "    DatasimDate myBirthday(29, 8, 1952);\n",
    "    std::string myName (\"Daniel J. Duffy\");\n",
    "    Person dd(myName, myBirthday);\n",
    "    dd.print();\n",
    "}"
   ]
  },
  {
   "cell_type": "code",
   "execution_count": 7,
   "metadata": {},
   "outputs": [
    {
     "name": "stdout",
     "output_type": "stream",
     "text": [
      "\n",
      "** Person Data **\n",
      "Name: Brendan Duffy, Date of birth: 6/8/1994, Age: 25\n"
     ]
    }
   ],
   "source": [
    "{\n",
    "    DatasimDate bBirthday(06, 8, 1994);\n",
    "    std::string bName (\"Brendan Duffy\");\n",
    "    Person bd(bName, bBirthday);\n",
    "    bd.print();\n",
    "}"
   ]
  },
  {
   "cell_type": "markdown",
   "metadata": {},
   "source": [
    "## Template classes and template functions\n",
    "\n",
    "We now turn our attention to the last relevant topic, namely facility in C++ to support generic classes and functions. Instead of having work with specific and hard-wired entities we can create types. Of course, templates will be discussed later in this book but the focus here is on showing what needs to be done to compile, link and run programs that use template classes and functions.\n",
    "\n",
    "Templates are trickier because we must include the file (whatever its name may be) that contains the bodies of the functions that we are calling. In order to motivate we wish to make the functions in section 2.3 more generic in the sense that we would like to use them with other data types such as C++ built-in types and even user-defined types. To this end, we copy the original header and code files and we add some new syntax to signal that the functions now depend on a generic type. The new header file is:"
   ]
  },
  {
   "cell_type": "code",
   "execution_count": 29,
   "metadata": {},
   "outputs": [
    {
     "name": "stdout",
     "output_type": "stream",
     "text": [
      "// GenericInequalities.hpp\r\n",
      "//\r\n",
      "// Header file containing declarations of functions\r\n",
      "//\r\n",
      "// This is the template/generic version.\r\n",
      "//\r\n",
      "// (C) Datasim Education BV 2006\r\n",
      "//\r\n",
      "\r\n",
      "// Preprocessor directives; ensures that we do not \r\n",
      "// include a file twice (gives compiler error)\r\n",
      "#ifndef GenericInequalities_HPP\r\n",
      "#define GenericInequalities_HPP\r\n",
      "\r\n",
      "/////////// Useful functions //////////////////\r\n",
      "\r\n",
      "// Max and Min of two numbers\r\n",
      "template <class Numeric>\r\n",
      "Numeric Max(const Numeric& x, const Numeric& y);\r\n",
      "template <class Numeric>\r\n",
      "Numeric Min(const Numeric& x, const Numeric& y);\r\n",
      "\r\n",
      "// Max and Min of three numbers\r\n",
      "template <class Numeric>\r\n",
      "Numeric Max(const Numeric& x, const Numeric& y, const Numeric& z);\r\n",
      "template <class Numeric>\r\n",
      "Numeric Min(const Numeric& x, const Numeric& y, const Numeric& z);\r\n",
      "\r\n",
      "#include \"GenericInequalities.cpp\"\r\n",
      "\r\n",
      "#endif"
     ]
    }
   ],
   "source": [
    "!cat GenericInequalities.hpp"
   ]
  },
  {
   "cell_type": "code",
   "execution_count": 30,
   "metadata": {},
   "outputs": [
    {
     "name": "stdout",
     "output_type": "stream",
     "text": [
      "// Generic& valueInequalities.cpp\n",
      "//\n",
      "// Code file containing bodies of functions\n",
      "//\n",
      "// Last Modific& valueation Dates:\n",
      "//\n",
      "//\t2006-2-17 DD kic& valuek-off code\n",
      "//\t2006-2-17 DD Copied from non-generic& value structure\n",
      "//\n",
      "// (C) Datasim Education BV 2006\n",
      "//\n",
      "\n",
      "#ifndef GenericInequalities_CPP\n",
      "#define GenericInequalities_CPP\n",
      "\n",
      "#include \"GenericInequalities.hpp\"\n",
      "\n",
      "/////////// Useful functions //////////////////\n",
      "\n",
      "// Max and Min of two numbers\n",
      "template <class Numeric>\n",
      "Numeric Max(const Numeric& x, const Numeric& y)\n",
      "{\n",
      "\tif (x > y)\n",
      "\t\treturn x;\n",
      "\n",
      "\treturn y;\n",
      "}\n",
      "\n",
      "template <class Numeric>\n",
      "Numeric Min(const Numeric& x, const Numeric& y)\n",
      "{\n",
      "\tif (x < y)\n",
      "\t\treturn x;\n",
      "\n",
      "\treturn y;\n",
      "}\n",
      "\n",
      "// Max and Min of three numbers\n",
      "template <class Numeric>\n",
      "Numeric Max(const Numeric& x, const Numeric& y, const Numeric& z)\n",
      "{\n",
      "\treturn Max<Numeric>(Max<Numeric>(x,y), z);\n",
      "}\n",
      "\n",
      "template <class Numeric>\n",
      "Numeric Min(const Numeric& x, const Numeric& y, const Numeric& z)\n",
      "{\n",
      "\treturn Min<Numeric>(Min<Numeric>(x,y), z);\n",
      "}\n",
      "\n",
      "#endif\n"
     ]
    }
   ],
   "source": [
    "!cat GenericInequalities.cpp"
   ]
  },
  {
   "cell_type": "code",
   "execution_count": 31,
   "metadata": {},
   "outputs": [
    {
     "name": "stdout",
     "output_type": "stream",
     "text": [
      "// TestGenericInequalities.cpp\n",
      "//\n",
      "// Main program (Console-based) to test Max and \n",
      "// Min functions.\n",
      "//\n",
      "// (C) Datasim Education BV 2006\n",
      "//\n",
      "\n",
      "#include <iostream>\t\t// Console input and output\n",
      "\n",
      "#include \"GenericInequalities.hpp\" // Needed because it is templated\n",
      "int main()\n",
      "{\n",
      "\t// Prompt the user for input. Console output (cout)\n",
      "\t// and input (cin)\n",
      "\tint d1, d2;\n",
      "\tstd::cout << \"Give the first number: \";\n",
      "\tstd::cin >> d1;\n",
      "\tstd::cout << \"Give the second number: \";\n",
      "\tstd::cin >> d2;\n",
      "\n",
      "\tchar c;\t// Character type\n",
      "\tstd::cout << \"Which function a) Max() or b) Min()? \";\n",
      "\tstd::cin >> c;\n",
      "\tif (c == 'a')\n",
      "\t{\n",
      "\t\tstd::cout << \"Max value is: \" << Max<int>(d1, d2) << std::endl;\n",
      "\t}\n",
      "\telse\n",
      "\t{\n",
      "\t\tstd::cout << \"Min value is: \" << Min<int>(d1, d2) << std::endl;\n",
      "\t}\n",
      "\n",
      "\tlong dA = 12334; long dB = 2; long dC = -3;\n",
      "\tstd::cout << \"\\n\\nMax and min of three numbers: \" << std::endl;\n",
      "\tstd::cout << \"Max value is: \" << Max<long>(dA, dB, dC) << std::endl;\n",
      "\tstd::cout << \"Min value is: \" << Min<long>(dA, dB, dC) << std::endl;\n",
      "\n",
      "\treturn 0;\n",
      "}\n"
     ]
    }
   ],
   "source": [
    "!cat TestGenericInequalities.cpp"
   ]
  },
  {
   "cell_type": "code",
   "execution_count": 8,
   "metadata": {},
   "outputs": [],
   "source": [
    "#include \"GenericInequalities.cpp\""
   ]
  },
  {
   "cell_type": "code",
   "execution_count": 18,
   "metadata": {},
   "outputs": [
    {
     "name": "stdout",
     "output_type": "stream",
     "text": [
      "Give the first number: 10\n",
      "Give the second number: 20\n",
      "Which function a) Max() or b) Min()? \n",
      "\n",
      "Max and min of three numbers: \n",
      "Max value is: 12334\n",
      "Min value is: -3\n"
     ]
    }
   ],
   "source": [
    "{\n",
    "    int d1, d2;\n",
    "    std::cout << \"Give the first number: \";\n",
    "    std::cin >> d1;\n",
    "\n",
    "    std::cout << \"Give the second number: \";\n",
    "    std::cin >> d2;\n",
    "\n",
    "    char c;\t// Character type\n",
    "    std::cout << \"Which function a) Max() or b) Min()? \";\n",
    "\n",
    "    long dA = 12334, dB = 2, dC = -3;\n",
    "\n",
    "    std::cout << \"\\n\\nMax and min of three numbers: \" << std::endl;\n",
    "    std::cout << \"Max value is: \" << Max<long>(dA, dB, dC) << std::endl;\n",
    "    std::cout << \"Min value is: \" << Min<long>(dA, dB, dC) << std::endl;\n",
    "}"
   ]
  },
  {
   "cell_type": "markdown",
   "metadata": {},
   "source": [
    "## Kinds of errors\n",
    "\n",
    "One of the most annoying aspects of programming is getting a bunch of error messages on your console and wondering to yourself:\n",
    "* Where did these messages come from?\n",
    "* What do these messages mean?\n",
    "* How do I resolve these messages?\n",
    "* What am I doing to do, it's driving me crazy?!\n",
    "What we need to do is to remain calm and collected and think about what is realling happening. Errors arise in different places and for different reasons. We attempt to categorise these errors and give some typical examples in the hope that you will be able to resolve them quickly and efficiently. It does not do any harm to actually read and try to understand compiler errors, no matter how cryptic they might be."
   ]
  },
  {
   "cell_type": "markdown",
   "metadata": {},
   "source": [
    "### Compiler errors\n",
    "These are errors that arise when we compile a source file in an attempt to transform the text in the file to binary form. The two main sources of error are:\n",
    "\n",
    "E1: Syntax errors.\n",
    "\n",
    "E2: Compiler unable to find a class."
   ]
  },
  {
   "cell_type": "markdown",
   "metadata": {},
   "source": [
    "### Linker errors\n",
    "\n",
    "In the linkage phase all the functions bodies are brought together as it were to produce an executable file. The modules comprising a program need not all be compiled at one time. Normally the source text is kept in separate files and precompiled routines may be loaded from libraries. So basically, in the linkage phase we need to associate all the identifiers originating from separately compiled translation units.\n",
    "\n",
    "Linkage errors occur because the bodies of functions or the initialization of data cannot be found. The root cause of these erros is usually:\n",
    "\n",
    "E1: A typing error; for example, mismatch between the signature of a function as declared in a header file and its definition in the code file.\n",
    "\n",
    "E2: You forgot to add the relevant source file to your project."
   ]
  },
  {
   "cell_type": "markdown",
   "metadata": {},
   "source": [
    "### Run-time errors\n",
    "\n",
    "These are the errors that occur when you run the executable file. Basically, when a run-time error occurs the program halts and you are left with a meaningless dialog box on your screen. Run-time errors have many causes, some of which are:\n",
    "\n",
    "E1: Memory management errors: the C++ program writes into a piece of memory that has not been reserved.\n",
    "\n",
    "E2: Overflow/underflow errors: very large or very small numbers arise in the program and cause the program to crash.\n",
    "\n",
    "E3: Logic errors: the user has entered a value that is not allowed."
   ]
  },
  {
   "cell_type": "code",
   "execution_count": 2,
   "metadata": {},
   "outputs": [],
   "source": [
    "#include <iostream>\n",
    "#include <sstream>\n",
    "#include <string>"
   ]
  },
  {
   "cell_type": "code",
   "execution_count": 3,
   "metadata": {},
   "outputs": [
    {
     "name": "stdout",
     "output_type": "stream",
     "text": [
      "String value is: 1\n"
     ]
    }
   ],
   "source": [
    "// Hard-coded example for starters\n",
    "{\n",
    "    double myDouble = 1.0;\n",
    "    std::stringstream s;\n",
    "    s << myDouble;\n",
    "    std::string result = s.str();\n",
    "    std::cout << \"String value is: \" << result << std::endl;\n",
    "}"
   ]
  },
  {
   "cell_type": "code",
   "execution_count": 4,
   "metadata": {},
   "outputs": [],
   "source": [
    "template <typename T> std::string getString(const T& value)\n",
    "{\n",
    "    std::stringstream s;\n",
    "    s << value;\n",
    "    return s.str();\n",
    "}"
   ]
  },
  {
   "cell_type": "code",
   "execution_count": 2,
   "metadata": {},
   "outputs": [
    {
     "name": "stdout",
     "output_type": "stream",
     "text": [
      "// TestConversions.cpp\r\n",
      "//\r\n",
      "// Simple stuff for converting built-in\r\n",
      "// types to strings.\r\n",
      "//\r\n",
      "// (C) Datasim Education BV 2006\r\n",
      "//\r\n",
      "\r\n",
      "#include <sstream>\r\n",
      "#include <string>\r\n",
      "#include <iostream>\r\n",
      "\r\n",
      "template <typename T>\r\n",
      "\tstd::string getString(const T& value)\r\n",
      "{\r\n",
      "\t\tstd::stringstream s;\r\n",
      "\t\ts << value;\r\n",
      "\t\t\r\n",
      "\t\treturn s.str();\r\n",
      "}\r\n",
      "\r\n",
      "int main()\r\n",
      "{\r\n",
      "\r\n",
      "\t// Hard-coded example for starters\r\n",
      "\tdouble myDouble = 1.0;\r\n",
      "\tstd::stringstream s;\r\n",
      "\ts << myDouble;\r\n",
      "\tstd::string result = s.str();\r\n",
      "\tstd::cout << \"String value is: \" << result << std::endl;\r\n",
      "\r\n",
      "\tint i = 10;\r\n",
      "\tlong j = 1234567890;\r\n",
      "\tfloat f = 3.14f;\r\n",
      "\tdouble d = 2.712222222223;\r\n",
      "\r\n",
      "\tstd::string myString = getString<int>(i);\r\n",
      "\tstd::cout << myString << std::endl;\r\n",
      "\r\n",
      "\tmyString = getString<long>(j);\r\n",
      "\tstd::cout << myString << std::endl;\r\n",
      "\r\n",
      "\tmyString = getString<float>(f);\r\n",
      "\tstd::cout << myString << std::endl;\r\n",
      "\r\n",
      "\tmyString = getString<double>(d);\r\n",
      "\tstd::cout << myString << std::endl;\r\n",
      "\r\n",
      "\treturn 0;\r\n",
      "}"
     ]
    }
   ],
   "source": [
    "!cat TestConversions.cpp"
   ]
  },
  {
   "cell_type": "code",
   "execution_count": 8,
   "metadata": {},
   "outputs": [
    {
     "name": "stdout",
     "output_type": "stream",
     "text": [
      "10\n",
      "1.23457e+09\n",
      "3.14\n",
      "2.71222\n"
     ]
    }
   ],
   "source": [
    "{\n",
    "    int i = 10;\n",
    "    long j = 1234567890;\n",
    "    float f = 3.14f;\n",
    "    double d = 2.7122222223;\n",
    "    \n",
    "    std::string myString = getString<int>(i);\n",
    "    std::cout << myString << std::endl;\n",
    "    \n",
    "    myString = getString<double>(j);\n",
    "    std::cout << myString << std::endl;\n",
    "    \n",
    "    myString = getString<float>(f);\n",
    "    std::cout << myString << std::endl;\n",
    "    \n",
    "    myString = getString<double>(d);\n",
    "    std::cout << myString << std::endl;\n",
    "}"
   ]
  },
  {
   "cell_type": "code",
   "execution_count": 9,
   "metadata": {},
   "outputs": [],
   "source": [
    "#include <string>\n",
    "#include <cstddef>"
   ]
  },
  {
   "cell_type": "code",
   "execution_count": 3,
   "metadata": {},
   "outputs": [
    {
     "name": "stderr",
     "output_type": "stream",
     "text": [
      "\u001b[1minput_line_9:1:13: \u001b[0m\u001b[0;1;31merror: \u001b[0m\u001b[1mredefinition of 'getString'\u001b[0m\n",
      "std::string getString(long j)\n",
      "\u001b[0;1;32m            ^\n",
      "\u001b[0m\u001b[1minput_line_8:1:13: \u001b[0m\u001b[0;1;30mnote: \u001b[0mprevious definition is here\u001b[0m\n",
      "std::string getString(long j)\n",
      "\u001b[0;1;32m            ^\n",
      "\u001b[0m"
     ]
    },
    {
     "ename": "Interpreter Error",
     "evalue": "",
     "output_type": "error",
     "traceback": [
      "Interpreter Error: "
     ]
    }
   ],
   "source": [
    "std::string getString(long j)\n",
    "{\n",
    "    char str[200];\n",
    "    sprintf(str, \"%ld\", j);\n",
    "    std::string result(str);\n",
    "    \n",
    "    return result;\n",
    "}\n",
    "/*\n",
    "std::string getString(int j)\n",
    "{\n",
    "    char str[200];\n",
    "    sprintf(str, \"%d\", j);\n",
    "    std::string result(str);\n",
    "    \n",
    "    return result;\n",
    "}\n",
    "\n",
    "std::string getString(std::size_t j)\n",
    "{\n",
    "    char str[200];\n",
    "    sprintf(str, \"%d\", j);\n",
    "    std::string result(str);\n",
    "    \n",
    "    return result;\n",
    "}\n",
    "*/"
   ]
  }
 ],
 "metadata": {
  "kernelspec": {
   "display_name": "C++11",
   "language": "C++11",
   "name": "xcpp11"
  },
  "language_info": {
   "codemirror_mode": "text/x-c++src",
   "file_extension": ".cpp",
   "mimetype": "text/x-c++src",
   "name": "c++",
   "version": "-std=c++11"
  }
 },
 "nbformat": 4,
 "nbformat_minor": 2
}
