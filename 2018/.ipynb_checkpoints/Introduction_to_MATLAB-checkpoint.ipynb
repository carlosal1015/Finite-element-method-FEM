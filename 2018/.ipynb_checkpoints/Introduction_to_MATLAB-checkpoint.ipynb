{
 "cells": [
  {
   "cell_type": "markdown",
   "metadata": {},
   "source": [
    "Introducción a MATLAB\n",
    "===\n",
    "Matlab que derivada de su nombre *laboratorio de matrices*, es un lenguaje de computación \n",
    "\n",
    "[Recurso online](https://matlabacademy.mathworks.com/R2018b/es/portal.html?course=gettingstarted) (es necesario tener conexión a internet e identificarse con su cuenta asociada a MATLAB)."
   ]
  }
 ],
 "metadata": {
  "kernelspec": {
   "display_name": "Matlab",
   "language": "matlab",
   "name": "matlab"
  },
  "language_info": {
   "codemirror_mode": "octave",
   "file_extension": ".m",
   "help_links": [
    {
     "text": "MetaKernel Magics",
     "url": "https://github.com/calysto/metakernel/blob/master/metakernel/magics/README.md"
    }
   ],
   "mimetype": "text/x-octave",
   "name": "matlab",
   "version": "0.16.1"
  }
 },
 "nbformat": 4,
 "nbformat_minor": 2
}
