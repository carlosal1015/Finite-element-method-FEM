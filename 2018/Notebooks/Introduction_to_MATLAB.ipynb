{
 "cells": [
  {
   "cell_type": "markdown",
   "metadata": {},
   "source": [
    "Teoría de elementos finitos y su implementación (10/12/2018)\n",
    "===\n",
    "## 1. Introducción a MATLAB\n",
    "MATLAB que derivada de su nombre *laboratorio de matrices*, es un lenguaje de computación desarrollado para el procesamiento de datos en forma de arreglo de números. MATLAB integra computación y visualización y provee diversidad de instrucciones y funciones que pueden ser usados de una manera interactiva para obtener soluciones numéricas para una variedad de problemas de ingeniería.\n",
    "\n",
    "[Recurso online](https://matlabacademy.mathworks.com/R2018b/es/portal.html?course=gettingstarted) (es necesario tener conexión a internet e identificarse con su cuenta asociada a MATLAB).\n",
    "\n",
    "[Introduction to MATLAB -- MIT](https://ocw.mit.edu/courses/electrical-engineering-and-computer-science/6-094-introduction-to-matlab-january-iap-2010/)\n",
    "\n",
    "[MATLAB Primer](https://www.mathworks.com/help/pdf_doc/matlab/getstart.pdf)\n",
    "\n",
    "[Documentación oficial en PDF](https://www.mathworks.com/help/pdf_doc/matlab/index.html)\n",
    "\n",
    "[Math Modeling Computing and Communication (SIAM)](https://m3challenge.siam.org/sites/default/files/uploads/siam-technical-guidebook-web.pdf)\n",
    "\n",
    "## Cómo leer los cuadernos\n",
    "\n",
    "Estos cuadernos están conformados por celdas, algunas de ellas están en formato [**Markdown**](https://daringfireball.net/projects/markdown/) y otras como para ejecutar en el prompt de MATLAB. (Estas últimas las puede identificar porque al lado izquierdo aparece `In [x]` donde $x\\in\\mathbb{N}$.)\n",
    "\n",
    "> **Nota:** MATLAB distingue entre mayúsculas y minúsculas, lo que significa que `a + B` no es lo mismo que `a + b`. "
   ]
  },
  {
   "cell_type": "markdown",
   "metadata": {},
   "source": [
    "### 1.1. Expresiones numéricas"
   ]
  },
  {
   "cell_type": "code",
   "execution_count": 1,
   "metadata": {},
   "outputs": [
    {
     "name": "stdout",
     "output_type": "stream",
     "text": [
      "\n",
      "ans =\n",
      "\n",
      "     7\n",
      "\n",
      "\n",
      "ans =\n",
      "\n",
      "    7.1000\n",
      "\n",
      "\n",
      "ans =\n",
      "\n",
      "    7.9200\n",
      "\n"
     ]
    }
   ],
   "source": [
    "7\n",
    "7.1\n",
    "7.92\n",
    "42.13; % No hay réplica."
   ]
  },
  {
   "cell_type": "markdown",
   "metadata": {},
   "source": [
    "#### 1.1.1. Operaciones aritméticas con escalares\n",
    "\n",
    "$(+,-,\\ast,/,\\hat{})$ adición, sustracción, multiplicación, división y exponenciación. Así por ejemplo."
   ]
  },
  {
   "cell_type": "code",
   "execution_count": 2,
   "metadata": {},
   "outputs": [
    {
     "name": "stdout",
     "output_type": "stream",
     "text": [
      "\n",
      "ans =\n",
      "\n",
      "   11.6667\n",
      "\n"
     ]
    }
   ],
   "source": [
    "2/3 + 4*5 - 3^2"
   ]
  },
  {
   "cell_type": "markdown",
   "metadata": {},
   "source": [
    "> Nota: `clc` y `clear` son comandos para limpiar la consola y borrar las variables, respectivamente."
   ]
  },
  {
   "cell_type": "markdown",
   "metadata": {},
   "source": [
    "#### 1.1.2. Asignación de valores numéricos a nombres de variables"
   ]
  },
  {
   "cell_type": "code",
   "execution_count": 3,
   "metadata": {},
   "outputs": [
    {
     "name": "stdout",
     "output_type": "stream",
     "text": [
      "\n",
      "y =\n",
      "\n",
      "    12\n",
      "\n",
      "\n",
      "z =\n",
      "\n",
      "   289\n",
      "\n"
     ]
    }
   ],
   "source": [
    "x = 5;\n",
    "y = 2 + 2*x\n",
    "z = (x + y)^2"
   ]
  },
  {
   "cell_type": "markdown",
   "metadata": {},
   "source": [
    "#### 1.1.3. Números complejos"
   ]
  },
  {
   "cell_type": "code",
   "execution_count": 4,
   "metadata": {},
   "outputs": [
    {
     "name": "stdout",
     "output_type": "stream",
     "text": [
      "\n",
      "z =\n",
      "\n",
      "   2.0000 - 3.0000i\n",
      "\n"
     ]
    }
   ],
   "source": [
    "z = 2 - 3*i % Otra expresión válida es z = 2+5j"
   ]
  },
  {
   "cell_type": "markdown",
   "metadata": {},
   "source": [
    "#### 1.1.4. Funciones matemáticas\n",
    "Hay una lista grande de funciones matemáticas que son reservadas por MATLAB. Listemos algunas de ellas\n",
    "\n",
    "|Funciones matemáticas|Sintáxis en MATLAB|\n",
    "|:-------------------:|:----------------:|\n",
    "|Valor absoluto de $x=|x|$|`abs(x)`|\n",
    "|Raíz cuadrada de $x=\\sqrt{x}$ |`sqrt(x)`|\n",
    "|Seno de $x=\\mathrm{sen}(x)$|`sin(x)`|\n",
    "|Coseno de $x=\\cos x$|`cos(x)`|\n",
    "|Coseno hiperbólico de $x=\\cosh x$|`cosh(x)`|\n",
    "|Exponencial de $x=\\exp x$|`exp(x)`|\n",
    "|Logaritmo natural de $x=\\ln x$|`log(x)`|\n",
    "|Logaritmo en base $10$ de $x=\\log_{10} x$|`log10(x)`|\n",
    "|Arcoseno de $x=\\mathrm{asen} x=\\mathrm{sen}^{-1}(x)$|`asin(x)`|\n",
    "|Arcocoseno hiperbólico de $x=\\mathrm{acosh} x$|`acosh(x)`|"
   ]
  },
  {
   "cell_type": "code",
   "execution_count": 5,
   "metadata": {},
   "outputs": [
    {
     "name": "stdout",
     "output_type": "stream",
     "text": [
      "\n",
      "z =\n",
      "\n",
      "  -0.3316 - 3.1416i\n",
      "\n"
     ]
    }
   ],
   "source": [
    "clear all\n",
    "x = 4;\n",
    "z = sin(x) - log(cos(x))"
   ]
  },
  {
   "cell_type": "markdown",
   "metadata": {},
   "source": [
    "#### 1.1.5. Formatos de salida\n",
    "* `format short`.\n",
    "* `format long`."
   ]
  },
  {
   "cell_type": "code",
   "execution_count": 6,
   "metadata": {},
   "outputs": [
    {
     "name": "stdout",
     "output_type": "stream",
     "text": [
      "El valor de pi es:    3.1416\n",
      "\n",
      "El valor de cos(1.57) es:   7.9633e-04\n",
      "\n",
      "El valor de pi es:   3.141592653589793\n",
      "\n",
      "El valor de cos(1.57) es:     7.963267107332633e-04\n",
      "\n"
     ]
    }
   ],
   "source": [
    "format short\n",
    "fprintf('El valor de pi es:'); disp(pi);\n",
    "fprintf('El valor de cos(1.57) es:'); disp(cos(1.57));\n",
    "format long\n",
    "fprintf('El valor de pi es:'); disp(pi);\n",
    "fprintf('El valor de cos(1.57) es:'); disp(cos(1.57));"
   ]
  },
  {
   "cell_type": "markdown",
   "metadata": {},
   "source": [
    "#### 1.1.6. Vectores\n",
    "Creación de vectores fila."
   ]
  },
  {
   "cell_type": "code",
   "execution_count": 7,
   "metadata": {},
   "outputs": [
    {
     "name": "stdout",
     "output_type": "stream",
     "text": [
      "\n",
      "u =\n",
      "\n",
      "     2     3     4     5\n",
      "\n"
     ]
    }
   ],
   "source": [
    "u = [2 3 4 5] % Sin separación de comas."
   ]
  },
  {
   "cell_type": "markdown",
   "metadata": {},
   "source": [
    "o equivalentemente"
   ]
  },
  {
   "cell_type": "code",
   "execution_count": 8,
   "metadata": {},
   "outputs": [
    {
     "name": "stdout",
     "output_type": "stream",
     "text": [
      "\n",
      "y =\n",
      "\n",
      "  Columns 1 through 3\n",
      "\n",
      "   2.000000000000000   2.100000000000000   2.200000000000000\n",
      "\n",
      "  Columns 4 through 6\n",
      "\n",
      "   2.300000000000000   2.400000000000000   2.500000000000000\n",
      "\n",
      "  Columns 7 through 9\n",
      "\n",
      "   2.600000000000000   2.700000000000000   2.800000000000000\n",
      "\n",
      "  Columns 10 through 11\n",
      "\n",
      "   2.900000000000000   3.000000000000000\n",
      "\n",
      "\n",
      "z =\n",
      "\n",
      "     5     4     3     2     1\n",
      "\n",
      "\n",
      "p =\n",
      "\n",
      "  Column 1\n",
      "\n",
      "  1.000000000000000 + 0.000000000000000i\n",
      "\n",
      "  Column 2\n",
      "\n",
      "  7.000000000000000 + 3.000000000000000i\n",
      "\n",
      "  Column 3\n",
      "\n",
      "  4.000000000000000 + 0.000000000000000i\n",
      "\n",
      "  Column 4\n",
      "\n",
      "  3.000000000000000 - 5.000000000000000i\n",
      "\n"
     ]
    }
   ],
   "source": [
    "u = [2, 3, 4, 5]; % Con separación de comas.\n",
    "x = 2:5;\n",
    "y = 2:0.1:3\n",
    "z = 5:-1:1\n",
    "p = [1, 7 + 3i, 4, 3 - 5i]"
   ]
  },
  {
   "cell_type": "markdown",
   "metadata": {},
   "source": [
    "Creación de vectores columna"
   ]
  },
  {
   "cell_type": "code",
   "execution_count": 9,
   "metadata": {},
   "outputs": [
    {
     "name": "stdout",
     "output_type": "stream",
     "text": [
      "\n",
      "w =\n",
      "\n",
      "     2\n",
      "     3\n",
      "     4\n",
      "     5\n",
      "\n",
      "\n",
      "m =\n",
      "\n",
      "  1.000000000000000 + 0.000000000000000i\n",
      "  7.000000000000000 - 3.000000000000000i\n",
      "  4.000000000000000 + 0.000000000000000i\n",
      "  3.000000000000000 + 5.000000000000000i\n",
      "\n",
      "\n",
      "q =\n",
      "\n",
      "  1.000000000000000 + 0.000000000000000i\n",
      "  7.000000000000000 + 3.000000000000000i\n",
      "  4.000000000000000 + 0.000000000000000i\n",
      "  3.000000000000000 - 5.000000000000000i\n",
      "\n"
     ]
    }
   ],
   "source": [
    "w = u'\n",
    "m = p'\n",
    "q = conj(p')"
   ]
  },
  {
   "cell_type": "markdown",
   "metadata": {},
   "source": [
    "#### 1.1.7. Matrices\n",
    "Crear una matriz de $3\\times4$."
   ]
  },
  {
   "cell_type": "code",
   "execution_count": 10,
   "metadata": {},
   "outputs": [
    {
     "name": "stdout",
     "output_type": "stream",
     "text": [
      "\n",
      "A =\n",
      "\n",
      "  Columns 1 through 3\n",
      "\n",
      "   2.000000000000000   3.000000000000000   5.000000000000000\n",
      "   0.200000000000000   4.000000000000000   5.000000000000000\n",
      "                   0   1.000000000000000   5.000000000000000\n",
      "\n",
      "  Column 4\n",
      "\n",
      "   6.000000000000000\n",
      "   1.000000000000000\n",
      "   2.000000000000000\n",
      "\n",
      "\n",
      "m =\n",
      "\n",
      "     3\n",
      "\n",
      "\n",
      "n =\n",
      "\n",
      "     4\n",
      "\n"
     ]
    }
   ],
   "source": [
    "A = [2 3 5 6; .2 4 5 1; 0 1 5 2]\n",
    "[m, n] = size(A) % Orden de la matriz A."
   ]
  },
  {
   "cell_type": "markdown",
   "metadata": {},
   "source": [
    "#### 1.1.8. Generación de matrices especiales"
   ]
  },
  {
   "cell_type": "code",
   "execution_count": 11,
   "metadata": {},
   "outputs": [
    {
     "name": "stdout",
     "output_type": "stream",
     "text": [
      "\n",
      "X =\n",
      "\n",
      "     1     1     1     1\n",
      "     1     1     1     1\n",
      "     1     1     1     1\n",
      "     1     1     1     1\n",
      "\n",
      "\n",
      "Z =\n",
      "\n",
      "     0     0     0     0\n",
      "     0     0     0     0\n",
      "     0     0     0     0\n",
      "\n",
      "\n",
      "d =\n",
      "\n",
      "     1     0     0     0\n",
      "     0     1     0     0\n",
      "     0     0     1     0\n",
      "     0     0     0     1\n",
      "\n"
     ]
    }
   ],
   "source": [
    "X = ones(n, n) % Matriz de unos.\n",
    "Z = zeros(m, n) % Matriz de ceros.\n",
    "d = eye(n, n) % Matriz identidad."
   ]
  },
  {
   "cell_type": "markdown",
   "metadata": {},
   "source": [
    "#### 1.1.9. Operaciones con matrices $A+B$, $A-B$, $A\\ast B$"
   ]
  },
  {
   "cell_type": "code",
   "execution_count": 12,
   "metadata": {},
   "outputs": [
    {
     "name": "stdout",
     "output_type": "stream",
     "text": [
      "\n",
      "B =\n",
      "\n",
      "    16     2     3    13\n",
      "     5    11    10     8\n",
      "     9     7     6    12\n",
      "     4    14    15     1\n",
      "\n"
     ]
    }
   ],
   "source": [
    "B = magic(4)"
   ]
  },
  {
   "cell_type": "code",
   "execution_count": 13,
   "metadata": {},
   "outputs": [
    {
     "name": "stdout",
     "output_type": "stream",
     "text": [
      " MAGIC  Magic square.\n",
      "    MAGIC(N) is an N-by-N matrix constructed from the integers\n",
      "    1 through N^2 with equal row, column, and diagonal sums.\n",
      "    Produces valid magic squares for all N > 0 except N = 2.\n",
      "\n",
      "    Reference page in Doc Center\n",
      "       doc magic\n",
      "\n",
      "\n"
     ]
    }
   ],
   "source": [
    "help(\"magic\") % Descripción corta del comando magic."
   ]
  },
  {
   "cell_type": "markdown",
   "metadata": {},
   "source": [
    "Manipulación con elementos de una matriz"
   ]
  },
  {
   "cell_type": "code",
   "execution_count": 14,
   "metadata": {},
   "outputs": [
    {
     "name": "stdout",
     "output_type": "stream",
     "text": [
      "\n",
      "B =\n",
      "\n",
      "    16     2     3    13\n",
      "    25    55    50    40\n",
      "     9     7     6    12\n",
      "     4    14    15     1\n",
      "\n",
      "\n",
      "B_1 =\n",
      "\n",
      "     3\n",
      "    50\n",
      "     6\n",
      "    15\n",
      "\n",
      "\n",
      "C =\n",
      "\n",
      "    15\n",
      "    95\n",
      "    19\n",
      "    15\n",
      "\n"
     ]
    }
   ],
   "source": [
    "B(2, :) = 5 * B(2, :)\n",
    "% Nueva matriz B. Multiplicación por 5 a la fila 2 de la matriz B.\n",
    "B_1 = B(:, 3)\n",
    "% Obtención de la tercera columna de B.\n",
    "C = B(:, 2) + B(:, 4)\n",
    "% Suma de las columnas 2 y 4 de la nueva matriz B."
   ]
  },
  {
   "cell_type": "markdown",
   "metadata": {},
   "source": [
    "#### 1.1.10. $P$-norma de una matriz\n",
    "Por ejemplo:\n",
    "```m\n",
    "norm(x, p)\n",
    "norm(x, Inf)\n",
    "```"
   ]
  },
  {
   "cell_type": "code",
   "execution_count": 15,
   "metadata": {},
   "outputs": [
    {
     "name": "stdout",
     "output_type": "stream",
     "text": [
      " NORM   Matrix or vector norm.\n",
      "      NORM(X,2) returns the 2-norm of X.\n",
      " \n",
      "      NORM(X) is the same as NORM(X,2).\n",
      " \n",
      "      NORM(X,1) returns the 1-norm of X.\n",
      " \n",
      "      NORM(X,Inf) returns the infinity norm of X.\n",
      " \n",
      "      NORM(X,'fro') returns the Frobenius norm of X.\n",
      " \n",
      "    In addition, for vectors...\n",
      " \n",
      "      NORM(V,P) returns the p-norm of V defined as SUM(ABS(V).^P)^(1/P).\n",
      " \n",
      "      NORM(V,Inf) returns the largest element of ABS(V).\n",
      " \n",
      "      NORM(V,-Inf) returns the smallest element of ABS(V).\n",
      " \n",
      "    By convention, NaN is returned if X or V contains NaNs.\n",
      " \n",
      "    See also COND, RCOND, CONDEST, NORMEST, HYPOT.\n",
      "\n",
      "    Reference page in Doc Center\n",
      "       doc norm\n",
      "\n",
      "    Other functions named norm\n",
      "\n",
      "       codistributed/norm    DynamicSystem/norm    mfilt/norm    tall/norm\n",
      "       dfilt/norm            gpuArray/norm         sym/norm\n",
      "\n"
     ]
    }
   ],
   "source": [
    "help norm"
   ]
  },
  {
   "cell_type": "markdown",
   "metadata": {},
   "source": [
    "#### 1.1.11. Determinante e inversa de una matriz\n",
    "```m\n",
    "det(A)\n",
    "inv(A)\n",
    "A\\B\n",
    "A/B \n",
    "``` \n",
    "> $A\\backslash B$ significa $A^{-1}B$.\n",
    "> \n",
    "> $A/B$ significa $AB^{-1}$.\n",
    "\n",
    "#### 1.1.12. Operación dot $\\left(\\cdot\\right)$\n",
    "Sean las $X$ y $M$ dos matrices del mismo orden. Las siguientes instrucciones realizan operaciones elemento a elemento.\n",
    "```m\n",
    "Zm = X .* M\n",
    "Zd = X ./ M\n",
    "Ze = X .^ M\n",
    "```\n",
    "Además, si `x0` y `m0` son números reales se tiene los siguientes casos particulares:\n",
    "```m\n",
    "Zd = x0 ./ M\n",
    "Ze = x0 .^ M\n",
    "Ze = M .^ m0\n",
    "```"
   ]
  },
  {
   "cell_type": "markdown",
   "metadata": {},
   "source": [
    "### 1.2 Ploteando en MATLAB con el comando `plot`"
   ]
  },
  {
   "cell_type": "markdown",
   "metadata": {},
   "source": [
    "1. Usando el comando `plot(x,y,'o')`, `plot(x,y,'ro-')` plotear\n",
    "\n",
    "    a. los puntos: $(2,3), (4,5), (9,5)$.\n",
    "\n",
    "    b. la poligonal que une los puntos $(2,3), (4,5), (9,5)$.\n",
    "\n",
    "2. Graficar la función $f(x)=x^3+2x-1$ en el intervalo $-2\\le x\\le 2$."
   ]
  },
  {
   "cell_type": "code",
   "execution_count": 16,
   "metadata": {},
   "outputs": [
    {
     "data": {
      "image/png": "[encoded data removed]",
      "text/plain": [
       "<IPython.core.display.Image object>"
      ]
     },
     "metadata": {},
     "output_type": "display_data"
    }
   ],
   "source": [
    "% Pregunta 1\n",
    "% Parte a\n",
    "scatter([2 4 9], [3 5 5], 'filled');"
   ]
  },
  {
   "cell_type": "code",
   "execution_count": 17,
   "metadata": {},
   "outputs": [
    {
     "data": {
      "image/png": "[encoded data removed]",
      "text/plain": [
       "<IPython.core.display.Image object>"
      ]
     },
     "metadata": {},
     "output_type": "display_data"
    }
   ],
   "source": [
    "% Parte b\n",
    "syms x y\n",
    "plot( [2 4 9], [3 5 5] );\n",
    "xlabel('x','Interpreter','latex');\n",
    "ylabel('y','Interpreter','latex');"
   ]
  },
  {
   "cell_type": "code",
   "execution_count": 18,
   "metadata": {},
   "outputs": [],
   "source": [
    "doc fplot"
   ]
  },
  {
   "cell_type": "code",
   "execution_count": 19,
   "metadata": {},
   "outputs": [
    {
     "data": {
      "image/png": "[encoded data removed]",
      "text/plain": [
       "<IPython.core.display.Image object>"
      ]
     },
     "metadata": {},
     "output_type": "display_data"
    }
   ],
   "source": [
    "% Pregunta 2\n",
    "syms x y\n",
    "fplot( @(x) x.^3 + 2.*x - 1, [-2 2] )\n",
    "xlabel('$x$','Interpreter','latex');\n",
    "ylabel('$f(x)=x^3+2x-1$','Interpreter','latex');\n",
    "legend('show','Location','best');\n",
    "title('$x\\mapsto x^3+2x-1$','Interpreter','latex');"
   ]
  },
  {
   "cell_type": "markdown",
   "metadata": {},
   "source": [
    "3. Muestre las gráficas de las funciones en un mismo plano las gráficas de las funciones $$ f(x)=x^3+2x-1,\\qquad g(x)=x^2+1$$ en el intervalo $-2\\le x\\le 2$."
   ]
  },
  {
   "cell_type": "code",
   "execution_count": 20,
   "metadata": {},
   "outputs": [
    {
     "data": {
      "image/png": "[encoded data removed]",
      "text/plain": [
       "<IPython.core.display.Image object>"
      ]
     },
     "metadata": {},
     "output_type": "display_data"
    }
   ],
   "source": [
    "% Pregunta 3\n",
    "I = [-2 2]; % Intervalo\n",
    "fplot( @(x) x.^3 + 2.*x - 1, I, 'r+', 'LineWidth', 2);\n",
    "hold on\n",
    "fplot( @(x) x.^2 + 1, I, 'b*', 'LineWidth', 2)\n",
    "xlabel('$x$','Interpreter','latex');\n",
    "ylabel('$f(x)=x^3+2x-1\\quad g(x)=x^2+1$','Interpreter','latex');\n",
    "legend('show','Location','best');\n",
    "title('$x\\mapsto x^3+2x-1\\quad x\\mapsto x^2+1$','Interpreter','latex');\n",
    "hold off"
   ]
  },
  {
   "cell_type": "markdown",
   "metadata": {},
   "source": [
    "### 1.3 $M$-file"
   ]
  },
  {
   "cell_type": "markdown",
   "metadata": {},
   "source": [
    "1. script `M-file`\n",
    "\n",
    "Crear un script `M-file` para graficar las funciones $f(x)=kx^2-1$ cuando $k\\in\\{1,2,3\\}$ en el intervalo $-2\\le x\\le 2$.\n",
    "\n",
    "2. function `M-file`\n",
    "\n",
    "Crear una función `M-file` para la función $f(x) = x^2 - 1$. Luego, ejecute:\n",
    "\n",
    "    a. f(3).\n",
    "    b. f(x), cuando x = 1:5."
   ]
  },
  {
   "cell_type": "code",
   "execution_count": 21,
   "metadata": {},
   "outputs": [
    {
     "data": {
      "image/png": "[encoded data removed]",
      "text/plain": [
       "<IPython.core.display.Image object>"
      ]
     },
     "metadata": {},
     "output_type": "display_data"
    }
   ],
   "source": [
    "% Programa script.m\n",
    "% Parte a\n",
    "for k = 1:3\n",
    "    fplot( @(x) k * x.^2 + 1, [-2 2] )\n",
    "    hold on\n",
    "end\n",
    "xlabel('$x$','Interpreter','latex');\n",
    "ylabel('$f(x)=k\\cdot x^2x+1$','Interpreter','latex');\n",
    "legend('x^2+1','2x^2+1','3x^2+1','Location','best');\n",
    "title('$x\\mapsto k\\cdot x^2+1,\\quad k\\in\\{1,2,3\\}$','Interpreter','latex');\n",
    "hold off"
   ]
  },
  {
   "cell_type": "code",
   "execution_count": 22,
   "metadata": {},
   "outputs": [
    {
     "name": "stdout",
     "output_type": "stream",
     "text": [
      "Created file '/home/carlosal1015/GitHub/Finite-element-method-FEM/2018/Notebooks/evalfun.m'.\n"
     ]
    }
   ],
   "source": [
    "%%file evalfun.m\n",
    "function y = evalfun(x)\n",
    "% evalfun calcula el valor $x\\mapsto x^2 -1$\n",
    "% https://www.mathworks.com/matlabcentral/answers/25568-defining-functions\n",
    "    if ~isnumeric(x)\n",
    "        error('Debe ingresar un número real.')\n",
    "    end\n",
    "y = x^2 - 1;\n",
    "end"
   ]
  },
  {
   "cell_type": "code",
   "execution_count": 23,
   "metadata": {},
   "outputs": [
    {
     "name": "stdout",
     "output_type": "stream",
     "text": [
      "El valor de f(3) es  8."
     ]
    }
   ],
   "source": [
    "% Parte a\n",
    "fprintf('El valor de f(3) es %2.0f.', evalfun(3))"
   ]
  },
  {
   "cell_type": "code",
   "execution_count": 24,
   "metadata": {},
   "outputs": [
    {
     "name": "stdout",
     "output_type": "stream",
     "text": [
      "El valor de f(1)= 0.\n",
      "El valor de f(2)= 3.\n",
      "El valor de f(3)= 8.\n",
      "El valor de f(4)=15.\n",
      "El valor de f(5)=24.\n"
     ]
    }
   ],
   "source": [
    "% Parte b\n",
    "for z = 1:5\n",
    "    fprintf('El valor de f(%i)=%2.0f.\\n', z, evalfun(z))\n",
    "end"
   ]
  }
 ],
 "metadata": {
  "kernelspec": {
   "display_name": "Matlab",
   "language": "matlab",
   "name": "matlab"
  },
  "language_info": {
   "codemirror_mode": "octave",
   "file_extension": ".m",
   "help_links": [
    {
     "text": "MetaKernel Magics",
     "url": "https://github.com/calysto/metakernel/blob/master/metakernel/magics/README.md"
    }
   ],
   "mimetype": "text/x-octave",
   "name": "matlab",
   "version": "0.16.1"
  }
 },
 "nbformat": 4,
 "nbformat_minor": 2
}
