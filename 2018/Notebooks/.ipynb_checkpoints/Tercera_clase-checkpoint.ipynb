{
 "cells": [
  {
   "cell_type": "code",
   "execution_count": 14,
   "metadata": {},
   "outputs": [
    {
     "name": "stdout",
     "output_type": "stream",
     "text": [
      "\n",
      "M_1 =\n",
      "\n",
      "     0     0     0     0     0\n",
      "     0     0     0     0     0\n",
      "     0     0     0     0     0\n",
      "     0     0     0     0     0\n",
      "     0     0     0     0     0\n",
      "\n",
      "\n",
      "A_1 =\n",
      "\n",
      "     1     3\n",
      "    -3     1\n",
      "\n"
     ]
    }
   ],
   "source": [
    "M_1 = zeros(5)\n",
    "A_1 = [1,3;-3,1]"
   ]
  },
  {
   "cell_type": "code",
   "execution_count": 15,
   "metadata": {},
   "outputs": [
    {
     "name": "stdout",
     "output_type": "stream",
     "text": [
      "\n",
      "M_1 =\n",
      "\n",
      "     1     3     0     0     0\n",
      "    -3     1     0     0     0\n",
      "     0     0     0     0     0\n",
      "     0     0     0     0     0\n",
      "     0     0     0     0     0\n",
      "\n"
     ]
    }
   ],
   "source": [
    "M_1(1:2,1:2) = M_1(1:2,1:2) + A_1"
   ]
  },
  {
   "cell_type": "code",
   "execution_count": 11,
   "metadata": {},
   "outputs": [
    {
     "name": "stdout",
     "output_type": "stream",
     "text": [
      " ZEROS  Zeros array.\n",
      "    ZEROS(N) is an N-by-N matrix of zeros.\n",
      " \n",
      "    ZEROS(M,N) or ZEROS([M,N]) is an M-by-N matrix of zeros.\n",
      " \n",
      "    ZEROS(M,N,P,...) or ZEROS([M N P ...]) is an M-by-N-by-P-by-... array of\n",
      "    zeros.\n",
      " \n",
      "    ZEROS(SIZE(A)) is the same size as A and all zeros.\n",
      " \n",
      "    ZEROS with no arguments is the scalar 0.\n",
      " \n",
      "    ZEROS(..., CLASSNAME) is an array of zeros of class specified by the\n",
      "    string CLASSNAME.\n",
      " \n",
      "    ZEROS(..., 'like', Y) is an array of zeros with the same data type, sparsity,\n",
      "    and complexity (real or complex) as the numeric variable Y.\n",
      " \n",
      "    Note: The size inputs M, N, and P... should be nonnegative integers. \n",
      "    Negative integers are treated as 0.\n",
      " \n",
      "    Example:\n",
      "       x = zeros(2,3,'int8');\n",
      " \n",
      "    See also EYE, ONES.\n",
      "\n",
      "    Reference page in Doc Center\n",
      "       doc zeros\n",
      "\n",
      "    Other functions named zeros\n",
      "\n",
      "       codistributed/zeros      codistributor2dbc/zeros    gpuArray/zeros\n",
      "       codistributor1d/zeros    distributed/zeros\n",
      "\n"
     ]
    }
   ],
   "source": [
    "help(\"zeros\")"
   ]
  },
  {
   "cell_type": "code",
   "execution_count": 16,
   "metadata": {},
   "outputs": [
    {
     "name": "stdout",
     "output_type": "stream",
     "text": [
      "\n",
      "M_1 =\n",
      "\n",
      "     1     3     0     0     0\n",
      "    -3     1     0     0     0\n",
      "     0     0     0     0     0\n",
      "     0     0     0     1     3\n",
      "     0     0     0    -3     1\n",
      "\n"
     ]
    }
   ],
   "source": [
    "M_1(4:5,4:5) = M_1(4:5,4:5)+A_1"
   ]
  },
  {
   "cell_type": "code",
   "execution_count": 13,
   "metadata": {},
   "outputs": [
    {
     "name": "stdout",
     "output_type": "stream",
     "text": [
      "\n",
      "M_2 =\n",
      "\n",
      "     0     0     0     0     0\n",
      "     0     0     0     0     0\n",
      "     0     0     0     0     0\n",
      "     0     0     0     0     0\n",
      "     0     0     0     0     0\n",
      "\n",
      "\n",
      "A_2 =\n",
      "\n",
      "     1     3\n",
      "    -3     1\n",
      "\n",
      "\n",
      "M_2 =\n",
      "\n",
      "     1     3     0     0     0\n",
      "    -3     1     0     0     0\n",
      "     0     0     0     0     0\n",
      "     0     0     0     0     0\n",
      "     0     0     0     0     0\n",
      "\n",
      "\n",
      "M_2 =\n",
      "\n",
      "     1     3     0     0     0\n",
      "    -3     2     3     0     0\n",
      "     0    -3     1     0     0\n",
      "     0     0     0     0     0\n",
      "     0     0     0     0     0\n",
      "\n"
     ]
    }
   ],
   "source": [
    "M_2 = zeros(5)\n",
    "A_2 = [1,3;-3,1]\n",
    "M_2(1:2,1:2) = M_2(1:2,1:2)+A_2\n",
    "M_2(2:3,2:3) = M_2(2:3,2:3)+A_2"
   ]
  },
  {
   "cell_type": "code",
   "execution_count": 18,
   "metadata": {},
   "outputs": [
    {
     "name": "stdout",
     "output_type": "stream",
     "text": [
      "\n",
      "M_3 =\n",
      "\n",
      "     1     3     0     0     0\n",
      "    -3     2     3     0     0\n",
      "     0    -3     2     3     0\n",
      "     0     0    -3     2     3\n",
      "     0     0     0    -3     1\n",
      "\n"
     ]
    }
   ],
   "source": [
    "M_3 = zeros(5);\n",
    "A=[1,3; -3, 1];\n",
    "\n",
    "for k = 1:5-1\n",
    "    M_3(k:k+1, k:k+1) = M_3(k:k+1, k:k+1) + A;\n",
    "end\n",
    "\n",
    "M_3"
   ]
  },
  {
   "cell_type": "code",
   "execution_count": 25,
   "metadata": {},
   "outputs": [
    {
     "name": "stdout",
     "output_type": "stream",
     "text": [
      "\n",
      "c =\n",
      "\n",
      "     3\n",
      "     4\n",
      "     0\n",
      "     0\n",
      "     0\n",
      "\n",
      "\n",
      "c =\n",
      "\n",
      "     3\n",
      "     7\n",
      "     4\n",
      "     0\n",
      "     0\n",
      "\n",
      "\n",
      "c =\n",
      "\n",
      "     3\n",
      "     7\n",
      "     7\n",
      "     4\n",
      "     0\n",
      "\n",
      "\n",
      "c =\n",
      "\n",
      "     3\n",
      "     7\n",
      "     7\n",
      "     7\n",
      "     4\n",
      "\n"
     ]
    }
   ],
   "source": [
    "c = zeros(5,1);\n",
    "b_base = [3;4]; % Otra manera es colocar c = [3, 4]'\n",
    "for k=1:5-1\n",
    "    c(k:k+1) = c(k:k+1) + b_base\n",
    "    pause(5)\n",
    "end"
   ]
  }
 ],
 "metadata": {
  "kernelspec": {
   "display_name": "Matlab",
   "language": "matlab",
   "name": "matlab"
  },
  "language_info": {
   "codemirror_mode": "octave",
   "file_extension": ".m",
   "help_links": [
    {
     "text": "MetaKernel Magics",
     "url": "https://github.com/calysto/metakernel/blob/master/metakernel/magics/README.md"
    }
   ],
   "mimetype": "text/x-octave",
   "name": "matlab",
   "version": "0.16.1"
  }
 },
 "nbformat": 4,
 "nbformat_minor": 2
}
