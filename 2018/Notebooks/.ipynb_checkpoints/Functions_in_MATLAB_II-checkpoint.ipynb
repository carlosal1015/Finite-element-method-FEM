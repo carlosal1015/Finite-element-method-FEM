{
 "cells": [
  {
   "cell_type": "markdown",
   "metadata": {},
   "source": [
    "## Funciones que realizan tareas\n",
    "### Programas usando archivos $M$-file\n",
    "- Archivos de instrucciones\n",
    "- Archivos de funciones"
   ]
  },
  {
   "cell_type": "markdown",
   "metadata": {},
   "source": [
    "### Archivos de instrucciones\n",
    "\n",
    "Un archivo o *script* de instrucciones consisten de una sucesión de instrucciones normales de MATLAB.\n",
    "\n",
    "Las variables en un archivo de instrucciones son globales y, por tanto, cambiarán los valores del espacio de trabajo.\n",
    "\n",
    "Los archivos de instrucciones son utilizados a menudo para introducir datos en una matriz grande."
   ]
  },
  {
   "cell_type": "markdown",
   "metadata": {},
   "source": [
    "### Archivos de funciones\n",
    "\n",
    "Los archivos de funciones hacen que MATLAB tenga *capacidad de crecimiento*.\n",
    "\n",
    "Se pueden crear funciones específicas para un problema concreto y a partir de su introducción, tendrán el mismo rango que las demás funciones del sistema.\n",
    "\n",
    "Las variables en las funciones son locales.\n",
    "\n",
    "También se puede declararse una variable como global."
   ]
  },
  {
   "cell_type": "code",
   "execution_count": 4,
   "metadata": {},
   "outputs": [],
   "source": [
    "% Nombre del script figura1.m\n",
    "% Ejecutar en el prompt de MATLAB como figura1.m\n",
    "% figura 1\n",
    "% shg"
   ]
  },
  {
   "cell_type": "markdown",
   "metadata": {},
   "source": [
    "## Para direccionar una carpeta de trabajo\n",
    "* Se puede utilizar las instrucciones: `cd`, `dir`.\n",
    "* Se puede usar la instrucción `path`. Por ejemplo: `/home/user/Projects/MATLAB`."
   ]
  },
  {
   "cell_type": "markdown",
   "metadata": {},
   "source": [
    "## Creando un archivo de variables inicializados"
   ]
  },
  {
   "cell_type": "code",
   "execution_count": 5,
   "metadata": {},
   "outputs": [],
   "source": [
    "% datos.m\n",
    "% Archivo de variables inicializadas\n",
    "a =  [2 3; 4 5];\n",
    "b = [2 3]';"
   ]
  },
  {
   "cell_type": "markdown",
   "metadata": {},
   "source": [
    "## Para cargar los datos"
   ]
  },
  {
   "cell_type": "code",
   "execution_count": 6,
   "metadata": {},
   "outputs": [
    {
     "name": "stdout",
     "output_type": "stream",
     "text": [
      "\n",
      "a =\n",
      "\n",
      "     2     3\n",
      "     4     5\n",
      "\n",
      "\n",
      "b =\n",
      "\n",
      "     2\n",
      "     3\n",
      "\n"
     ]
    }
   ],
   "source": [
    "% datos\n",
    "a\n",
    "b"
   ]
  },
  {
   "cell_type": "markdown",
   "metadata": {},
   "source": [
    "## Instrucciones de control\n",
    "\n",
    "### Instrucción `for ... end`\n",
    "Sintáxis:\n",
    "```matlab\n",
    "for NombVar = expresión\n",
    "    instrucción_1\n",
    "    instrucción_2\n",
    "    ...\n",
    "    instrucción_M\n",
    "end\n",
    "```\n",
    "o\n",
    "```matlab\n",
    "for NombVar = expresión, instrucción_1, instrucción_2, ..., instrucción_M end\n",
    "```\n",
    "donde:\n",
    "\n",
    "`NombVar`: es el identificador de la variable.\n",
    "\n",
    "`expresión`: usualmente tiene la siguiente forma: `Val_Inic:incr:Val_Fin` o `Val_Inic:Val_Fin`.\n",
    "\n",
    "`Val_Inic`: valor inicial que a tomar la variable.\n",
    "\n",
    "`incr`: incremento\n",
    "\n",
    "`Val_Fin`: valor final que va a tomar la variable.\n",
    "\n",
    "si expresión tiene la forma `Val_Inic:Val_Fin`, el incremento (implícito) es **uno**."
   ]
  },
  {
   "cell_type": "markdown",
   "metadata": {},
   "source": [
    "A continuación, se muestra un ejemplo ilustrativo:\n",
    "<img src=\"./img/loop_for.png\" width=\"400\" />"
   ]
  },
  {
   "cell_type": "markdown",
   "metadata": {},
   "source": [
    "Ejemplo: Escriba una función `comb(n,k)` en MATLAB para calcular $\\dbinom{n}{k}=\\dfrac{n!}{k!(n-k)!}$.\n",
    "```m\n",
    "function z = comb(n, k)\n",
    "    z = 1;\n",
    "    for i=0:(k-1);\n",
    "        z = z * (n-i)/(k-i);\n",
    "    end\n",
    "end\n",
    "```\n",
    "Guardar en el directorio de trabajo con el nombre `comb.m`. Para ejecutar esta función, ingrese `n=4` y `k=3`, ingrese:\n",
    "```m\n",
    "comb(4,3)\n",
    "```"
   ]
  },
  {
   "cell_type": "code",
   "execution_count": 8,
   "metadata": {},
   "outputs": [
    {
     "name": "stdout",
     "output_type": "stream",
     "text": [
      "Created file '/home/carlosal1015/GitHub/Finite-element-method-FEM/2018/Notebooks/comb.m'.\n"
     ]
    }
   ],
   "source": [
    "%%file comb.m\n",
    "\n",
    "function z = comb(n, k)\n",
    "    z = 1;\n",
    "    for i = 0:(k-1)\n",
    "        z = z * (n-i)/(k-i);\n",
    "    end\n",
    "end"
   ]
  },
  {
   "cell_type": "code",
   "execution_count": 15,
   "metadata": {},
   "outputs": [
    {
     "name": "stdout",
     "output_type": "stream",
     "text": [
      "\n",
      "ans =\n",
      "\n",
      "     4\n",
      "\n"
     ]
    }
   ],
   "source": [
    "n = 4; k = 3;\n",
    "comb(n, k)"
   ]
  },
  {
   "cell_type": "markdown",
   "metadata": {},
   "source": [
    "Ejemplo: Escribir los cuadrados de los números pares menores que $20$."
   ]
  },
  {
   "cell_type": "markdown",
   "metadata": {},
   "source": [
    "for i = 2:2:20\n",
    "    disp(i^2)\n",
    "end"
   ]
  },
  {
   "cell_type": "markdown",
   "metadata": {},
   "source": [
    "<img src=\"./img/trapezium_rule.png\" width=\"750\" />"
   ]
  },
  {
   "cell_type": "markdown",
   "metadata": {},
   "source": [
    "Aplicando el teorema del valor intermedio se obtiene el error:\n",
    "$$\n",
    "\\int_{a}^{b}\\!\\!f(x)\\,\\mathrm{d}x-T_n(f)=-\\frac{h^2(b-a)}{12}f^{\\prime\\prime}\\left(\\xi\\right),\\quad h=\\frac{b-a}{n}.\n",
    "$$"
   ]
  },
  {
   "cell_type": "markdown",
   "metadata": {},
   "source": [
    "Ejemplo: Método trapezoidal compuesta\n",
    "```m\n",
    "function inttrapS = int_trap(f, a, b, n)\n",
    "% Regla trapezoidal compuesta\n",
    "    h = (b-a)/n;\n",
    "    t = (f(a) + f(b))/2:\n",
    "    for i = 1:n-1\n",
    "        t = t + f(a + i*h);\n",
    "    end\n",
    "    inttrapS = h * t\n",
    "end\n",
    "```"
   ]
  },
  {
   "cell_type": "markdown",
   "metadata": {},
   "source": [
    "## Regla de Simpson\n",
    "### Regla de Simpson $1/3$ o Regla de Simpson $(n=2)$:\n",
    "\n",
    "$$\n",
    "\\begin{align*}\n",
    "K_2(f)&=\\frac{b-a}{6}\\left[f(a) + 4f\\left(\\frac{a+b}{2}\\right) + f(b)\\right].\\\\\n",
    "E_2(f)&=-\\frac{h^5}{90}f^{(4)}\\left(\\xi\\right)=-\\frac{1}{2880}{\\left(b-a\\right)}^{5}f^{(4)}\\left(\\xi\\right),\\quad a<\\xi<b.\n",
    "\\end{align*}\n",
    "$$\n",
    "Si $h=\\dfrac{b-a}{2}$, $x_0=a$, $x_1=x_0+h$, $x_2=x_1+h=b$, se tiene\n",
    "$$\n",
    "K_2(f)=\\frac{1}{3}h\\left(f(x_0)+4f(x_1)+f(x_2)\\right)\n",
    "$$\n"
   ]
  },
  {
   "cell_type": "markdown",
   "metadata": {},
   "source": [
    "Ejemplo: Calcule la integral $I=\\int_{I}x^2+y^2\\mathrm{d}x\\mathrm{d}y$ sobre el rectángulo $I=\\left[-3,3\\right]\\times\\left[-5,5\\right]$ usando la función `trapz` proporcionada por MATLAB."
   ]
  },
  {
   "cell_type": "code",
   "execution_count": 20,
   "metadata": {},
   "outputs": [
    {
     "name": "stdout",
     "output_type": "stream",
     "text": [
      "\n",
      "I =\n",
      "\n",
      "  680.2000\n",
      "\n"
     ]
    }
   ],
   "source": [
    "% https://www.mathworks.com/help/matlab/ref/trapz.html\n",
    "x = -3:.1:3; \n",
    "y = -5:.1:5; \n",
    "[X,Y] = meshgrid(x,y);\n",
    "F = X.^2 + Y.^2;\n",
    "I = trapz(y,trapz(x,F,2))"
   ]
  },
  {
   "cell_type": "markdown",
   "metadata": {},
   "source": [
    "<img src=\"./img/simpsons_rule.jpg\" width=\"750\" />"
   ]
  },
  {
   "cell_type": "markdown",
   "metadata": {},
   "source": [
    "## Regla compuesta de Simpson\n",
    "\n",
    "De manera similar se obtiene la *Regla Compuesta de Simpson*. Sean $n=2m$ (par), $m\\in\\mathbb{N}$, $h=\\dfrac{(b-a)}{n}$, $x_j=a+jh$, $j\\in\\left\\{0,1,2,\\ldots,n\\right\\}$ y $f\\in\\mathcal{C}^{4}\\left[a,b\\right]$.\n",
    "\n",
    "Simplificando la regla de Simpson en los subintervalos $\\left[x_{j-1},x_j\\right]$ con $j\\in\\left\\{1,2,\\ldots, n\\right\\}$ se obtiene\n",
    "\n",
    "$$\n",
    "\\int_{a}^{b}\\!\\!f(x)\\,\\mathrm{d}x=S_n\\left[a,b\\right]-\\frac{h^4\\left(b-a\\right)}{180}\\left(\\frac{1}{m}\\sum_{j=1}^{m}f^{(4)}\\left(\\xi_j\\right)\\right),\\quad \\xi_j\\in\\left]x_{j-1},x_j\\right[.\n",
    "$$"
   ]
  },
  {
   "cell_type": "markdown",
   "metadata": {},
   "source": [
    "Ejemplo: Método Compuesta de Simpson (1/3)\n",
    "```m\n",
    "function intsimpS = int_simp(f, a, b, n)\n",
    "% Se aplica M = 2*n veces el método de Simpson\n",
    "% n+1 puntos de partición\n",
    "    M = n/2; s = 0; h =(b-a)/n;\n",
    "    s1 = f(a+h * (2*M-1)); s2 = 0;\n",
    "    for j=1: M-1\n",
    "        s1 = s1 + f(a + h*(2*j-1));\n",
    "        s2 = s2 + f(a + h*(2*j));\n",
    "    end\n",
    "    intsimpS = h * (f(a) + 4*s1+2*s2+f(b))/3;\n",
    "end\n",
    "```"
   ]
  },
  {
   "cell_type": "markdown",
   "metadata": {},
   "source": [
    "Ejemplo: Calcule la siguiente sumatoria:\n",
    "$$\n",
    "S=\\sum_{k=0}^{m}\\frac{k^k}{k!} \\text{ para } x=5 \\text{ y } m = 24.\n",
    "$$"
   ]
  },
  {
   "cell_type": "code",
   "execution_count": 23,
   "metadata": {},
   "outputs": [
    {
     "name": "stdout",
     "output_type": "stream",
     "text": [
      "  148.4132\n",
      "\n",
      "  -2.3740e-08\n",
      "\n"
     ]
    }
   ],
   "source": [
    "x = 5; m = 24;\n",
    "sum = 1; fact = 1;\n",
    "for k=1:m\n",
    "    fact = fact * x/k;\n",
    "    sum = sum + fact;\n",
    "end\n",
    "disp(sum)\n",
    "% Verificando: El resultado debe acercase a cero.\n",
    "disp(sum - exp(5))"
   ]
  },
  {
   "cell_type": "markdown",
   "metadata": {},
   "source": [
    "## Instrucción `if`\n",
    "\n",
    "Sintáxis:\n",
    "```m\n",
    "if relaci[on\n",
    "    instrucciones\n",
    "end\n",
    "```\n",
    "Las instrucciones se ejecutarán solo si la relación es cierta.\n",
    "\n",
    "La forma general de la sentencia `if` es\n",
    "```m\n",
    "if expresión1\n",
    "    sentencias1\n",
    "elseif expresión2\n",
    "    sentencias2\n",
    "else\n",
    "    sentencias3\n",
    "end\n",
    "```\n",
    "\n",
    "Las sentencias serán ejecutadas si la parte real de la expresión tiene todos los elementos no ceros.\n",
    "\n",
    "La partes `else` y `elseif` son opcionales.\n",
    "\n",
    "La expresión usualmente tiene la forma `expr oper expr`\n",
    "donde `oper` es: `==`, `<`, `>`, `<=`, `>=`, `~=`.\n",
    "\n",
    "Ejemplo:"
   ]
  },
  {
   "cell_type": "code",
   "execution_count": 25,
   "metadata": {},
   "outputs": [
    {
     "name": "stdout",
     "output_type": "stream",
     "text": [
      "     2\n",
      "\n"
     ]
    }
   ],
   "source": [
    "% Recuerde que n vale 4 :-)\n",
    "if n < 0\n",
    "    paridad = 0;\n",
    "elseif rem(n,2) == 0\n",
    "    paridad = 2;\n",
    "else\n",
    "    paridad = 1;\n",
    "end\n",
    "disp(paridad)"
   ]
  },
  {
   "cell_type": "markdown",
   "metadata": {},
   "source": [
    "## Relaciones:\n",
    "\n",
    "Los operadores relacionales en MATLAB son\n",
    "\n",
    "| Operador relacional | Significado |\n",
    "|:-------------------:|:-----------:|\n",
    "| `<` | menor que |\n",
    "| `>` | mayor que |\n",
    "| `<=` | menor o igual que |\n",
    "| `>=` | mayor o igual que |\n",
    "| `==` | igual |\n",
    "| `~=` | no igual |\n",
    "\n",
    "Los operadores pueden conectarse o cuantificarse por los operadores lógicos\n",
    "\n",
    "| Operador lógico | Significado |\n",
    "|:-------------------:|:-----------:|\n",
    "| `&` | y (conjunción)|\n",
    "| `|` | o (disyunción inclusiva) |\n",
    "| `~` | no (negación) |\n",
    "\n",
    "Cuando se aplican a escalares, la relación es realmente el escalar `1` o `0` dependiendo de si la relación es *verdadera* o *falsa*.\n",
    "\n",
    "Ejemplo:"
   ]
  },
  {
   "cell_type": "code",
   "execution_count": 26,
   "metadata": {},
   "outputs": [
    {
     "name": "stdout",
     "output_type": "stream",
     "text": [
      "\n",
      "ans =\n",
      "\n",
      "  logical\n",
      "\n",
      "   1\n",
      "\n",
      "\n",
      "ans =\n",
      "\n",
      "  logical\n",
      "\n",
      "   0\n",
      "\n",
      "\n",
      "ans =\n",
      "\n",
      "  logical\n",
      "\n",
      "   1\n",
      "\n",
      "\n",
      "ans =\n",
      "\n",
      "  logical\n",
      "\n",
      "   0\n",
      "\n"
     ]
    }
   ],
   "source": [
    "4 < 6\n",
    "3 > 8\n",
    "4 == 4\n",
    "3 == 6"
   ]
  },
  {
   "cell_type": "markdown",
   "metadata": {},
   "source": [
    "Ejemplo: Escriba una función que encuentre el mayor de dos números `a`, `b`.\n",
    "```m\n",
    "function SalMay = mayor(a, b)\n",
    "if a > b\n",
    "    SalMay = a;\n",
    "else\n",
    "    SalMay = b;\n",
    "end\n",
    "\n",
    "```"
   ]
  },
  {
   "cell_type": "code",
   "execution_count": 27,
   "metadata": {},
   "outputs": [
    {
     "name": "stdout",
     "output_type": "stream",
     "text": [
      "Created file '/home/carlosal1015/GitHub/Finite-element-method-FEM/2018/Notebooks/mayor.m'.\n"
     ]
    }
   ],
   "source": [
    "%%file mayor.m\n",
    "function SalMay = mayor(a, b)\n",
    "if a > b\n",
    "    SalMay = a;\n",
    "else\n",
    "    SalMay = b;\n",
    "end"
   ]
  },
  {
   "cell_type": "code",
   "execution_count": 28,
   "metadata": {},
   "outputs": [
    {
     "name": "stdout",
     "output_type": "stream",
     "text": [
      "\n",
      "ans =\n",
      "\n",
      "     5\n",
      "\n"
     ]
    }
   ],
   "source": [
    "mayor(4,5)"
   ]
  },
  {
   "cell_type": "code",
   "execution_count": 29,
   "metadata": {},
   "outputs": [
    {
     "name": "stdout",
     "output_type": "stream",
     "text": [
      "Created file '/home/carlosal1015/GitHub/Finite-element-method-FEM/2018/Notebooks/grafica_hat.m'.\n"
     ]
    }
   ],
   "source": [
    "%%file grafica_hat.m\n",
    "function grafica_hat(j, a, b, n, s)\n",
    "% n segmentos\n",
    "x = linspace(a, b, n+1);\n",
    "if j == 1\n",
    "    xx = [x(1), x(2), x(n+1)];\n",
    "    yy = [1, 0, 0];\n",
    "else\n",
    "    if j == n\n",
    "        xx = [x(1), x(n), x(n+1)];\n",
    "        yy = [0, 0, 1];\n",
    "    else\n",
    "        xx = [x(1), x(j-1), x(j), x(j+1), x(n+1)];\n",
    "        yy = [0, 0, 1, 0, 0];\n",
    "    end\n",
    "end\n",
    "plot(xx, yy, s)\n",
    "shg\n",
    "end"
   ]
  },
  {
   "cell_type": "code",
   "execution_count": 30,
   "metadata": {},
   "outputs": [
    {
     "name": "stdout",
     "output_type": "stream",
     "text": [
      "Created file '/home/carlosal1015/GitHub/Finite-element-method-FEM/2018/Notebooks/PL2.m'.\n"
     ]
    }
   ],
   "source": [
    "%%file PL2.m\n",
    "function [x, proy] = PL2(f, a, b, n)\n",
    "    M = zeros(n+1, n+1);\n",
    "    c = zeros(n+1, 1);\n",
    "    h = (b-a)/n;\n",
    "    x = linspace(a, b, n+1);\n",
    "    \n",
    "    for k = 1:n\n",
    "        M_local = h * [1/3 1/6; 1/6 1/3];\n",
    "        b_local = (h/2) * [ f(x(k)); f(x(k+1)) ];\n",
    "        M(k:k+1, k:k+1) = M_local + M(k:k+1, k:k+1);\n",
    "        c(k:k+1, 1) = c(k:k+1, 1) + b_local;\n",
    "    end\n",
    "proy = M\\c;\n",
    "%display(M)\n",
    "display(c)\n",
    "end"
   ]
  },
  {
   "cell_type": "code",
   "execution_count": 31,
   "metadata": {},
   "outputs": [
    {
     "name": "stdout",
     "output_type": "stream",
     "text": [
      "\n",
      "epsilon =\n",
      "\n",
      "    0.0100\n",
      "\n",
      "\n",
      "c =\n",
      "\n",
      "   -0.0031\n",
      "   -0.0062\n",
      "   -0.0062\n",
      "   -0.0062\n",
      "   -0.0062\n",
      "   -0.0062\n",
      "   -0.0062\n",
      "   -0.0062\n",
      "   -0.0062\n",
      "   -0.0062\n",
      "   -0.0062\n",
      "   -0.0062\n",
      "   -0.0062\n",
      "   -0.0062\n",
      "   -0.0062\n",
      "   -0.0062\n",
      "   -0.0062\n",
      "   -0.0062\n",
      "   -0.0062\n",
      "   -0.0062\n",
      "   -0.0062\n",
      "   -0.0062\n",
      "   -0.0062\n",
      "   -0.0062\n",
      "   -0.0062\n",
      "   -0.0062\n",
      "   -0.0062\n",
      "   -0.0062\n",
      "   -0.0062\n",
      "   -0.0062\n",
      "   -0.0062\n",
      "   -0.0062\n",
      "   -0.0062\n",
      "   -0.0062\n",
      "   -0.0062\n",
      "   -0.0062\n",
      "   -0.0062\n",
      "   -0.0062\n",
      "   -0.0062\n",
      "   -0.0062\n",
      "   -0.0062\n",
      "   -0.0062\n",
      "   -0.0062\n",
      "   -0.0062\n",
      "   -0.0062\n",
      "   -0.0062\n",
      "   -0.0062\n",
      "   -0.0062\n",
      "   -0.0062\n",
      "   -0.0062\n",
      "   -0.0061\n",
      "   -0.0061\n",
      "   -0.0061\n",
      "   -0.0061\n",
      "   -0.0061\n",
      "   -0.0061\n",
      "   -0.0061\n",
      "   -0.0061\n",
      "   -0.0061\n",
      "   -0.0061\n",
      "   -0.0061\n",
      "   -0.0061\n",
      "   -0.0061\n",
      "   -0.0061\n",
      "   -0.0061\n",
      "   -0.0061\n",
      "   -0.0061\n",
      "   -0.0061\n",
      "   -0.0061\n",
      "   -0.0061\n",
      "   -0.0061\n",
      "   -0.0061\n",
      "   -0.0061\n",
      "   -0.0061\n",
      "   -0.0061\n",
      "   -0.0061\n",
      "   -0.0061\n",
      "   -0.0061\n",
      "   -0.0061\n",
      "   -0.0061\n",
      "   -0.0061\n",
      "   -0.0061\n",
      "   -0.0061\n",
      "   -0.0060\n",
      "   -0.0060\n",
      "   -0.0060\n",
      "   -0.0060\n",
      "   -0.0060\n",
      "   -0.0060\n",
      "   -0.0060\n",
      "   -0.0060\n",
      "   -0.0060\n",
      "   -0.0060\n",
      "   -0.0060\n",
      "   -0.0060\n",
      "   -0.0060\n",
      "   -0.0059\n",
      "   -0.0059\n",
      "   -0.0059\n",
      "   -0.0059\n",
      "   -0.0059\n",
      "   -0.0059\n",
      "   -0.0059\n",
      "   -0.0058\n",
      "   -0.0058\n",
      "   -0.0058\n",
      "   -0.0058\n",
      "   -0.0057\n",
      "   -0.0057\n",
      "   -0.0057\n",
      "   -0.0056\n",
      "   -0.0056\n",
      "   -0.0055\n",
      "   -0.0055\n",
      "   -0.0054\n",
      "   -0.0053\n",
      "   -0.0052\n",
      "   -0.0051\n",
      "   -0.0049\n",
      "   -0.0047\n",
      "   -0.0044\n",
      "   -0.0040\n",
      "   -0.0035\n",
      "   -0.0027\n",
      "   -0.0015\n",
      "         0\n",
      "    0.0015\n",
      "    0.0027\n",
      "    0.0035\n",
      "    0.0040\n",
      "    0.0044\n",
      "    0.0047\n",
      "    0.0049\n",
      "    0.0051\n",
      "    0.0052\n",
      "    0.0053\n",
      "    0.0054\n",
      "    0.0055\n",
      "    0.0055\n",
      "    0.0056\n",
      "    0.0056\n",
      "    0.0057\n",
      "    0.0057\n",
      "    0.0057\n",
      "    0.0058\n",
      "    0.0058\n",
      "    0.0058\n",
      "    0.0058\n",
      "    0.0059\n",
      "    0.0059\n",
      "    0.0059\n",
      "    0.0059\n",
      "    0.0059\n",
      "    0.0059\n",
      "    0.0059\n",
      "    0.0060\n",
      "    0.0060\n",
      "    0.0060\n",
      "    0.0060\n",
      "    0.0060\n",
      "    0.0060\n",
      "    0.0060\n",
      "    0.0060\n",
      "    0.0060\n",
      "    0.0060\n",
      "    0.0060\n",
      "    0.0060\n",
      "    0.0060\n",
      "    0.0061\n",
      "    0.0061\n",
      "    0.0061\n",
      "    0.0061\n",
      "    0.0061\n",
      "    0.0061\n",
      "    0.0061\n",
      "    0.0061\n",
      "    0.0061\n",
      "    0.0061\n",
      "    0.0061\n",
      "    0.0061\n",
      "    0.0061\n",
      "    0.0061\n",
      "    0.0061\n",
      "    0.0061\n",
      "    0.0061\n",
      "    0.0061\n",
      "    0.0061\n",
      "    0.0061\n",
      "    0.0061\n",
      "    0.0061\n",
      "    0.0061\n",
      "    0.0061\n",
      "    0.0061\n",
      "    0.0061\n",
      "    0.0061\n",
      "    0.0061\n",
      "    0.0061\n",
      "    0.0061\n",
      "    0.0061\n",
      "    0.0061\n",
      "    0.0061\n",
      "    0.0062\n",
      "    0.0062\n",
      "    0.0062\n",
      "    0.0062\n",
      "    0.0062\n",
      "    0.0062\n",
      "    0.0062\n",
      "    0.0062\n",
      "    0.0062\n",
      "    0.0062\n",
      "    0.0062\n",
      "    0.0062\n",
      "    0.0062\n",
      "    0.0062\n",
      "    0.0062\n",
      "    0.0062\n",
      "    0.0062\n",
      "    0.0062\n",
      "    0.0062\n",
      "    0.0062\n",
      "    0.0062\n",
      "    0.0062\n",
      "    0.0062\n",
      "    0.0062\n",
      "    0.0062\n",
      "    0.0062\n",
      "    0.0062\n",
      "    0.0062\n",
      "    0.0062\n",
      "    0.0062\n",
      "    0.0062\n",
      "    0.0062\n",
      "    0.0062\n",
      "    0.0062\n",
      "    0.0062\n",
      "    0.0062\n",
      "    0.0062\n",
      "    0.0062\n",
      "    0.0062\n",
      "    0.0062\n",
      "    0.0062\n",
      "    0.0062\n",
      "    0.0062\n",
      "    0.0062\n",
      "    0.0062\n",
      "    0.0062\n",
      "    0.0062\n",
      "    0.0062\n",
      "    0.0062\n",
      "    0.0031\n",
      "\n"
     ]
    },
    {
     "data": {
      "image/png": "[encoded data removed]",
      "text/plain": [
       "<IPython.core.display.Image object>"
      ]
     },
     "metadata": {},
     "output_type": "display_data"
    }
   ],
   "source": [
    "% Corrida de la Proyección L2 de una función\n",
    "% Grabe: run_PL2.m\n",
    "a = 0;\n",
    "b = 1;\n",
    "n = 250; % n puede tomar valores de 100, 250, etc.\n",
    "% f=@(x) 2*x.*sin(2*pi*x)+3;\n",
    "% f=@(x) 0*x+1;\n",
    "% f=@(x) x.^3.*(x-1).*(1-2*x);\n",
    "epsilon = 0.01\n",
    "f=@(x) atan( (x-0.5)/epsilon );\n",
    "\n",
    "[x, proy] = PL2(f, a, b, n);\n",
    "hold on\n",
    "t = linspace(a, b, 250);\n",
    "plot(t, f(t), '-r', 'LineWidth', 1)\n",
    "shg\n",
    "hold off"
   ]
  }
 ],
 "metadata": {
  "kernelspec": {
   "display_name": "Matlab",
   "language": "matlab",
   "name": "matlab"
  },
  "language_info": {
   "codemirror_mode": "octave",
   "file_extension": ".m",
   "help_links": [
    {
     "text": "MetaKernel Magics",
     "url": "https://github.com/calysto/metakernel/blob/master/metakernel/magics/README.md"
    }
   ],
   "mimetype": "text/x-octave",
   "name": "matlab",
   "version": "0.16.1"
  }
 },
 "nbformat": 4,
 "nbformat_minor": 2
}
