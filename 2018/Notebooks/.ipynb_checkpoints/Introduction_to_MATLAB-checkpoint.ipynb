{
 "cells": [
  {
   "cell_type": "markdown",
   "metadata": {},
   "source": [
    "1 Introducción a MATLAB\n",
    "===\n",
    "Matlab que derivada de su nombre *laboratorio de matrices*, es un lenguaje de computación desarrollado para procesamiento de datos en forma de arreglo de números. MATLAB integra computación y visualización y provee diverssidad de instrucciones y funciones que pueden ser usados de una manera interactiva para obtener soluciones numéricas para una variedad de problemas de ingeniería.\n",
    "\n",
    "[Recurso online](https://matlabacademy.mathworks.com/R2018b/es/portal.html?course=gettingstarted) (es necesario tener conexión a internet e identificarse con su cuenta asociada a MATLAB).\n",
    "\n",
    "[Introduction to MATLAB -- MIT](https://ocw.mit.edu/courses/electrical-engineering-and-computer-science/6-094-introduction-to-matlab-january-iap-2010/)\n",
    "\n",
    "[MATLAB Primer](https://www.mathworks.com/help/pdf_doc/matlab/getstart.pdf)\n",
    "\n",
    "[Documentación oficial en PDF](https://www.mathworks.com/help/pdf_doc/matlab/index.html)\n",
    "\n",
    "[Math Modeling Computing and Communication (SIAM)](https://m3challenge.siam.org/sites/default/files/uploads/siam-technical-guidebook-web.pdf)"
   ]
  },
  {
   "cell_type": "markdown",
   "metadata": {},
   "source": [
    "## 1.1 Expresiones numéricas"
   ]
  },
  {
   "cell_type": "code",
   "execution_count": 4,
   "metadata": {},
   "outputs": [
    {
     "name": "stdout",
     "output_type": "stream",
     "text": [
      "\n",
      "ans =\n",
      "\n",
      "     7\n",
      "\n",
      "\n",
      "ans =\n",
      "\n",
      "    7.1000\n",
      "\n",
      "\n",
      "ans =\n",
      "\n",
      "    7.9200\n",
      "\n"
     ]
    }
   ],
   "source": [
    "7\n",
    "7.1\n",
    "7.92\n",
    "42.13; % no hay réplica"
   ]
  },
  {
   "cell_type": "markdown",
   "metadata": {},
   "source": [
    "## 1.1.1 Operaciones aritméticas con escalares\n",
    "\n",
    "$(+,-,\\ast,/,\\hat{})$ adición, sustracción, multiplicación, división y exponenciación. Así por ejemplo."
   ]
  },
  {
   "cell_type": "code",
   "execution_count": 5,
   "metadata": {},
   "outputs": [
    {
     "name": "stdout",
     "output_type": "stream",
     "text": [
      "\n",
      "ans =\n",
      "\n",
      "   11.6667\n",
      "\n"
     ]
    }
   ],
   "source": [
    "2/3+4*5-3^2"
   ]
  },
  {
   "cell_type": "markdown",
   "metadata": {},
   "source": [
    "> Nota:\n",
    "**clc** y **clear** son comandos para limpiar la ventana de comandos y borrar las variables, respectivamente."
   ]
  },
  {
   "cell_type": "markdown",
   "metadata": {},
   "source": [
    "## 1.1.2 Asignación de valores numéricos a nombres de variables"
   ]
  },
  {
   "cell_type": "code",
   "execution_count": 7,
   "metadata": {},
   "outputs": [
    {
     "name": "stdout",
     "output_type": "stream",
     "text": [
      "\n",
      "y =\n",
      "\n",
      "    12\n",
      "\n",
      "\n",
      "z =\n",
      "\n",
      "   289\n",
      "\n"
     ]
    }
   ],
   "source": [
    "x = 5;\n",
    "y = 2+2*x\n",
    "z = (x+y)^2"
   ]
  },
  {
   "cell_type": "markdown",
   "metadata": {},
   "source": [
    "## 1.1.3 Números complejos"
   ]
  },
  {
   "cell_type": "code",
   "execution_count": 8,
   "metadata": {},
   "outputs": [
    {
     "name": "stdout",
     "output_type": "stream",
     "text": [
      "\n",
      "z =\n",
      "\n",
      "   2.0000 - 3.0000i\n",
      "\n"
     ]
    }
   ],
   "source": [
    "z = 2-3i % Otra expresión válida es z = 2+5j"
   ]
  },
  {
   "cell_type": "markdown",
   "metadata": {},
   "source": [
    "# 1.1.4 Funciones matemáticas\n",
    "Hay una lista grande de funciones matemáticas que son reservadas por MATLAB. Listemos algunas de ellas\n",
    "\n",
    "|Funciones matemáticas|Sintáxis en MATLAB|\n",
    "|:-------------------:|:----------------:|\n",
    "|Valor absoluto de $x=|x|$|`abs(x)`|\n",
    "|Raíz cuadrada de $x=\\sqrt{x}$ |`sqrt(x)`|\n",
    "|Seno de $x=\\mathrm{sen}(x)$|`sin(x)`|\n",
    "|Coseno de $x=\\cos x$|`cos(x)`|\n",
    "|Coseno hiperbólico de $x=\\cosh x$|`cosh(x)`|\n",
    "|Exponencial de $x=\\exp x$|`exp(x)`|\n",
    "|Logaritmo natural de $x=\\ln x$|`log(x)`|\n",
    "|Logaritmo en base $10$ de $x=\\log_{10} x$|`log10(x)`|\n",
    "|Arcoseno de $x=\\mathrm{asen} x=\\mathrm{sen}^{-1}(x)$|`asin(x)`|\n",
    "|Arcocoseno hiperbólico de $x=\\mathrm{acosh} x$|`acosh(x)`|"
   ]
  },
  {
   "cell_type": "code",
   "execution_count": 9,
   "metadata": {},
   "outputs": [
    {
     "name": "stdout",
     "output_type": "stream",
     "text": [
      "\n",
      "z =\n",
      "\n",
      "  -0.3316 - 3.1416i\n",
      "\n"
     ]
    }
   ],
   "source": [
    "x = 4;\n",
    "z = sin(x)-log(cos(x))"
   ]
  },
  {
   "cell_type": "markdown",
   "metadata": {},
   "source": [
    "## 1.1.5 Formatos de salida\n",
    "1. `format short`\n",
    "2. `format long`"
   ]
  },
  {
   "cell_type": "code",
   "execution_count": 12,
   "metadata": {},
   "outputs": [
    {
     "name": "stdout",
     "output_type": "stream",
     "text": [
      "\n",
      "ans =\n",
      "\n",
      "    3.1416\n",
      "\n",
      "\n",
      "ans =\n",
      "\n",
      "   7.9633e-04\n",
      "\n",
      "\n",
      "ans =\n",
      "\n",
      "   3.141592653589793\n",
      "\n",
      "\n",
      "ans =\n",
      "\n",
      "     7.963267107332633e-04\n",
      "\n"
     ]
    }
   ],
   "source": [
    "format short\n",
    "pi\n",
    "cos(1.57)\n",
    "format long\n",
    "pi\n",
    "cos(1.57)"
   ]
  },
  {
   "cell_type": "markdown",
   "metadata": {},
   "source": [
    "## 1.1.6 Vectores\n",
    "Creación de vectores fila."
   ]
  },
  {
   "cell_type": "code",
   "execution_count": 13,
   "metadata": {},
   "outputs": [
    {
     "name": "stdout",
     "output_type": "stream",
     "text": [
      "\n",
      "u =\n",
      "\n",
      "     2     3     4     5\n",
      "\n"
     ]
    }
   ],
   "source": [
    "u = [2 3 4 5] % Sin separación de comas."
   ]
  },
  {
   "cell_type": "markdown",
   "metadata": {},
   "source": [
    "o equivalentemente"
   ]
  },
  {
   "cell_type": "code",
   "execution_count": 15,
   "metadata": {},
   "outputs": [
    {
     "name": "stdout",
     "output_type": "stream",
     "text": [
      "\n",
      "y =\n",
      "\n",
      "  Columns 1 through 3\n",
      "\n",
      "   2.000000000000000   2.100000000000000   2.200000000000000\n",
      "\n",
      "  Columns 4 through 6\n",
      "\n",
      "   2.300000000000000   2.400000000000000   2.500000000000000\n",
      "\n",
      "  Columns 7 through 9\n",
      "\n",
      "   2.600000000000000   2.700000000000000   2.800000000000000\n",
      "\n",
      "  Columns 10 through 11\n",
      "\n",
      "   2.900000000000000   3.000000000000000\n",
      "\n",
      "\n",
      "z =\n",
      "\n",
      "     5     4     3     2     1\n",
      "\n",
      "\n",
      "p =\n",
      "\n",
      "  Column 1\n",
      "\n",
      "  1.000000000000000 + 0.000000000000000i\n",
      "\n",
      "  Column 2\n",
      "\n",
      "  7.000000000000000 + 3.000000000000000i\n",
      "\n",
      "  Column 3\n",
      "\n",
      "  4.000000000000000 + 0.000000000000000i\n",
      "\n",
      "  Column 4\n",
      "\n",
      "  3.000000000000000 - 5.000000000000000i\n",
      "\n"
     ]
    }
   ],
   "source": [
    "u = [2, 3, 4, 5]; % Con separación de comas.\n",
    "x = 2:5;\n",
    "y = 2:0.1:3\n",
    "z = 5:-1:1\n",
    "p = [1,7+3i, 4, 3-5i] % Preguntar"
   ]
  },
  {
   "cell_type": "markdown",
   "metadata": {},
   "source": [
    "Creación de vectores columna"
   ]
  },
  {
   "cell_type": "code",
   "execution_count": 16,
   "metadata": {},
   "outputs": [
    {
     "name": "stdout",
     "output_type": "stream",
     "text": [
      "\n",
      "w =\n",
      "\n",
      "     2\n",
      "     3\n",
      "     4\n",
      "     5\n",
      "\n",
      "\n",
      "m =\n",
      "\n",
      "  1.000000000000000 + 0.000000000000000i\n",
      "  7.000000000000000 - 3.000000000000000i\n",
      "  4.000000000000000 + 0.000000000000000i\n",
      "  3.000000000000000 + 5.000000000000000i\n",
      "\n",
      "\n",
      "q =\n",
      "\n",
      "  1.000000000000000 + 0.000000000000000i\n",
      "  7.000000000000000 + 3.000000000000000i\n",
      "  4.000000000000000 + 0.000000000000000i\n",
      "  3.000000000000000 - 5.000000000000000i\n",
      "\n"
     ]
    }
   ],
   "source": [
    "w = u'\n",
    "m = p'\n",
    "q = conj(p')"
   ]
  },
  {
   "cell_type": "markdown",
   "metadata": {},
   "source": [
    "## 1.1.7 Matrices\n",
    "Crear una matriz de $3\\times4$."
   ]
  },
  {
   "cell_type": "code",
   "execution_count": 17,
   "metadata": {},
   "outputs": [
    {
     "name": "stdout",
     "output_type": "stream",
     "text": [
      "\n",
      "A =\n",
      "\n",
      "  Columns 1 through 3\n",
      "\n",
      "   2.000000000000000   3.000000000000000   5.000000000000000\n",
      "   0.200000000000000   4.000000000000000   5.000000000000000\n",
      "                   0   1.000000000000000   5.000000000000000\n",
      "\n",
      "  Column 4\n",
      "\n",
      "   6.000000000000000\n",
      "   1.000000000000000\n",
      "   2.000000000000000\n",
      "\n",
      "\n",
      "m =\n",
      "\n",
      "     3\n",
      "\n",
      "\n",
      "n =\n",
      "\n",
      "     4\n",
      "\n"
     ]
    }
   ],
   "source": [
    "A = [2 3 5 6; .2 4 5 1; 0 1 5 2]\n",
    "[m, n] = size(A) % Orden de la matriz A."
   ]
  },
  {
   "cell_type": "markdown",
   "metadata": {},
   "source": [
    "## 1.1.8 Generación de matrices especiales"
   ]
  },
  {
   "cell_type": "code",
   "execution_count": 19,
   "metadata": {},
   "outputs": [
    {
     "name": "stdout",
     "output_type": "stream",
     "text": [
      "\n",
      "X =\n",
      "\n",
      "     1     1     1     1\n",
      "     1     1     1     1\n",
      "     1     1     1     1\n",
      "     1     1     1     1\n",
      "\n",
      "\n",
      "Z =\n",
      "\n",
      "     0     0     0     0\n",
      "     0     0     0     0\n",
      "     0     0     0     0\n",
      "\n",
      "\n",
      "d =\n",
      "\n",
      "     1     0     0     0\n",
      "     0     1     0     0\n",
      "     0     0     1     0\n",
      "     0     0     0     1\n",
      "\n"
     ]
    }
   ],
   "source": [
    "X = ones(n,n)\n",
    "Z = zeros(m,n)\n",
    "d = eye(n,n)"
   ]
  },
  {
   "cell_type": "markdown",
   "metadata": {},
   "source": [
    "## 1.1.9 Operaciones con matrices $A+B, A-B, A*B$"
   ]
  },
  {
   "cell_type": "code",
   "execution_count": 28,
   "metadata": {},
   "outputs": [
    {
     "name": "stdout",
     "output_type": "stream",
     "text": [
      "\n",
      "B =\n",
      "\n",
      "    16     2     3    13\n",
      "     5    11    10     8\n",
      "     9     7     6    12\n",
      "     4    14    15     1\n",
      "\n"
     ]
    }
   ],
   "source": [
    "B = magic(4)"
   ]
  },
  {
   "cell_type": "code",
   "execution_count": 29,
   "metadata": {},
   "outputs": [
    {
     "name": "stdout",
     "output_type": "stream",
     "text": [
      " MAGIC  Magic square.\n",
      "    MAGIC(N) is an N-by-N matrix constructed from the integers\n",
      "    1 through N^2 with equal row, column, and diagonal sums.\n",
      "    Produces valid magic squares for all N > 0 except N = 2.\n",
      "\n",
      "    Reference page in Doc Center\n",
      "       doc magic\n",
      "\n",
      "\n"
     ]
    }
   ],
   "source": [
    "help(\"magic\") % Descripción corta del comando magic."
   ]
  },
  {
   "cell_type": "markdown",
   "metadata": {},
   "source": [
    "Manipulación con elementos de una matriz"
   ]
  },
  {
   "cell_type": "code",
   "execution_count": 30,
   "metadata": {},
   "outputs": [
    {
     "name": "stdout",
     "output_type": "stream",
     "text": [
      "\n",
      "B =\n",
      "\n",
      "    16     2     3    13\n",
      "    25    55    50    40\n",
      "     9     7     6    12\n",
      "     4    14    15     1\n",
      "\n",
      "\n",
      "B_1 =\n",
      "\n",
      "     3\n",
      "    50\n",
      "     6\n",
      "    15\n",
      "\n",
      "\n",
      "C =\n",
      "\n",
      "    15\n",
      "    95\n",
      "    19\n",
      "    15\n",
      "\n"
     ]
    }
   ],
   "source": [
    "B(2,:) = 5 * B(2,:) % Nueva matriz B. Multiplicación por 5 a la fila 2 de la matriz B.\n",
    "B_1 = B(:,3) % Obtención de la tercera columna de B.\n",
    "C = B(:,2) + B(:,4) % Suma de las columnas 2 y 4 de la nueva matriz B."
   ]
  },
  {
   "cell_type": "markdown",
   "metadata": {},
   "source": [
    "## 1.1.10 $P$-norma de una matriz\n",
    "Por ejemplo:\n",
    "```matlab\n",
    "norm(x,p)\n",
    "norm(x,Inf)\n",
    "```"
   ]
  },
  {
   "cell_type": "code",
   "execution_count": 31,
   "metadata": {},
   "outputs": [
    {
     "name": "stdout",
     "output_type": "stream",
     "text": [
      " NORM   Matrix or vector norm.\n",
      "      NORM(X,2) returns the 2-norm of X.\n",
      " \n",
      "      NORM(X) is the same as NORM(X,2).\n",
      " \n",
      "      NORM(X,1) returns the 1-norm of X.\n",
      " \n",
      "      NORM(X,Inf) returns the infinity norm of X.\n",
      " \n",
      "      NORM(X,'fro') returns the Frobenius norm of X.\n",
      " \n",
      "    In addition, for vectors...\n",
      " \n",
      "      NORM(V,P) returns the p-norm of V defined as SUM(ABS(V).^P)^(1/P).\n",
      " \n",
      "      NORM(V,Inf) returns the largest element of ABS(V).\n",
      " \n",
      "      NORM(V,-Inf) returns the smallest element of ABS(V).\n",
      " \n",
      "    By convention, NaN is returned if X or V contains NaNs.\n",
      " \n",
      "    See also COND, RCOND, CONDEST, NORMEST, HYPOT.\n",
      "\n",
      "    Reference page in Doc Center\n",
      "       doc norm\n",
      "\n",
      "    Other functions named norm\n",
      "\n",
      "       codistributed/norm    DynamicSystem/norm    mfilt/norm    tall/norm\n",
      "       dfilt/norm            gpuArray/norm         sym/norm\n",
      "\n"
     ]
    }
   ],
   "source": [
    "help(\"norm\")"
   ]
  },
  {
   "cell_type": "markdown",
   "metadata": {},
   "source": [
    "## 1.1.11 Determinante e inversa de una matriz\n",
    "```matlab\n",
    "det(A)\n",
    "inv(A)\n",
    "A\\B % indica $A^{-1}B$\n",
    "A/B % indica $AB^{-1}$\n",
    "```\n",
    "## 1.1.12 Operación dot $\\left(\\cdot\\right)$\n",
    "Sean las $X$ y $M$ dos matrices del mismo orden. Las siguientes instrucciones realizan operaciones elemento a elemento.\n",
    "\n",
    "|Numeración| Comando|\n",
    "|:---:|:---:|\n",
    "|a.|`Zm=X.*M`|\n",
    "|b.|`Zd=X./M`|\n",
    "|c.|`Ze=X.^M`|\n",
    "\n",
    "Casos particulares:\n",
    "$$ Zd=\\frac{x_0}{M}\\qquad Ze={x_0}^M\\qquad Ze={M}^{x_0}$$"
   ]
  },
  {
   "cell_type": "markdown",
   "metadata": {},
   "source": [
    "## 1.2 Ploteando en MATLAB con el comando `plot`"
   ]
  },
  {
   "cell_type": "markdown",
   "metadata": {},
   "source": [
    "1. Usando el comando `plot(x,y,'o')`, `plot(x,y,'ro-')` plotear\n",
    "a. los puntos: $(2,3), (4,5), (9,5)$.\n",
    "\n",
    "b. la poligonal que une los puntos $(2,3), (4,5), (9,5)$.\n",
    "\n",
    "2. Graficar la función $f(x)=x^3+2x-1$ en el intervalo $-2\\le x\\le 2$."
   ]
  },
  {
   "cell_type": "code",
   "execution_count": 37,
   "metadata": {},
   "outputs": [
    {
     "name": "stdout",
     "output_type": "stream",
     "text": [
      "\n",
      "y =\n",
      "\n",
      "  Columns 1 through 3\n",
      "\n",
      " -13.000000000000000  -7.375000000000000  -4.000000000000000\n",
      "\n",
      "  Columns 4 through 6\n",
      "\n",
      "  -2.125000000000000  -1.000000000000000   0.125000000000000\n",
      "\n",
      "  Columns 7 through 9\n",
      "\n",
      "   2.000000000000000   5.375000000000000  11.000000000000000\n",
      "\n"
     ]
    },
    {
     "data": {
      "image/png": "[encoded data removed]",
      "text/plain": [
       "<IPython.core.display.Image object>"
      ]
     },
     "metadata": {},
     "output_type": "display_data"
    }
   ],
   "source": [
    "x = -2:0.5:2;\n",
    "y = x.^3+2*x-1\n",
    "plot(x,y,'o')"
   ]
  },
  {
   "cell_type": "markdown",
   "metadata": {},
   "source": [
    "3. Muestre las gráficas de las funciones en un mismo plano las gráficas de las funciones $$ f(x)=x^3+2x-1,\\qquad g(x)=x^2+1$$ en el intervalo $-2\\le x\\le 2$."
   ]
  },
  {
   "cell_type": "code",
   "execution_count": 44,
   "metadata": {},
   "outputs": [
    {
     "name": "stdout",
     "output_type": "stream",
     "text": [
      "\n",
      "x =\n",
      "\n",
      "  Columns 1 through 3\n",
      "\n",
      "  -2.000000000000000  -1.959595959595960  -1.919191919191919\n",
      "\n",
      "  Columns 4 through 6\n",
      "\n",
      "  -1.878787878787879  -1.838383838383838  -1.797979797979798\n",
      "\n",
      "  Columns 7 through 9\n",
      "\n",
      "  -1.757575757575758  -1.717171717171717  -1.676767676767677\n",
      "\n",
      "  Columns 10 through 12\n",
      "\n",
      "  -1.636363636363636  -1.595959595959596  -1.555555555555556\n",
      "\n",
      "  Columns 13 through 15\n",
      "\n",
      "  -1.515151515151515  -1.474747474747475  -1.434343434343434\n",
      "\n",
      "  Columns 16 through 18\n",
      "\n",
      "  -1.393939393939394  -1.353535353535353  -1.313131313131313\n",
      "\n",
      "  Columns 19 through 21\n",
      "\n",
      "  -1.272727272727273  -1.232323232323232  -1.191919191919192\n",
      "\n",
      "  Columns 22 through 24\n",
      "\n",
      "  -1.151515151515151  -1.111111111111111  -1.070707070707071\n",
      "\n",
      "  Columns 25 through 27\n",
      "\n",
      "  -1.030303030303030  -0.989898989898990  -0.949494949494949\n",
      "\n",
      "  Columns 28 through 30\n",
      "\n",
      "  -0.909090909090909  -0.868686868686869  -0.828282828282828\n",
      "\n",
      "  Columns 31 through 33\n",
      "\n",
      "  -0.787878787878788  -0.747474747474747  -0.707070707070707\n",
      "\n",
      "  Columns 34 through 36\n",
      "\n",
      "  -0.666666666666667  -0.626262626262626  -0.585858585858586\n",
      "\n",
      "  Columns 37 through 39\n",
      "\n",
      "  -0.545454545454545  -0.505050505050505  -0.464646464646465\n",
      "\n",
      "  Columns 40 through 42\n",
      "\n",
      "  -0.424242424242424  -0.383838383838384  -0.343434343434343\n",
      "\n",
      "  Columns 43 through 45\n",
      "\n",
      "  -0.303030303030303  -0.262626262626263  -0.222222222222222\n",
      "\n",
      "  Columns 46 through 48\n",
      "\n",
      "  -0.181818181818182  -0.141414141414141  -0.101010101010101\n",
      "\n",
      "  Columns 49 through 51\n",
      "\n",
      "  -0.060606060606061  -0.020202020202020   0.020202020202020\n",
      "\n",
      "  Columns 52 through 54\n",
      "\n",
      "   0.060606060606061   0.101010101010101   0.141414141414141\n",
      "\n",
      "  Columns 55 through 57\n",
      "\n",
      "   0.181818181818182   0.222222222222222   0.262626262626263\n",
      "\n",
      "  Columns 58 through 60\n",
      "\n",
      "   0.303030303030303   0.343434343434343   0.383838383838384\n",
      "\n",
      "  Columns 61 through 63\n",
      "\n",
      "   0.424242424242424   0.464646464646465   0.505050505050505\n",
      "\n",
      "  Columns 64 through 66\n",
      "\n",
      "   0.545454545454545   0.585858585858586   0.626262626262626\n",
      "\n",
      "  Columns 67 through 69\n",
      "\n",
      "   0.666666666666667   0.707070707070707   0.747474747474747\n",
      "\n",
      "  Columns 70 through 72\n",
      "\n",
      "   0.787878787878788   0.828282828282828   0.868686868686869\n",
      "\n",
      "  Columns 73 through 75\n",
      "\n",
      "   0.909090909090909   0.949494949494949   0.989898989898990\n",
      "\n",
      "  Columns 76 through 78\n",
      "\n",
      "   1.030303030303030   1.070707070707070   1.111111111111111\n",
      "\n",
      "  Columns 79 through 81\n",
      "\n",
      "   1.151515151515151   1.191919191919192   1.232323232323232\n",
      "\n",
      "  Columns 82 through 84\n",
      "\n",
      "   1.272727272727273   1.313131313131313   1.353535353535353\n",
      "\n",
      "  Columns 85 through 87\n",
      "\n",
      "   1.393939393939394   1.434343434343434   1.474747474747475\n",
      "\n",
      "  Columns 88 through 90\n",
      "\n",
      "   1.515151515151515   1.555555555555555   1.595959595959596\n",
      "\n",
      "  Columns 91 through 93\n",
      "\n",
      "   1.636363636363636   1.676767676767677   1.717171717171717\n",
      "\n",
      "  Columns 94 through 96\n",
      "\n",
      "   1.757575757575758   1.797979797979798   1.838383838383838\n",
      "\n",
      "  Columns 97 through 99\n",
      "\n",
      "   1.878787878787879   1.919191919191919   1.959595959595960\n",
      "\n",
      "  Column 100\n",
      "\n",
      "   2.000000000000000\n",
      "\n"
     ]
    },
    {
     "data": {
      "image/png": "[encoded data removed]",
      "text/plain": [
       "<IPython.core.display.Image object>"
      ]
     },
     "metadata": {},
     "output_type": "display_data"
    }
   ],
   "source": [
    "x = linspace(-2,2)\n",
    "y1 = x.^3 + 2*x -1;\n",
    "y2 = x.^2 + 1;\n",
    "plot(x,y1,'r+');\n",
    "hold on\n",
    "plot(x,y2,'b*')\n",
    "hold off"
   ]
  },
  {
   "cell_type": "markdown",
   "metadata": {},
   "source": [
    "## 1.3 $M$-file"
   ]
  },
  {
   "cell_type": "markdown",
   "metadata": {},
   "source": [
    "1. script `M-file`\n",
    "\n",
    "Crear un script `M-file` para graficar las funciones $f(x)=kx^2-1\\,,k=1,2,3$ en el intervalo $-2\\le x\\le 2$.\n",
    "\n",
    "2. function `M-file`\n",
    "\n",
    "Crear una función `M-file` para la función $f(x)=x^2-1$. Luego, ejecute:\n",
    "\n",
    "a. $f(3)$\n",
    "\n",
    "b. $f(x)$, cuando $x=1:5$."
   ]
  }
 ],
 "metadata": {
  "kernelspec": {
   "display_name": "Matlab",
   "language": "matlab",
   "name": "matlab"
  },
  "language_info": {
   "codemirror_mode": "octave",
   "file_extension": ".m",
   "help_links": [
    {
     "text": "MetaKernel Magics",
     "url": "https://github.com/calysto/metakernel/blob/master/metakernel/magics/README.md"
    }
   ],
   "mimetype": "text/x-octave",
   "name": "matlab",
   "version": "0.16.1"
  }
 },
 "nbformat": 4,
 "nbformat_minor": 2
}
