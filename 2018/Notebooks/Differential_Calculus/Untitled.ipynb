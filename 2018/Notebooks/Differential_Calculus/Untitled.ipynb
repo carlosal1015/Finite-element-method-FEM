{
 "cells": [
  {
   "cell_type": "markdown",
   "metadata": {},
   "source": [
    "## Límites por sustitución directa\n",
    "\n",
    "$$\\lim_{x\\to 2}\\left(\\frac{x}{4} + 2\\right)$$"
   ]
  },
  {
   "cell_type": "code",
   "execution_count": 7,
   "metadata": {},
   "outputs": [
    {
     "name": "stdout",
     "output_type": "stream",
     "text": [
      "5\n",
      "-\n",
      "2\n",
      "\n"
     ]
    }
   ],
   "source": [
    "syms x\n",
    "pretty( limit( x/4 + 2, x, 2 ) )"
   ]
  },
  {
   "cell_type": "markdown",
   "metadata": {},
   "source": [
    "$$\\lim_{x\\to2}\\left(\\frac{x^2-4}{x^2+4}\\right) $$"
   ]
  },
  {
   "cell_type": "code",
   "execution_count": 9,
   "metadata": {},
   "outputs": [
    {
     "name": "stdout",
     "output_type": "stream",
     "text": [
      "0\n",
      "\n"
     ]
    }
   ],
   "source": [
    "syms x\n",
    "pretty( limit( (x^2 - 4) / (x^2 + 4), x, 2 ) )"
   ]
  },
  {
   "cell_type": "markdown",
   "metadata": {},
   "source": [
    "$$\\lim_{x\\to2}{\\left(5x+7\\right)}^4$$"
   ]
  },
  {
   "cell_type": "code",
   "execution_count": 30,
   "metadata": {},
   "outputs": [
    {
     "name": "stdout",
     "output_type": "stream",
     "text": [
      "81\n",
      "\n"
     ]
    }
   ],
   "source": [
    "syms x\n",
    "pretty( limit( (5*x + 7)^4, x, -2 ) )"
   ]
  },
  {
   "cell_type": "markdown",
   "metadata": {},
   "source": [
    "$$\\lim_{x\\to4}\\sqrt{25-x^2} $$"
   ]
  },
  {
   "cell_type": "code",
   "execution_count": 12,
   "metadata": {},
   "outputs": [
    {
     "name": "stdout",
     "output_type": "stream",
     "text": [
      "3\n",
      "\n"
     ]
    }
   ],
   "source": [
    "syms x\n",
    "pretty( limit( sqrt( 25 - x^2 ), x, 4) )"
   ]
  },
  {
   "cell_type": "markdown",
   "metadata": {},
   "source": [
    "$$\\lim_{x\\to4}\\sqrt[3]{\\frac{x}{-7x+1}}$$"
   ]
  },
  {
   "cell_type": "code",
   "execution_count": 29,
   "metadata": {},
   "outputs": [
    {
     "name": "stdout",
     "output_type": "stream",
     "text": [
      "    1/3  1/3\n",
      "(-1)    4\n",
      "------------\n",
      "      3\n",
      "\n"
     ]
    }
   ],
   "source": [
    "syms x\n",
    "pretty( limit( (x / (-7*x + 1) )^(1/3), x, 4 ) )"
   ]
  },
  {
   "cell_type": "markdown",
   "metadata": {},
   "source": [
    "$$\\lim_{x\\to-c}\\sqrt{x^2+c^2}$$"
   ]
  },
  {
   "cell_type": "code",
   "execution_count": 28,
   "metadata": {},
   "outputs": [
    {
     "name": "stdout",
     "output_type": "stream",
     "text": [
      "        2\n",
      "sqrt(2 c )\n",
      "\n"
     ]
    }
   ],
   "source": [
    "syms x c\n",
    "pretty( limit( sqrt(x^2 + c^2) , x, -c) )"
   ]
  },
  {
   "cell_type": "markdown",
   "metadata": {},
   "source": [
    "$$\\lim_{x\\to2}\\sqrt{\\frac{x^3+2x+3}{x^2+5}}$$"
   ]
  },
  {
   "cell_type": "code",
   "execution_count": 27,
   "metadata": {},
   "outputs": [
    {
     "name": "stdout",
     "output_type": "stream",
     "text": [
      "sqrt(3) sqrt(5)\n",
      "---------------\n",
      "       3\n",
      "\n"
     ]
    }
   ],
   "source": [
    "syms x\n",
    "pretty( limit( sqrt((x^3 + 2*x + 3) / (x^2 + 5)) , x, 2) )"
   ]
  },
  {
   "cell_type": "markdown",
   "metadata": {},
   "source": [
    "$$\\lim_{r\\to1}\\sqrt{\\frac{8r+1}{r+5}}$$"
   ]
  },
  {
   "cell_type": "code",
   "execution_count": 26,
   "metadata": {},
   "outputs": [
    {
     "name": "stdout",
     "output_type": "stream",
     "text": [
      "sqrt(2) sqrt(3)\n",
      "---------------\n",
      "       2\n",
      "\n"
     ]
    }
   ],
   "source": [
    "syms r\n",
    "pretty( limit( sqrt((8*r + 1) / (r + 5)), r, 1) )"
   ]
  },
  {
   "cell_type": "markdown",
   "metadata": {},
   "source": [
    "## Límites aplicando factorización y simplificación\n",
    "\n",
    "$$\\lim_{x\\to-2}\\left(\\frac{x^2-x-6}{x^2-4}\\right)$$"
   ]
  },
  {
   "cell_type": "code",
   "execution_count": 24,
   "metadata": {},
   "outputs": [
    {
     "name": "stdout",
     "output_type": "stream",
     "text": [
      "5\n",
      "-\n",
      "4\n",
      "\n"
     ]
    }
   ],
   "source": [
    "syms x\n",
    "pretty( limit( (x^2 - x - 6) / (x^2 - 4), x, -2) )"
   ]
  },
  {
   "cell_type": "markdown",
   "metadata": {},
   "source": [
    "$$\\lim_{x\\to4}\\left(\\frac{x^2-x-12}{x-4}\\right) $$"
   ]
  },
  {
   "cell_type": "code",
   "execution_count": 31,
   "metadata": {},
   "outputs": [
    {
     "name": "stdout",
     "output_type": "stream",
     "text": [
      "7\n",
      "\n"
     ]
    }
   ],
   "source": [
    "syms x\n",
    "pretty( limit( (x^2 - x -12) / (x - 4) , x, 4) )"
   ]
  },
  {
   "cell_type": "markdown",
   "metadata": {},
   "source": [
    "$$\\lim_{x\\to1}\\left(\\frac{x^2-3x+2}{x^2-4x+3}\\right) $$"
   ]
  },
  {
   "cell_type": "code",
   "execution_count": 32,
   "metadata": {},
   "outputs": [
    {
     "name": "stdout",
     "output_type": "stream",
     "text": [
      "1\n",
      "-\n",
      "2\n",
      "\n"
     ]
    }
   ],
   "source": [
    "syms x\n",
    "pretty( limit( (x^2 - 3*x + 2) / (x^2 - 4*x + 3), x, 1) )"
   ]
  },
  {
   "cell_type": "markdown",
   "metadata": {},
   "source": [
    "$$\\lim_{x\\to-3}\\left(\\frac{x^3+27}{x+3}\\right)$$"
   ]
  },
  {
   "cell_type": "code",
   "execution_count": 34,
   "metadata": {},
   "outputs": [
    {
     "name": "stdout",
     "output_type": "stream",
     "text": [
      "27\n",
      "\n"
     ]
    }
   ],
   "source": [
    "syms x\n",
    "pretty( limit( (x^3 + 27) / (x + 3), x, -3) )"
   ]
  },
  {
   "cell_type": "markdown",
   "metadata": {},
   "source": [
    "$$\\lim_{x\\to-2}\\left(\\frac{x^3-x^2-x+10}{x^2+3x+2}\\right)$$"
   ]
  },
  {
   "cell_type": "code",
   "execution_count": 35,
   "metadata": {},
   "outputs": [
    {
     "name": "stdout",
     "output_type": "stream",
     "text": [
      "-15\n",
      "\n"
     ]
    }
   ],
   "source": [
    "syms x\n",
    "pretty( limit( (x^3 - x^2 - x + 10)/(x^2 + 3*x + 2) , x, -2) )"
   ]
  },
  {
   "cell_type": "markdown",
   "metadata": {},
   "source": [
    "$$\\lim_{x\\to0}\\sqrt{\\frac{6x^3-x^2-2x}{2x^5+x^4-2x^2-x}}$$"
   ]
  },
  {
   "cell_type": "code",
   "execution_count": 36,
   "metadata": {},
   "outputs": [
    {
     "name": "stdout",
     "output_type": "stream",
     "text": [
      "sqrt(2)\n",
      "\n"
     ]
    }
   ],
   "source": [
    "syms x\n",
    "pretty( limit( sqrt( (6*x^3 - x^2 - 2*x) / (2*x^5 + x^4 - 2*x^2 - x)), x, 0) )"
   ]
  },
  {
   "cell_type": "markdown",
   "metadata": {},
   "source": [
    "$$\\lim_{x\\to4}\\left(\\frac{\\sqrt{x}-2}{x-4}\\right)$$"
   ]
  },
  {
   "cell_type": "code",
   "execution_count": 38,
   "metadata": {},
   "outputs": [
    {
     "name": "stdout",
     "output_type": "stream",
     "text": [
      "1\n",
      "-\n",
      "4\n",
      "\n"
     ]
    }
   ],
   "source": [
    "syms x\n",
    "pretty( limit( (sqrt(x)-2) / (x - 4), x, 4 ) )"
   ]
  },
  {
   "cell_type": "markdown",
   "metadata": {},
   "source": [
    "$$\\lim_{f\\to-1}\\left[\\sqrt[3]{\\frac{2f^2-f-3}{f^3+2f^2+6f+5}}\\right]^{-1}$$"
   ]
  },
  {
   "cell_type": "code",
   "execution_count": 40,
   "metadata": {},
   "outputs": [
    {
     "name": "stdout",
     "output_type": "stream",
     "text": [
      "      2/3\n",
      "- (-1)\n",
      "\n"
     ]
    }
   ],
   "source": [
    "syms f\n",
    "pretty( limit( ( (2*f^2 - f - 3)/(f^3 + 2*f^2 + 6*f + 5) )^(-1/3) , f, -1) )"
   ]
  },
  {
   "cell_type": "markdown",
   "metadata": {},
   "source": [
    "$$\\lim_{x\\to1}\\left(\\frac{x^n-1}{x-1}\\right)$$"
   ]
  },
  {
   "cell_type": "code",
   "execution_count": 42,
   "metadata": {},
   "outputs": [
    {
     "name": "stdout",
     "output_type": "stream",
     "text": [
      "n\n",
      "\n"
     ]
    }
   ],
   "source": [
    "syms x n\n",
    "pretty( limit( (x^n - 1) / (x - 1), x, 1) )"
   ]
  },
  {
   "cell_type": "markdown",
   "metadata": {},
   "source": [
    "$$\\lim_{x\\to1}\\left(\\frac{\\sqrt{x}-1}{x-1}\\right)$$"
   ]
  },
  {
   "cell_type": "code",
   "execution_count": 43,
   "metadata": {},
   "outputs": [
    {
     "name": "stdout",
     "output_type": "stream",
     "text": [
      "1\n",
      "-\n",
      "2\n",
      "\n"
     ]
    }
   ],
   "source": [
    "syms x\n",
    "pretty( limit( (sqrt(x) - 1) / (x - 1) , x, 1 ) )"
   ]
  },
  {
   "cell_type": "markdown",
   "metadata": {},
   "source": [
    "$$\\lim_{x\\to9}\\left(\\frac{3-\\sqrt{x}}{9-x}\\right)$$"
   ]
  },
  {
   "cell_type": "code",
   "execution_count": 46,
   "metadata": {},
   "outputs": [
    {
     "name": "stdout",
     "output_type": "stream",
     "text": [
      "1\n",
      "-\n",
      "6\n",
      "\n"
     ]
    }
   ],
   "source": [
    "syms x\n",
    "pretty( limit( (3-sqrt(x)) / (9-x), x, 9) )"
   ]
  },
  {
   "cell_type": "markdown",
   "metadata": {},
   "source": [
    "$$\\lim_{x\\to2}\\left(\\frac{x-2}{2|x-2|}\\right)$$"
   ]
  },
  {
   "cell_type": "code",
   "execution_count": 51,
   "metadata": {},
   "outputs": [
    {
     "name": "stdout",
     "output_type": "stream",
     "text": [
      "1\n",
      "-\n",
      "2\n",
      "\n",
      "  1\n",
      "- -\n",
      "  2\n",
      "\n",
      "NaN\n",
      "\n"
     ]
    }
   ],
   "source": [
    "syms x\n",
    "pretty( limit( (x - 2) / (2*abs(x - 2) ) , x, 2, 'right'))\n",
    "pretty( limit( (x - 2) / (2*abs(x - 2) ) , x, 2, 'left'))\n",
    "pretty( limit( (x - 2) / (2*abs(x - 2) ) , x, 2))"
   ]
  },
  {
   "cell_type": "markdown",
   "metadata": {},
   "source": [
    "$$\\lim_{x\\to1}\\left(\\frac{x^6-1}{x^3-1}\\right)$$"
   ]
  },
  {
   "cell_type": "code",
   "execution_count": 52,
   "metadata": {},
   "outputs": [
    {
     "name": "stdout",
     "output_type": "stream",
     "text": [
      "2\n",
      "\n"
     ]
    }
   ],
   "source": [
    "syms x\n",
    "pretty( limit( (x^6 -1) / (x^3 - 1), x, 1) )"
   ]
  },
  {
   "cell_type": "code",
   "execution_count": 48,
   "metadata": {},
   "outputs": [
    {
     "name": "stdout",
     "output_type": "stream",
     "text": [
      "--- help for sym/limit ---\n",
      "\n",
      " LIMIT    Limit of an expression.\n",
      "    LIMIT(F,x,a) takes the limit of the symbolic expression F as x -> a.\n",
      "    LIMIT(F,a) uses symvar(F) as the independent variable.\n",
      "    LIMIT(F) uses a = 0 as the limit point.\n",
      "    LIMIT(F,x,a,'right') or LIMIT(F,x,a,'left') specify the direction\n",
      "    of a one-sided limit.\n",
      " \n",
      "    Examples:\n",
      "      syms x a t h;\n",
      " \n",
      "      limit(sin(x)/x)                 returns   1\n",
      "      limit((x-2)/(x^2-4),2)          returns   1/4\n",
      "      limit((1+2*t/x)^(3*x),x,inf)    returns   exp(6*t)\n",
      "      limit(1/x,x,0,'right')          returns   inf\n",
      "      limit(1/x,x,0,'left')           returns   -inf\n",
      "      limit((sin(x+h)-sin(x))/h,h,0)  returns   cos(x)\n",
      "      v = [(1 + a/x)^x, exp(-x)];\n",
      "      limit(v,x,inf,'left')           returns   [exp(a),  0]\n",
      "\n",
      "    Reference page in Doc Center\n",
      "       doc sym/limit\n",
      "\n",
      "\n"
     ]
    }
   ],
   "source": [
    "help limit"
   ]
  },
  {
   "cell_type": "markdown",
   "metadata": {},
   "source": [
    "## Límites aplicando racionalización\n",
    "\n",
    "$$\\lim_{x\\to4}\\left(\\frac{\\sqrt{x}-2}{x-4}\\right)$$"
   ]
  },
  {
   "cell_type": "code",
   "execution_count": 64,
   "metadata": {},
   "outputs": [
    {
     "name": "stdout",
     "output_type": "stream",
     "text": [
      "1\n",
      "-\n",
      "4\n",
      "\n"
     ]
    }
   ],
   "source": [
    "syms x\n",
    "pretty( limit( (sqrt(x) - 2) / (x - 4) , x, 4) )"
   ]
  },
  {
   "cell_type": "code",
   "execution_count": 66,
   "metadata": {},
   "outputs": [
    {
     "data": {
      "image/png": "[encoded data removed]",
      "text/plain": [
       "<IPython.core.display.Image object>"
      ]
     },
     "metadata": {},
     "output_type": "display_data"
    }
   ],
   "source": [
    "fplot(@(x) (sqrt(x) - 3)./(x - 4),[0,5] )"
   ]
  },
  {
   "cell_type": "markdown",
   "metadata": {},
   "source": [
    "$$\\lim_{x\\to1}\\left(\\frac{1-x}{\\sqrt{5-x^2}-2}\\right)$$"
   ]
  },
  {
   "cell_type": "code",
   "execution_count": 69,
   "metadata": {},
   "outputs": [
    {
     "name": "stdout",
     "output_type": "stream",
     "text": [
      "2\n",
      "\n"
     ]
    }
   ],
   "source": [
    "syms x\n",
    "pretty(limit ( (1-x) / ( sqrt(5-x^2) - 2) , x, 1))"
   ]
  },
  {
   "cell_type": "markdown",
   "metadata": {},
   "source": [
    "$$\\lim_{x\\to0}\\left(\\frac{\\sqrt{x+1} -1}{x}\\right)$$"
   ]
  },
  {
   "cell_type": "code",
   "execution_count": 70,
   "metadata": {},
   "outputs": [
    {
     "name": "stdout",
     "output_type": "stream",
     "text": [
      "1\n",
      "-\n",
      "2\n",
      "\n"
     ]
    }
   ],
   "source": [
    "syms x\n",
    "pretty( limit( (sqrt(x + 1) - 1) / (x) , x, 0) )"
   ]
  },
  {
   "cell_type": "markdown",
   "metadata": {},
   "source": [
    "$$\\lim_{h\\to a}\\left(\\frac{\\sqrt{h}-\\sqrt{a}}{h-a}\\right)$$"
   ]
  },
  {
   "cell_type": "code",
   "execution_count": 71,
   "metadata": {},
   "outputs": [
    {
     "name": "stdout",
     "output_type": "stream",
     "text": [
      "    1\n",
      "---------\n",
      "2 sqrt(a)\n",
      "\n"
     ]
    }
   ],
   "source": [
    "syms h a\n",
    "pretty( limit( (sqrt(h) - sqrt(a) ) / (h - a), h, a) )"
   ]
  },
  {
   "cell_type": "markdown",
   "metadata": {},
   "source": [
    "$$\\lim_{x\\to2}\\left(\\frac{4-x^2}{3-\\sqrt{x^2+5}}\\right)$$"
   ]
  },
  {
   "cell_type": "code",
   "execution_count": 73,
   "metadata": {},
   "outputs": [
    {
     "name": "stdout",
     "output_type": "stream",
     "text": [
      "6\n",
      "\n"
     ]
    }
   ],
   "source": [
    "syms x\n",
    "pretty( limit( (4 - x^2) / (3 - sqrt(x^2 + 5) ) , x, 2) )"
   ]
  },
  {
   "cell_type": "markdown",
   "metadata": {},
   "source": [
    "$$\\lim_{x\\to3}\\left(\\frac{\\sqrt{x+1}-2}{x-3}\\right)$$"
   ]
  },
  {
   "cell_type": "code",
   "execution_count": 74,
   "metadata": {},
   "outputs": [
    {
     "name": "stdout",
     "output_type": "stream",
     "text": [
      "1\n",
      "-\n",
      "4\n",
      "\n"
     ]
    }
   ],
   "source": [
    "syms x\n",
    "pretty( limit( (sqrt(x + 1) - 2) / (x - 3), x, 3) )"
   ]
  },
  {
   "cell_type": "markdown",
   "metadata": {},
   "source": [
    "$$\\lim_{x\\to9}\\left(\\frac{x-9}{\\sqrt{x}-3}\\right)$$"
   ]
  },
  {
   "cell_type": "code",
   "execution_count": 75,
   "metadata": {},
   "outputs": [
    {
     "name": "stdout",
     "output_type": "stream",
     "text": [
      "6\n",
      "\n"
     ]
    }
   ],
   "source": [
    "syms x\n",
    "pretty( limit( (x - 9) / (sqrt(x) - 3), x, 9) )"
   ]
  },
  {
   "cell_type": "markdown",
   "metadata": {},
   "source": [
    "$$\\lim_{x\\to0}\\frac{\\sqrt{x+4}-2}{x}$$"
   ]
  },
  {
   "cell_type": "code",
   "execution_count": 76,
   "metadata": {},
   "outputs": [
    {
     "name": "stdout",
     "output_type": "stream",
     "text": [
      "1\n",
      "-\n",
      "4\n",
      "\n"
     ]
    }
   ],
   "source": [
    "syms x\n",
    "pretty( limit( (sqrt(x + 4) - 2) / (x), x, 0) )"
   ]
  },
  {
   "cell_type": "markdown",
   "metadata": {},
   "source": [
    "$$\\lim_{x\\to3}\\left(\\frac{\\sqrt{2x+3}-x}{x-3}\\right)$$"
   ]
  },
  {
   "cell_type": "code",
   "execution_count": 77,
   "metadata": {},
   "outputs": [
    {
     "name": "stdout",
     "output_type": "stream",
     "text": [
      "  2\n",
      "- -\n",
      "  3\n",
      "\n"
     ]
    }
   ],
   "source": [
    "syms x\n",
    "pretty( limit( (sqrt(2*x +3) - x) / (x - 3), x, 3) )"
   ]
  },
  {
   "cell_type": "markdown",
   "metadata": {},
   "source": [
    "$$\\lim_{x\\to-1}\\left(\\frac{\\sqrt{x^2+3}-2}{x+1}\\right)$$"
   ]
  },
  {
   "cell_type": "code",
   "execution_count": 79,
   "metadata": {},
   "outputs": [
    {
     "name": "stdout",
     "output_type": "stream",
     "text": [
      "  1\n",
      "- -\n",
      "  2\n",
      "\n"
     ]
    }
   ],
   "source": [
    "syms x\n",
    "pretty( limit( (sqrt(x^2 + 3) - 2) / (x + 1) , x, -1) )"
   ]
  },
  {
   "cell_type": "markdown",
   "metadata": {},
   "source": [
    "$$\\lim_{x\\to-3}\\left(\\frac{x+3}{\\sqrt{x^2+7}-4}\\right)$$"
   ]
  },
  {
   "cell_type": "code",
   "execution_count": 80,
   "metadata": {},
   "outputs": [
    {
     "name": "stdout",
     "output_type": "stream",
     "text": [
      "  4\n",
      "- -\n",
      "  3\n",
      "\n"
     ]
    }
   ],
   "source": [
    "syms x\n",
    "pretty( limit( (x + 3) / (sqrt(x^2 + 7) - 4) , x, -3) )"
   ]
  },
  {
   "cell_type": "markdown",
   "metadata": {},
   "source": [
    "$$\\lim_{x\\to4}\\left(\\frac{x-4}{3\\left(\\sqrt{x}-2\\right)}\\right)$$"
   ]
  },
  {
   "cell_type": "code",
   "execution_count": 81,
   "metadata": {},
   "outputs": [
    {
     "name": "stdout",
     "output_type": "stream",
     "text": [
      "4\n",
      "-\n",
      "3\n",
      "\n"
     ]
    }
   ],
   "source": [
    "syms x\n",
    "pretty( limit( (x-4) / (3*(sqrt(x) - 2)) , x, 4) )"
   ]
  },
  {
   "cell_type": "markdown",
   "metadata": {},
   "source": [
    "$$\\lim_{x\\to5}\\left(\\frac{\\sqrt{x-4}-\\sqrt{3x-14}}{x-5}\\right)$$"
   ]
  },
  {
   "cell_type": "code",
   "execution_count": 83,
   "metadata": {},
   "outputs": [
    {
     "name": "stdout",
     "output_type": "stream",
     "text": [
      "-1\n",
      "\n"
     ]
    }
   ],
   "source": [
    "syms x\n",
    "pretty( limit( (sqrt(x - 4) - sqrt(3*x - 14) ) / (x - 5) , x, 5) )"
   ]
  },
  {
   "cell_type": "markdown",
   "metadata": {},
   "source": [
    "$$\\lim_{x\\to3}\\left(\\frac{\\sqrt{x^2-2x+6}-\\sqrt{x^2+2x-6}}{x^2-4x+3} \\right)$$"
   ]
  },
  {
   "cell_type": "code",
   "execution_count": 84,
   "metadata": {},
   "outputs": [
    {
     "name": "stdout",
     "output_type": "stream",
     "text": [
      "  1\n",
      "- -\n",
      "  3\n",
      "\n"
     ]
    }
   ],
   "source": [
    "syms x\n",
    "pretty( limit( (sqrt(x^2 - 2*x + 6) - sqrt(x^2 + 2*x - 6) ) / (x^2 - 4*x +3), x, 3) )"
   ]
  },
  {
   "cell_type": "markdown",
   "metadata": {},
   "source": [
    "$$\\lim_{h\\to0}\\left(\\frac{\\sqrt{x+h}-\\sqrt{x}}{h}\\right)$$"
   ]
  },
  {
   "cell_type": "code",
   "execution_count": 85,
   "metadata": {},
   "outputs": [
    {
     "name": "stdout",
     "output_type": "stream",
     "text": [
      "    1\n",
      "---------\n",
      "2 sqrt(x)\n",
      "\n"
     ]
    }
   ],
   "source": [
    "syms x h\n",
    "pretty( limit( (sqrt(x + h)- sqrt(x)) / (h) , h, 0) )"
   ]
  },
  {
   "cell_type": "markdown",
   "metadata": {},
   "source": [
    "$$\\lim_{x\\to3}\\left(\\frac{\\sqrt{x+1}-2}{\\sqrt{x^2-x-2}-2}\\right)$$"
   ]
  },
  {
   "cell_type": "code",
   "execution_count": 86,
   "metadata": {},
   "outputs": [
    {
     "name": "stdout",
     "output_type": "stream",
     "text": [
      "1\n",
      "-\n",
      "5\n",
      "\n"
     ]
    }
   ],
   "source": [
    "syms x\n",
    "pretty( limit((sqrt(x + 1) - 2) / (sqrt(x^2 - x - 2) -2) , x, 3) )"
   ]
  },
  {
   "cell_type": "markdown",
   "metadata": {},
   "source": [
    "$$\\lim_{x\\to0}\\left(\\frac{\\sqrt{x+1}-1}{\\sqrt{4+x}-2}\\right)$$"
   ]
  },
  {
   "cell_type": "code",
   "execution_count": 87,
   "metadata": {},
   "outputs": [
    {
     "name": "stdout",
     "output_type": "stream",
     "text": [
      "2\n",
      "\n"
     ]
    }
   ],
   "source": [
    "syms x\n",
    "pretty( limit((sqrt(x + 1) - 1) / (sqrt(4 + x) - 2) , x, 0) )"
   ]
  },
  {
   "cell_type": "markdown",
   "metadata": {},
   "source": [
    "## Límites aplicando factor racionalizante\n",
    "$$\\lim_{x\\to2}\\left(\\frac{x^2-2x}{\\sqrt[3]{x^2+2x}-2}\\right)$$\n",
    "\n",
    "Para $n=3$:\n",
    "\n",
    "$$\\lim_{x\\to2}\\left(\\frac{x^2-2x}{\\sqrt[3]{x^2+2x}-2}\\right)\\left(\\frac{\\sqrt[3]{\\left(x^2+2x\\right)^2}+2\\sqrt[3]{x^2+2x}+4}{\\sqrt[3]{\\left(x^2+2x\\right)^2}+2\\sqrt[3]{x^2+2x}+4}\\right)$$\n",
    "\n",
    "Pero, se tiene que: $$(x^2+2x)-8=(\\sqrt[3]{x^2+2x}-2)\\left(\\sqrt[3]{\\left(x^2+2x\\right)^2}+2\\sqrt[3]{x^2+2x}+4\\right)$$\n",
    "\n",
    "\\begin{align}\n",
    "&=\\lim_{x\\to2}\\left(\\frac{x(x-2)\\left(\\sqrt[3]{\\left(x^2+2x\\right)^2}+2\\sqrt[3]{x^2+2x}+4\\right)}{(x^2+2x)-8}\\right)\\\\\n",
    "&=\\lim_{x\\to2}\\left(\\frac{x(x-2)\\left(\\sqrt[3]{\\left(x^2+2x\\right)^2}+2\\sqrt[3]{x^2+2x}+4\\right)}{(x-2)(x+4)}\\right)\\\\\n",
    "&=\\lim_{x\\to2}\\left(\\frac{x\\left(\\sqrt[3]{\\left(x^2+2x\\right)^2}+2\\sqrt[3]{x^2+2x}+4\\right)}{x+4}\\right)\\\\\n",
    "\\end{align}"
   ]
  },
  {
   "cell_type": "code",
   "execution_count": 93,
   "metadata": {},
   "outputs": [
    {
     "name": "stdout",
     "output_type": "stream",
     "text": [
      "4\n",
      "\n"
     ]
    }
   ],
   "source": [
    "syms x\n",
    "pretty( limit( (x^2 -2*x) / ( (x^2 + 2*x)^(1/3) - 2) , x, 2))"
   ]
  },
  {
   "cell_type": "markdown",
   "metadata": {},
   "source": [
    "Pero:\n",
    "$$\n",
    "\\begin{align*}\n",
    "\\left(\\sqrt[4]{3x^2+4}-2\\right)\\left(\\sqrt[4]{\\left(3x^2+4\\right)^3}+2\\sqrt[4]{\\left(3x^2+4\\right)^2}+4\\sqrt[4]{\\left(3x^2+4\\right)^2}+8\\right)&=(3x^2+4)-2^4=3(x+2)(x-2)\\\\\n",
    "(\\sqrt[5]{4x^2+5x+6}-2)\\left(\\sqrt[5]{\\left(4x^2+5x+6\\right)^4}+2\\sqrt[5]{\\left(4x^2+5x+6\\right)^3}+4\\sqrt[5]{\\left(4x^2+5x+6\\right)^2}+8\\sqrt[5]{\\left(4x^2+5x+6\\right)^1}+16\\right)&=(4x^2+5x+6)-2^5=(x-2)(4x+13)\n",
    "\\end{align*}\n",
    "$$\n",
    "\n",
    "Así, resulta:\n",
    "$$\n",
    "\\begin{align*}\n",
    "&=\\lim_{x\\to2}\\left(\\frac{\\sqrt[4]{3x^2+4}-2}{\\sqrt[5]{4x^2+5x+6}-2}\\right)\\\\\n",
    "&=\\lim_{x\\to2}\\left(\\frac{3(x+2)(x-2)\\left(\\sqrt[5]{\\left(4x^2+5x+6\\right)^4}+2\\sqrt[5]{\\left(4x^2+5x+6\\right)^3}+4\\sqrt[5]{\\left(4x^2+5x+6\\right)^2}+8\\sqrt[5]{\\left(4x^2+5x+6\\right)^1}+16\\right)}{(x-2)(4x+13)\\left(\\sqrt[4]{\\left(3x^2+4\\right)^3}+2\\sqrt[4]{\\left(3x^2+4\\right)^2}+4\\sqrt[4]{\\left(3x^2+4\\right)^2}+8\\right)}\\right)\\\\\n",
    "\\end{align*}\n",
    "$$"
   ]
  },
  {
   "cell_type": "code",
   "execution_count": 100,
   "metadata": {},
   "outputs": [
    {
     "name": "stdout",
     "output_type": "stream",
     "text": [
      "10\n",
      "--\n",
      " 7\n",
      "\n"
     ]
    }
   ],
   "source": [
    "syms x\n",
    "pretty( limit( ( (3*x^2 + 4)^(1/4) - 2) / ( (4*x^2 + 5*x + 6)^(1/5) - 2) , x, 2) )"
   ]
  },
  {
   "cell_type": "markdown",
   "metadata": {},
   "source": [
    "## Límites al infinito\n",
    "\n",
    "$$\n",
    "\\lim_{x\\to+\\infty}\\left(\\frac{4x+1}{\\sqrt{x^2+1}}\\right)\n",
    "$$"
   ]
  },
  {
   "cell_type": "code",
   "execution_count": 101,
   "metadata": {},
   "outputs": [
    {
     "name": "stdout",
     "output_type": "stream",
     "text": [
      "4\n",
      "\n"
     ]
    }
   ],
   "source": [
    "syms x\n",
    "pretty( limit( (4*x + 1) / (sqrt(x^2 + 1) ) , x, inf) )"
   ]
  },
  {
   "cell_type": "markdown",
   "metadata": {},
   "source": [
    "$$\n",
    "\\lim_{x\\to-\\infty}\\left(10^x\\right)\n",
    "$$"
   ]
  },
  {
   "cell_type": "code",
   "execution_count": 102,
   "metadata": {},
   "outputs": [
    {
     "name": "stdout",
     "output_type": "stream",
     "text": [
      "0\n",
      "\n"
     ]
    }
   ],
   "source": [
    "syms x\n",
    "pretty( limit(10^x , x, -inf) )"
   ]
  },
  {
   "cell_type": "markdown",
   "metadata": {},
   "source": [
    "$$\n",
    "\\lim_{x\\to+\\infty}\\left(2x^3-x^2+x-1\\right)\n",
    "$$"
   ]
  },
  {
   "cell_type": "code",
   "execution_count": 103,
   "metadata": {},
   "outputs": [
    {
     "name": "stdout",
     "output_type": "stream",
     "text": [
      "Inf\n",
      "\n"
     ]
    }
   ],
   "source": [
    "syms x\n",
    "pretty( limit(2*x^3 - x^2 + x - 1, x, inf) )"
   ]
  },
  {
   "cell_type": "markdown",
   "metadata": {},
   "source": [
    "$$\n",
    "\\lim_{x\\to\\infty}\\left(\\frac{2x^2-x+5}{4x^3-1}\\right)\n",
    "$$"
   ]
  },
  {
   "cell_type": "code",
   "execution_count": 104,
   "metadata": {},
   "outputs": [
    {
     "name": "stdout",
     "output_type": "stream",
     "text": [
      "0\n",
      "\n"
     ]
    }
   ],
   "source": [
    "syms x\n",
    "pretty( limit( (2*x^2 - x + 5) / (4*x^3 - 1) , x, inf) )"
   ]
  },
  {
   "cell_type": "markdown",
   "metadata": {},
   "source": [
    "$$\n",
    "\\lim_{x\\to\\infty}\\left(\\sqrt{x^2+x+5}-x\\right)\n",
    "$$"
   ]
  },
  {
   "cell_type": "code",
   "execution_count": 106,
   "metadata": {},
   "outputs": [
    {
     "name": "stdout",
     "output_type": "stream",
     "text": [
      "1\n",
      "-\n",
      "2\n",
      "\n"
     ]
    }
   ],
   "source": [
    "syms x\n",
    "pretty( limit( sqrt(x^2 + x + 5) - x, x, inf ) )"
   ]
  },
  {
   "cell_type": "markdown",
   "metadata": {},
   "source": [
    "$$\n",
    "\\lim_{x\\to\\infty}\\left(\\frac{2x-x^2}{3x+5}\\right)\n",
    "$$"
   ]
  },
  {
   "cell_type": "code",
   "execution_count": 107,
   "metadata": {},
   "outputs": [
    {
     "name": "stdout",
     "output_type": "stream",
     "text": [
      "-Inf\n",
      "\n"
     ]
    }
   ],
   "source": [
    "syms x\n",
    "pretty( limit((2*x - x^2) / (3*x + 6), x, inf) )"
   ]
  },
  {
   "cell_type": "markdown",
   "metadata": {},
   "source": [
    "$$\n",
    "\\lim_{x\\to\\infty}\\left(\\sqrt{x+a}-\\sqrt{x}\\right)\n",
    "$$"
   ]
  },
  {
   "cell_type": "code",
   "execution_count": 108,
   "metadata": {},
   "outputs": [
    {
     "name": "stdout",
     "output_type": "stream",
     "text": [
      "0\n",
      "\n"
     ]
    }
   ],
   "source": [
    "syms x\n",
    "pretty( limit(sqrt(x + a) - sqrt(x) , x, inf) )"
   ]
  },
  {
   "cell_type": "markdown",
   "metadata": {},
   "source": [
    "$$\n",
    "\\lim_{a\\to\\infty}\\left(\\sqrt{a^2x^2+\\frac{a-b}{2}}-ax\\right)\n",
    "$$"
   ]
  },
  {
   "cell_type": "code",
   "execution_count": 111,
   "metadata": {},
   "outputs": [
    {
     "name": "stdout",
     "output_type": "stream",
     "text": [
      "             /  2  2   a   b \\\n",
      "   lim   sqrt| a  x  + - - - | - a x\n",
      "a -> Inf     \\         2   2 /\n",
      "\n"
     ]
    }
   ],
   "source": [
    "syms a b x\n",
    "pretty( limit( sqrt( (a*x)^2 + (a-b)/2) - a*x, a, inf) )"
   ]
  },
  {
   "cell_type": "markdown",
   "metadata": {},
   "source": [
    "$$\\lim_{x\\to\\infty}\\left(\\frac{x^3+9x^2+20x}{x^2+x-12}\\right)$$"
   ]
  },
  {
   "cell_type": "code",
   "execution_count": 112,
   "metadata": {},
   "outputs": [
    {
     "name": "stdout",
     "output_type": "stream",
     "text": [
      "Inf\n",
      "\n"
     ]
    }
   ],
   "source": [
    "syms x\n",
    "pretty( limit( (x^3 + 9*x^2 +  20*x) / (x^2 + x - 12) , x, inf) )"
   ]
  },
  {
   "cell_type": "markdown",
   "metadata": {},
   "source": [
    "$$\\lim_{x\\to\\infty}\\left(\\frac{5x^3+4x^2-5}{2x^3+2x+5}\\right)$$"
   ]
  },
  {
   "cell_type": "code",
   "execution_count": 113,
   "metadata": {},
   "outputs": [
    {
     "name": "stdout",
     "output_type": "stream",
     "text": [
      "5\n",
      "-\n",
      "2\n",
      "\n"
     ]
    }
   ],
   "source": [
    "syms x\n",
    "pretty( limit( (5*x^3 + 4*x^2 - 5) / (2*x^3 + 2*x + 5) , x, inf) )"
   ]
  },
  {
   "cell_type": "markdown",
   "metadata": {},
   "source": [
    "$$\\lim_{x\\to\\infty}\\left(\\frac{3x^3+6x^2-5}{5x^4-2x^3+x+1}\\right)$$"
   ]
  },
  {
   "cell_type": "code",
   "execution_count": 114,
   "metadata": {},
   "outputs": [
    {
     "name": "stdout",
     "output_type": "stream",
     "text": [
      "0\n",
      "\n"
     ]
    }
   ],
   "source": [
    "syms x\n",
    "pretty( limit( (3*x^3 + 6*x^2 - 5) / (5*x^4 - 2*x^3 + x + 1) , x, inf) )"
   ]
  },
  {
   "cell_type": "markdown",
   "metadata": {},
   "source": [
    "$$\\lim_{x\\to\\infty}\\left(\\frac{\\sqrt{16x^2-3}+3x}{2x}\\right)$$"
   ]
  },
  {
   "cell_type": "code",
   "execution_count": 116,
   "metadata": {},
   "outputs": [
    {
     "name": "stdout",
     "output_type": "stream",
     "text": [
      "7\n",
      "-\n",
      "2\n",
      "\n"
     ]
    }
   ],
   "source": [
    "syms x\n",
    "pretty( limit( (sqrt(16*x^2 -3) + 3*x) / (2*x) , x, inf) )"
   ]
  },
  {
   "cell_type": "markdown",
   "metadata": {},
   "source": [
    "$$\\lim_{x\\to-\\infty}\\left(\\frac{\\sqrt{x^2+3}}{4x}\\right)$$"
   ]
  },
  {
   "cell_type": "code",
   "execution_count": 129,
   "metadata": {},
   "outputs": [
    {
     "name": "stdout",
     "output_type": "stream",
     "text": [
      "  1\n",
      "- -\n",
      "  4\n",
      "\n"
     ]
    }
   ],
   "source": [
    "syms x\n",
    "pretty( limit( sqrt(x^2 + 3) / (4*x), x, -inf) )"
   ]
  },
  {
   "cell_type": "markdown",
   "metadata": {},
   "source": [
    "$$\\lim_{x\\to-\\infty}\\left(\\frac{4x+5}{3x+\\sqrt[x]{x}}\\right)$$"
   ]
  },
  {
   "cell_type": "code",
   "execution_count": 138,
   "metadata": {},
   "outputs": [
    {
     "name": "stdout",
     "output_type": "stream",
     "text": [
      "4\n",
      "-\n",
      "3\n",
      "\n",
      "4\n",
      "-\n",
      "3\n",
      "\n"
     ]
    }
   ],
   "source": [
    "syms x\n",
    "pretty( limit((4*x + 5) / (3*x + x^(1/3) ), x, -inf) )\n",
    "pretty( limit( (4*x + 5) / (3*x + x^(1/3) ), x, -inf, 'right') )% not left side"
   ]
  },
  {
   "cell_type": "markdown",
   "metadata": {},
   "source": [
    "$$\\lim_{x\\to\\infty}\\left(\\frac{\\sqrt{4x^3+2x^2-5}-\\sqrt[3]{x^4+2x}}{\\sqrt[4]{x^6+2x^5+4}+\\sqrt[5]{x^7+1}}\\right)$$"
   ]
  },
  {
   "cell_type": "code",
   "execution_count": 142,
   "metadata": {},
   "outputs": [
    {
     "name": "stdout",
     "output_type": "stream",
     "text": [
      "2\n",
      "\n"
     ]
    }
   ],
   "source": [
    "syms x\n",
    "pretty( limit( ( sqrt(4*x^3 + 2*x^2) - (x^4 + 2*x)^(1/3) ) / ( (x^6 + 2*x^5 + 4)^(1/4) + (x^7 + 1)^(1/5) ), x, inf) )"
   ]
  },
  {
   "cell_type": "markdown",
   "metadata": {},
   "source": [
    "$$\\lim_{x\\to\\infty}\\sqrt[4]{x^2-2x-x^4}$$\n",
    "Calculando el dominio de la función: $\\displaystyle\\lim_{x\\to\\infty}\\sqrt[4]{x^2-2x-x^4}$, esto es, $x^2-2x-x^4\\ge0\\implies x>-1.5213$."
   ]
  },
  {
   "cell_type": "code",
   "execution_count": 143,
   "metadata": {},
   "outputs": [
    {
     "name": "stdout",
     "output_type": "stream",
     "text": [
      "Inf + 1i Inf\n",
      "\n"
     ]
    }
   ],
   "source": [
    "syms x\n",
    "pretty( limit( (x^2 - 2*x - x^4)^(1/4) , x, inf) )"
   ]
  },
  {
   "cell_type": "markdown",
   "metadata": {},
   "source": [
    "$$\\lim_{x\\to\\infty}\\frac{\\sqrt{x(x+b)}-x}{x\\left(\\sqrt{x^2+5}-x\\right)}$$"
   ]
  },
  {
   "cell_type": "code",
   "execution_count": 144,
   "metadata": {},
   "outputs": [
    {
     "name": "stdout",
     "output_type": "stream",
     "text": [
      "b\n",
      "-\n",
      "5\n",
      "\n"
     ]
    }
   ],
   "source": [
    "syms b x\n",
    "pretty( limit( (sqrt(x*(x + b) ) - x) / (x*(sqrt(x^2 + 5) - x) ), x, inf) )"
   ]
  },
  {
   "cell_type": "markdown",
   "metadata": {},
   "source": [
    "$$\n",
    "\\begin{align*}\n",
    "\\lim_{x\\to\\infty}\\left[\\left(\\frac{x^4+kx^3-2}{x^3-x-2}-\\sqrt{x^2+3x+5}\\right)\\right]\n",
    "&=\\frac{1}{2}\\\\\n",
    "\\lim_{x\\to\\infty}\\left[\\left(\\frac{x^4+kx^3-2}{x^3-x-2}-x\\right)-\\left(\\sqrt{x^2+3x+5}-x\\right)\\right]\n",
    "&=\\frac{1}{2}\\\\\n",
    "\\lim_{x\\to\\infty}\\left[\\left(\\frac{kx^3-2+x^2+2x}{x^3-x-2}\\right)-\\left(\\sqrt{x^2+3x+5}-x\\right)\\frac{\\left(\\sqrt{x^2+3x+5}+x\\right)}{\\left(\\sqrt{x^2+3x+5}+x\\right)}\\right]\n",
    "&=\\frac{1}{2}\\\\\n",
    "\\lim_{x\\to\\infty}\\left[\\left(\\frac{kx^3-2+x^2+2x}{x^3-x-2}\\right)-\\frac{\\left(x^2+3x+5-x^2\\right)}{\\left(\\sqrt{x^2+3x+5}+x\\right)}\\right]\n",
    "&=\\frac{1}{2}\\\\\n",
    "\\end{align*}\n",
    "$$"
   ]
  },
  {
   "cell_type": "code",
   "execution_count": 156,
   "metadata": {},
   "outputs": [
    {
     "name": "stdout",
     "output_type": "stream",
     "text": [
      " \n",
      "ans =\n",
      " \n",
      "k - 3/2\n",
      " \n"
     ]
    }
   ],
   "source": [
    "syms k x\n",
    "limit( (x^4 + k*x^3 - 2) / (x^3 - x - 2) - sqrt(x^2 + 3*x + 5) , x, inf)\n",
    "%solve('k-3/2=1/2', 'k')"
   ]
  },
  {
   "cell_type": "markdown",
   "metadata": {},
   "source": [
    "$$\\lim_{x\\to\\infty}\\left(tx+c-\\frac{x^3+1}{x^2+1}\\right)=\\lim_{x\\to\\infty}\\left(\\frac{(t-1)x^3+cx^2+tx+(c-1)}{x^2+1}\\right)=0\\implies t=1 \\wedge c=0.$$\n",
    "\n"
   ]
  },
  {
   "cell_type": "code",
   "execution_count": 164,
   "metadata": {},
   "outputs": [
    {
     "name": "stdout",
     "output_type": "stream",
     "text": [
      "     3\n",
      "    x  + 1\n",
      "c - ------ + t x\n",
      "     2\n",
      "    x  + 1\n",
      "\n",
      "         3      2\n",
      "(t - 1) x  + c x  + t x + c - 1\n",
      "-------------------------------\n",
      "              2\n",
      "             x  + 1\n",
      "\n"
     ]
    }
   ],
   "source": [
    "syms c t x\n",
    "expr = t*x + c - ( (x^3 + 1) / (x^2 + 1) );\n",
    "pretty( expr )\n",
    "pretty ( collect( expr ) )"
   ]
  },
  {
   "cell_type": "markdown",
   "metadata": {},
   "source": [
    "$$\\lim_{x\\to\\infty}\\frac{x^2-3x}{4x^2+5}$$"
   ]
  },
  {
   "cell_type": "code",
   "execution_count": 166,
   "metadata": {},
   "outputs": [
    {
     "name": "stdout",
     "output_type": "stream",
     "text": [
      "1\n",
      "-\n",
      "4\n",
      "\n"
     ]
    }
   ],
   "source": [
    "syms x\n",
    "pretty( limit( (x^2 - 3*x) / (4*x^2 + 5) , x, inf) )"
   ]
  },
  {
   "cell_type": "markdown",
   "metadata": {},
   "source": [
    "$$\\lim_{x\\to\\infty}\\left(5-\\frac{2}{x^4}\\right)$$"
   ]
  },
  {
   "cell_type": "code",
   "execution_count": 167,
   "metadata": {},
   "outputs": [
    {
     "name": "stdout",
     "output_type": "stream",
     "text": [
      "5\n",
      "\n"
     ]
    }
   ],
   "source": [
    "syms x\n",
    "pretty( limit( 5 - 2/x^4 , x, inf))"
   ]
  },
  {
   "cell_type": "markdown",
   "metadata": {},
   "source": [
    "$$\n",
    "\\lim_{x\\to\\infty}\\left(\\frac{x^2}{x^{-2}+5}\\right)\n",
    "$$"
   ]
  },
  {
   "cell_type": "code",
   "execution_count": 168,
   "metadata": {},
   "outputs": [
    {
     "name": "stdout",
     "output_type": "stream",
     "text": [
      "Inf\n",
      "\n"
     ]
    }
   ],
   "source": [
    "syms x\n",
    "pretty( limit( (x^2) / (x^(-2) + 5) , x, inf) )"
   ]
  },
  {
   "cell_type": "markdown",
   "metadata": {},
   "source": [
    "$$\\lim_{x\\to\\infty}\\left(\\frac{8-\\sqrt{x}}{1+4\\sqrt{x}}\\right)$$"
   ]
  },
  {
   "cell_type": "code",
   "execution_count": 169,
   "metadata": {},
   "outputs": [
    {
     "name": "stdout",
     "output_type": "stream",
     "text": [
      "  1\n",
      "- -\n",
      "  4\n",
      "\n"
     ]
    }
   ],
   "source": [
    "syms x\n",
    "pretty( limit( ( 8-sqrt(x) ) / (1 + 4*sqrt(x) ) ,x , inf) )"
   ]
  },
  {
   "cell_type": "markdown",
   "metadata": {},
   "source": [
    "$$\\lim_{x\\to\\infty}\\left(\\frac{3x}{x+2}-\\frac{x-1}{2x+6}\\right)$$"
   ]
  },
  {
   "cell_type": "code",
   "execution_count": 170,
   "metadata": {},
   "outputs": [
    {
     "name": "stdout",
     "output_type": "stream",
     "text": [
      "5\n",
      "-\n",
      "2\n",
      "\n"
     ]
    }
   ],
   "source": [
    "syms x\n",
    "pretty( limit( (3*x) / (x + 2) - (x - 1) / (2*x + 6) , x, inf) )"
   ]
  },
  {
   "cell_type": "markdown",
   "metadata": {},
   "source": [
    "$$\\lim_{x\\to\\infty}\\left[\\left(\\frac{x}{3x+1}\\right)\\cdot{\\left(\\frac{4x^2+1}{2x^2+x}\\right)}^3\\right]$$"
   ]
  },
  {
   "cell_type": "code",
   "execution_count": 182,
   "metadata": {},
   "outputs": [
    {
     "name": "stdout",
     "output_type": "stream",
     "text": [
      "8\n",
      "-\n",
      "3\n",
      "\n"
     ]
    }
   ],
   "source": [
    "syms x\n",
    "pretty( limit( x/(3*x+1)*(4*x^2 + 1)^3 / (2*x^2 + x)^3, x, inf))"
   ]
  },
  {
   "cell_type": "markdown",
   "metadata": {},
   "source": [
    "$$\\lim_{x\\to\\infty}\\left(\\frac{1+7\\sqrt[3]{x}}{2\\sqrt[3]{x}}\\right)$$"
   ]
  },
  {
   "cell_type": "code",
   "execution_count": 183,
   "metadata": {},
   "outputs": [
    {
     "name": "stdout",
     "output_type": "stream",
     "text": [
      "7\n",
      "-\n",
      "2\n",
      "\n"
     ]
    }
   ],
   "source": [
    "syms x\n",
    "pretty( limit((1 + 7*x^(1/3))/ (2*x^(1/3)) , x, inf))"
   ]
  },
  {
   "cell_type": "markdown",
   "metadata": {},
   "source": [
    "$$\\lim_{x\\to\\infty}\\left(\\frac{\\sqrt{3x+2}}{\\sqrt{6x-8}}\\right)$$"
   ]
  },
  {
   "cell_type": "code",
   "execution_count": 185,
   "metadata": {},
   "outputs": [
    {
     "name": "stdout",
     "output_type": "stream",
     "text": [
      "sqrt(2)\n",
      "-------\n",
      "   2\n",
      "\n"
     ]
    }
   ],
   "source": [
    "syms x\n",
    "pretty( limit( sqrt(3*x+2) / sqrt(6*x-8) , x, inf) )"
   ]
  },
  {
   "cell_type": "markdown",
   "metadata": {},
   "source": [
    "$$\\lim_{x\\to\\infty}\\left(\\frac{\\sqrt{9x^2+6}}{5x+1}\\right)$$"
   ]
  },
  {
   "cell_type": "code",
   "execution_count": 186,
   "metadata": {},
   "outputs": [
    {
     "name": "stdout",
     "output_type": "stream",
     "text": [
      "3\n",
      "-\n",
      "5\n",
      "\n"
     ]
    }
   ],
   "source": [
    "syms x\n",
    "pretty( limit( sqrt(9*x^2 + 6) / (5*x + 1) , x, inf ) )"
   ]
  },
  {
   "cell_type": "markdown",
   "metadata": {},
   "source": [
    "$$\\lim_{x\\to\\infty}\\left(x-\\sqrt{x^2+1}\\right)$$"
   ]
  },
  {
   "cell_type": "code",
   "execution_count": 191,
   "metadata": {},
   "outputs": [
    {
     "name": "stdout",
     "output_type": "stream",
     "text": [
      "0\n",
      "\n"
     ]
    }
   ],
   "source": [
    "syms x\n",
    "pretty( limit( x - sqrt(x^2 + 1), x, inf ) )\n",
    "%pretty( limit( x^(1/x), x, inf ) )"
   ]
  },
  {
   "cell_type": "markdown",
   "metadata": {},
   "source": [
    "$$\\lim_{x\\to\\infty}\\left(\\sqrt{x^2+5x}-x\\right)$$"
   ]
  },
  {
   "cell_type": "code",
   "execution_count": 192,
   "metadata": {},
   "outputs": [
    {
     "name": "stdout",
     "output_type": "stream",
     "text": [
      "5\n",
      "-\n",
      "2\n",
      "\n"
     ]
    }
   ],
   "source": [
    "syms x\n",
    "pretty( limit(sqrt(x^2 + 5*x) - x , x, inf))"
   ]
  },
  {
   "cell_type": "markdown",
   "metadata": {},
   "source": [
    "## Límites infinitos\n",
    "$$\\lim_{x\\to0^+}\\left(\\frac{1}{x^2}\\right)$$"
   ]
  },
  {
   "cell_type": "code",
   "execution_count": 199,
   "metadata": {},
   "outputs": [
    {
     "name": "stdout",
     "output_type": "stream",
     "text": [
      "Inf\n",
      "\n"
     ]
    }
   ],
   "source": [
    "syms x\n",
    "pretty( limit(1/x^2 ,x, 0, 'right'));"
   ]
  },
  {
   "cell_type": "markdown",
   "metadata": {},
   "source": [
    "$$\\lim_{x\\to0^-}\\left(\\frac{1}{x^3}\\right)$$"
   ]
  },
  {
   "cell_type": "code",
   "execution_count": 200,
   "metadata": {},
   "outputs": [
    {
     "name": "stdout",
     "output_type": "stream",
     "text": [
      "-Inf\n",
      "\n"
     ]
    }
   ],
   "source": [
    "syms x\n",
    "pretty( limit( 1/x^3, x, 0, 'left'))"
   ]
  },
  {
   "cell_type": "markdown",
   "metadata": {},
   "source": [
    "$$\\lim_{x\\to0^+}\\left(\\frac{2}{\\sqrt{x}}\\right)$$"
   ]
  },
  {
   "cell_type": "code",
   "execution_count": 201,
   "metadata": {},
   "outputs": [
    {
     "name": "stdout",
     "output_type": "stream",
     "text": [
      "Inf\n",
      "\n"
     ]
    }
   ],
   "source": [
    "syms x\n",
    "pretty( limit( 2/sqrt(x) , x, 0, 'right'))"
   ]
  },
  {
   "cell_type": "markdown",
   "metadata": {},
   "source": [
    "$$\\lim_{x\\to2^+}\\left(\\frac{x^3-2x^2+5}{x^3+2x-12}\\right)$$"
   ]
  },
  {
   "cell_type": "code",
   "execution_count": 204,
   "metadata": {},
   "outputs": [
    {
     "name": "stdout",
     "output_type": "stream",
     "text": [
      "Inf\n",
      "\n"
     ]
    }
   ],
   "source": [
    "syms x\n",
    "pretty( limit( (x^3 - 2*x^2 + 5) / (x^3 + 2*x - 12), x, 2, 'right'))"
   ]
  },
  {
   "cell_type": "markdown",
   "metadata": {},
   "source": [
    "$$\\lim_{x\\to2^-}\\left(\\frac{x^3-2x^2+5}{x^3+2x-12}\\right)$$"
   ]
  },
  {
   "cell_type": "code",
   "execution_count": 205,
   "metadata": {},
   "outputs": [
    {
     "name": "stdout",
     "output_type": "stream",
     "text": [
      "-Inf\n",
      "\n"
     ]
    }
   ],
   "source": [
    "syms x\n",
    "pretty( limit( (x^3 + 2*x^2 + 5) / (x^3 + 2*x - 12) , x, 2, 'left'))"
   ]
  },
  {
   "cell_type": "markdown",
   "metadata": {},
   "source": [
    "$$\\lim_{x\\to2^+}\\left(\\frac{\\sqrt{x^2-4}}{x-2}\\right)$$"
   ]
  },
  {
   "cell_type": "code",
   "execution_count": 208,
   "metadata": {},
   "outputs": [
    {
     "name": "stdout",
     "output_type": "stream",
     "text": [
      "Inf\n",
      "\n"
     ]
    }
   ],
   "source": [
    "syms x\n",
    "pretty( limit( sqrt(x^2 - 4) / (x-2), x, 2, 'right'))"
   ]
  },
  {
   "cell_type": "markdown",
   "metadata": {},
   "source": [
    "$$\\lim_{x\\to0}\\left(\\frac{1}{x}-\\frac{1}{x^2}\\right)$$"
   ]
  },
  {
   "cell_type": "code",
   "execution_count": 209,
   "metadata": {},
   "outputs": [
    {
     "name": "stdout",
     "output_type": "stream",
     "text": [
      "-Inf\n",
      "\n"
     ]
    }
   ],
   "source": [
    "syms x\n",
    "pretty( limit(1/x - 1/x^2, x, 0))"
   ]
  },
  {
   "cell_type": "markdown",
   "metadata": {},
   "source": [
    "# Cálculo de derivadas\n",
    "$$y=\\frac{x^2+3x+5}{x^{-2}+3}$$"
   ]
  },
  {
   "cell_type": "code",
   "execution_count": 210,
   "metadata": {},
   "outputs": [
    {
     "name": "stdout",
     "output_type": "stream",
     "text": [
      "            2\n",
      "2 x + 3   (x  + 3 x + 5) 2\n",
      "------- + ----------------\n",
      "  1         3 /  1     \\2\n",
      " -- + 3    x  | -- + 3 |\n",
      "  2           |  2     |\n",
      " x            \\ x      /\n",
      "\n"
     ]
    }
   ],
   "source": [
    "syms x\n",
    "pretty( diff( (x^2 + 3*x + 5) / (x^(-2) + 3) ) )"
   ]
  },
  {
   "cell_type": "markdown",
   "metadata": {},
   "source": [
    "$$y=\\left(x^5+x^{-5}+1\\right)\\left(\\frac{1}{\\sqrt{x}}+\\sqrt{x}\\right)$$"
   ]
  },
  {
   "cell_type": "code",
   "execution_count": 232,
   "metadata": {},
   "outputs": [
    {
     "name": "stdout",
     "output_type": "stream",
     "text": [
      "        11      10    6    5\n",
      "  - 11 x   - 9 x   - x  + x  + 9 x + 11\n",
      "- -------------------------------------\n",
      "                    13/2\n",
      "                 2 x\n",
      "\n",
      " \n",
      "ans =\n",
      " \n",
      "-(- 11*x^11 - 9*x^10 - x^6 + x^5 + 9*x + 11)/(2*x^(13/2))\n",
      " \n",
      " \n",
      "ans =\n",
      " \n",
      "(1/(2*x^(1/2)) - 1/(2*x^(3/2)))*(1/x^5 + x^5 + 1) + (1/x^(1/2) + x^(1/2))*(5*x^4 - 5/x^6)\n",
      " \n"
     ]
    }
   ],
   "source": [
    "syms x\n",
    "pretty( simplify( diff( (x^5+x^(-5) + 1)*(1/sqrt(x) + sqrt(x))) ) )\n",
    "simplify( diff( (x^5+x^(-5) + 1)*(1/sqrt(x) + sqrt(x))) )\n",
    "combine( diff( (x^5+x^(-5) + 1)*(1/sqrt(x) + sqrt(x))) )"
   ]
  },
  {
   "cell_type": "code",
   "execution_count": 218,
   "metadata": {},
   "outputs": [
    {
     "name": "stdout",
     "output_type": "stream",
     "text": [
      "--- help for sym/combine ---\n",
      "\n",
      "  combine  Combine terms of the same algebraic structure.\n",
      "     combine(S)\n",
      "       tries to rewrite products of powers in the expression S as a\n",
      "       single power.\n",
      "     combine(S, T)\n",
      "       combines several calls to the target function T in the expression f\n",
      "       to a single call.\n",
      "       The target T is specified as one of the strings\n",
      "       'atan', 'exp', 'gamma', 'log', 'sincos', 'sinhcosh'.\n",
      "     combine(..., 'IgnoreAnalyticConstraints',VAL)\n",
      "       controls the level of mathematical rigor to use on the analytical\n",
      "       constraints while combining (branch cuts, division by zero, and so on).\n",
      "       Here, VAL can be TRUE or  FALSE. If you use TRUE, then combine uses\n",
      "       a set of mathematical rules, such as ln(a) + ln(b) = ln(a*b),\n",
      "       that are not generally correct, but can give simpler results.\n",
      "       The default is FALSE.\n",
      " \n",
      "     Examples:\n",
      "       combine(2^x * 3^x)  returns  6^x\n",
      "       combine((2^x)^i)    returns  (2^x)^i\n",
      "       combine((2^x)^i, 'IgnoreAnalyticConstraints', true)\n",
      "                           returns  2^(x*i)\n",
      "       combine(log(x) + log(y), 'log')\n",
      "                           returns  log(x) + log(y)\n",
      "       combine(log(x) + log(y), 'log', 'IgnoreAnalyticConstraints', true)\n",
      "                           returns  log(x*y)\n",
      " \n",
      "      See also sym/simplify, sym/expand, sym/factor\n",
      "\n",
      "    Reference page in Doc Center\n",
      "       doc sym/combine\n",
      "\n",
      "    Other functions named combine\n",
      "\n",
      "       BioMap/combine    BioSeq/combine\n",
      "\n"
     ]
    }
   ],
   "source": [
    "help combine"
   ]
  },
  {
   "cell_type": "code",
   "execution_count": 221,
   "metadata": {},
   "outputs": [
    {
     "name": "stdout",
     "output_type": "stream",
     "text": [
      " FACTOR Prime factors.\n",
      "    FACTOR(N) returns a vector containing the prime factors of N.\n",
      " \n",
      "    This function uses the simple sieve approach. It may require large\n",
      "    memory allocation if the number given is too big. Technically it is\n",
      "    possible to improve this algorithm, allocating less memory for most\n",
      "    cases and resulting in a faster execution time. However, it will still\n",
      "    have problems in the worst case.\n",
      "  \n",
      "    Class support for input N:\n",
      "       float: double, single\n",
      "       integer: uint8, int8, uint16, int16, uint32, int32, uint64, int64\n",
      " \n",
      "    See also PRIMES, ISPRIME.\n",
      "\n",
      "    Reference page in Doc Center\n",
      "       doc factor\n",
      "\n",
      "    Other functions named factor\n",
      "\n",
      "       sym/factor\n",
      "\n"
     ]
    }
   ],
   "source": [
    "help factor"
   ]
  },
  {
   "cell_type": "code",
   "execution_count": 222,
   "metadata": {},
   "outputs": [
    {
     "name": "stdout",
     "output_type": "stream",
     "text": [
      "--- help for sym/expand ---\n",
      "\n",
      " EXPAND Symbolic expansion.\n",
      "    EXPAND(S) writes each element of a symbolic expression S as a\n",
      "    product of its factors.  EXPAND is most often used on polynomials,\n",
      "    but also expands trigonometric, exponential and logarithmic functions.\n",
      " \n",
      "    EXPAND(S,'ArithmeticOnly',true) limits expansion to basic arithmetic,\n",
      "    whereas EXPAND(S,'ArithmeticOnly',false) (which is the default) will\n",
      "    also expand trigonometric and other special functions.\n",
      "    \n",
      "    EXPAND(S,'IgnoreAnalyticConstraints',VAL) controls the level of \n",
      "    mathematical rigor to use on the analytical constraints while simplifying \n",
      "    (branch cuts, division by zero, etc). The options for VAL are TRUE or \n",
      "    FALSE. Specify TRUE to relax the level of mathematical rigor\n",
      "    in the rewriting process. The default is FALSE.\n",
      " \n",
      "    Examples:\n",
      "       syms x y\n",
      " \n",
      "       expand((x+1)^3)   returns  x^3+3*x^2+3*x+1\n",
      "       expand(sin(x+y))  returns  sin(x)*cos(y)+cos(x)*sin(y)\n",
      "       expand(exp(x+y))  returns  exp(x)*exp(y)\n",
      "       expand((exp(x+y)+1)^2,'ArithmeticOnly',true)\n",
      "                         returns  exp(2*x + 2*y) + 2*exp(x + y) + 1\n",
      "       expand(log(x*y))  returns  log(x*y)\n",
      "       expand(log(x*y),'IgnoreAnalyticConstraints',true)\n",
      "                         returns  log(x)+log(y)\n",
      " \n",
      "    See also SYM/SIMPLIFY, SYM/FACTOR, SYM/COLLECT.\n",
      "\n",
      "    Reference page in Doc Center\n",
      "       doc sym/expand\n",
      "\n",
      "\n"
     ]
    }
   ],
   "source": [
    "help expand"
   ]
  },
  {
   "cell_type": "code",
   "execution_count": 223,
   "metadata": {},
   "outputs": [
    {
     "name": "stdout",
     "output_type": "stream",
     "text": [
      " REWRITE    Rewrite symbolic expressions S in terms of target T.\n",
      "    REWRITE(S,T) rewrites the symbolic expression S in terms of\n",
      "      the target T. The target T is specified as one of the strings\n",
      "      'exp', 'log', 'sincos', 'sin', 'cos', 'tan', 'cot',\n",
      "      'sinhcosh', 'sinh', 'cosh', 'tanh', 'coth', 'asin',\n",
      "      'acos', 'atan', 'acot',  'asinh', 'acosh', 'atanh',\n",
      "      'acoth', 'sqrt', 'heaviside', 'piecewise'. The target T may\n",
      "      also be a symbolic unit or a vector of symbolic units.\n",
      " \n",
      "    REWRITE(S, T) with a symbolic unit S rewrites all symbolic\n",
      "       units in S in terms of the symbolic unit T. The target\n",
      "       T may also by a vector of symbolic units. In this case,\n",
      "       the units in S are rewritten involving some, but not\n",
      "       necessarily all, entries of T.\n",
      " \n",
      "       T may also be name (string or character vector) of a unit \n",
      "       system such as 'SI', 'CGS' etc. In this case, the units\n",
      "       in S are rewritten in terms of the base units of the given\n",
      "       unit system.\n",
      " \n",
      "    REWRITE(S, T, 'Temperature', 'difference') treats all\n",
      "       temperature units in S as units of temperature differences.\n",
      " \n",
      "    REWRITE(S, T, 'Temperature', 'absolute') treats all\n",
      "       temperature units in S as units of absolute temperatures.\n",
      "       In this case, S must be a product of a dimensionless\n",
      "       symbolic object (such as a symbolic number or a variable)\n",
      "       and a symbolic temperature unit.\n",
      " \n",
      "    REWRITE(S,'exp') rewrites all trigonometric and hyperbolic\n",
      "      functions in terms of EXP. Furthermore, the inverse functions\n",
      "      are rewritten in terms of LOG.\n",
      " \n",
      "    REWRITE(S,'log') rewrites the functions ASIN, ACOS, ATAN, ACOT,\n",
      "      ASINH, ACOSH, ATANH, ACOTH, ARG in terms of LOG.\n",
      " \n",
      "    REWRITE(S,'sincos') rewrites the functions TAN, COT, EXP, SINH,\n",
      "      COSH, TANH and COTH in terms of SIN and COS.\n",
      " \n",
      "    REWRITE(S,'sin') does the same as REWRITE(S,'sincos'). In addition\n",
      "      to that, cos(x)^2 is rewritten as 1-sin(x)^2.\n",
      " \n",
      "    REWRITE(S,'cos') does the same as REWRITE(S,'sincos'). In addition\n",
      "      to that, sin(x)^2 is rewritten as 1-cos(x)^2.\n",
      " \n",
      "    REWRITE(S,'tan') rewrites the functions SIN, COS, COT, EXP, SINH,\n",
      "      COSH, TANH, COTH in terms of TAN.\n",
      " \n",
      "    REWRITE(S,'cot') rewrites the functions SIN, COS, EXP, SINH,\n",
      "      COSH, TANH, COTH in terms of COT.\n",
      " \n",
      "    REWRITE(S,'sinhcosh') rewrites the functions EXP, TANH, COTH, SIN,\n",
      "      COS, TAN and COT in terms of SINH and COSH.\n",
      " \n",
      "    REWRITE(S,'sinh') does the same as REWRITE(S,'sinhcosh'). In addition\n",
      "      to that, cosh(x)^2 is rewritten as sinh(x)^2 + 1.\n",
      " \n",
      "    REWRITE(S,'cosh') does the same as REWRITE(S,'sinhcosh'). In addition\n",
      "      to that, sinh(x)^2 is rewritten as cosh(x)^2 - 1.\n",
      " \n",
      "    REWRITE(S,'tanh') rewrites the functions SIN, COS, COT, EXP, SINH,\n",
      "      COSH, COTH in terms of TANH.\n",
      " \n",
      "    REWRITE(S,'coth') rewrites the functions SIN, COS, COT, EXP, SINH,\n",
      "      COSH, TANH in terms of COTH.\n",
      " \n",
      "    REWRITE(S,'asin') rewrites the functions LOG, ACOS, ATAN, ACOT,\n",
      "      ASINH, ACOSH, ATANH, ACOTH in terms of ASIN.\n",
      " \n",
      "    REWRITE(S,'acos') rewrites the functions LOG, ASIN, ATAN, ACOT,\n",
      "      ASINH, ACOSH, ATANH, ACOTH in terms of ACOS.\n",
      " \n",
      "    REWRITE(S,'atan') rewrites the functions LOG, ASIN, ACOS, ACOT,\n",
      "      ASINH, ACOSH, ATANH, ACOTH in terms of ATAN.\n",
      " \n",
      "    REWRITE(S,'acot') rewrites the functions LOG, ASIN, ACOS, ATAN,\n",
      "      ASINH, ACOSH, ATANH, ACOTH in terms of ACOT.\n",
      " \n",
      "    REWRITE(S,'asinh') rewrites the functions LOG, ASIN, ACOS, ATAN, ACOT,\n",
      "      ACOSH, ATANH, ACOTH in terms of ASINH.\n",
      " \n",
      "    REWRITE(S,'acosh') rewrites the functions LOG, ASIN, ACOS, ATAN, ACOT,\n",
      "      ASINH, ATANH, ACOTH in terms of ACOSH.\n",
      " \n",
      "    REWRITE(S,'atanh') rewrites the functions LOG, ASIN, ACOS, ATAN, ACOT,\n",
      "      ASINH, ACOSH, ACOTH in terms of ATANH.\n",
      " \n",
      "    REWRITE(S,'acoth') rewrites the functions LOG, ASIN, ACOS, ATAN, ACOT,\n",
      "      ASINH, ACOSH, ATANH in terms of ACOTH.\n",
      " \n",
      "    REWRITE(S,'sqrt') rewrites complex absolute values abs(x+i*y) as\n",
      "      sqrt(x^2 + y^2) if x and y are real symbolic expressions.\n",
      " \n",
      "    REWRITE(S,'heaviside') rewrites the function SIGN in terms of\n",
      "      HEAVISIDE.\n",
      " \n",
      "    REWRITE(S,'piecewise') rewrites the functions ABS, SIGN, and HEAVISIDE\n",
      "    in terms of PIECEWISE.\n",
      " \n",
      "    Examples:\n",
      "       u = symunit;\n",
      "       rewrite(1.234*u.cm, u.inch)\n",
      "           returns (617/1270)*[in]\n",
      " \n",
      "       rewrite(u.Newtonmeter, [u.Newton,u.inch])\n",
      "           returns (5000/127)*[N]*[in]\n",
      " \n",
      "       rewrite({0, u.Kelvin}, u.Celsius, 'Temperature', 'absolute')\n",
      "           returns -(5463/20)*[Celsius]\n",
      " \n",
      "       syms x;\n",
      " \n",
      "       rewrite(sin(x),'exp')\n",
      "           returns (exp(-x*1i)*1i)/2 - (exp(x*1i)*1i)/2\n",
      " \n",
      "       rewrite((exp(-x*1i)*1i)/2 - (exp(x*1i)*1i)/2,'sincos')\n",
      "           returns sin(x)\n",
      " \n",
      "       rewrite(asinh(x),'log')\n",
      "           returns log(x + (x^2 + 1)^(1/2))\n",
      " \n",
      "       rewrite((1/exp(x*i))*(1/2+i/2)+exp(x*i)*(1/2+(-i/2)), 'sincos')\n",
      "           returns cos(x) + sin(x)\n",
      " \n",
      "       rewrite(tan(x),'sin')\n",
      "           returns -sin(x)/(2*sin(x/2)^2 - 1)\n",
      " \n",
      "       rewrite(tan(x),'sincos')\n",
      "           returns sin(x)/cos(x)\n",
      " \n",
      "       rewrite(sym('sign(x)'),'heaviside')\n",
      "           returns 2*heaviside(x) - 1\n",
      " \n",
      "       syms x y real;\n",
      "       rewrite(abs(x+1i*y),'sqrt') \n",
      "           returns (x^2 + y^2)^(1/2)\n",
      " \n",
      "    See also SYMUNIT, SYM/SIMPLIFY, SYM/FACTOR, SYM/COLLECT,\n",
      "    SYM/SIMPLIFYFRACTION.\n",
      "\n",
      "    Reference page in Doc Center\n",
      "       doc rewrite\n",
      "\n",
      "\n"
     ]
    }
   ],
   "source": [
    "help rewrite"
   ]
  },
  {
   "cell_type": "markdown",
   "metadata": {},
   "source": [
    "$$y=\\frac{\\left(x^2+\\sqrt[3]{x^2}\\right)}{x}$$"
   ]
  },
  {
   "cell_type": "code",
   "execution_count": 231,
   "metadata": {},
   "outputs": [
    {
     "name": "stdout",
     "output_type": "stream",
     "text": [
      "   4/3\n",
      "3 x    - 1\n",
      "----------\n",
      "     4/3\n",
      "  3 x\n",
      "\n"
     ]
    }
   ],
   "source": [
    "syms x\n",
    "pretty( simplify( diff( ( x^2 + x^(2/3) )/x, x) ) )"
   ]
  },
  {
   "cell_type": "markdown",
   "metadata": {},
   "source": [
    "$$y=\\frac{x^2+3x+5}{\\sqrt{x}}$$"
   ]
  },
  {
   "cell_type": "code",
   "execution_count": 230,
   "metadata": {},
   "outputs": [
    {
     "name": "stdout",
     "output_type": "stream",
     "text": [
      "   2\n",
      "3 x  + 3 x - 5\n",
      "--------------\n",
      "       3/2\n",
      "    2 x\n",
      "\n"
     ]
    }
   ],
   "source": [
    "pretty( simplify( diff( (x^2 + 3*x + 5) / sqrt(x), x)))"
   ]
  },
  {
   "cell_type": "markdown",
   "metadata": {},
   "source": [
    "$$y=\\frac{\\sqrt{x}+x^{1/3}+x^3}{\\sqrt[5]{x^2}}$$"
   ]
  },
  {
   "cell_type": "code",
   "execution_count": 234,
   "metadata": {},
   "outputs": [
    {
     "name": "stdout",
     "output_type": "stream",
     "text": [
      "   1/6       8/3\n",
      "3 x    + 78 x    - 2\n",
      "--------------------\n",
      "          16/15\n",
      "      30 x\n",
      "\n"
     ]
    }
   ],
   "source": [
    "syms x\n",
    "pretty( simplify( diff( ( sqrt(x) + x^(1/3) + x^3 ) / x^(2/5) , x)) )"
   ]
  },
  {
   "cell_type": "markdown",
   "metadata": {},
   "source": [
    "$$y=\\frac{1}{x^2+x+\\frac{3}{x}}$$"
   ]
  },
  {
   "cell_type": "code",
   "execution_count": 235,
   "metadata": {},
   "outputs": [
    {
     "name": "stdout",
     "output_type": "stream",
     "text": [
      "      3    2\n",
      "   2 x  + x  - 3\n",
      "- --------------\n",
      "    3    2     2\n",
      "  (x  + x  + 3)\n",
      "\n"
     ]
    }
   ],
   "source": [
    "syms x\n",
    "pretty( simplify( diff( 1/(x^2 + x + 3/x) , x)))"
   ]
  },
  {
   "cell_type": "markdown",
   "metadata": {},
   "source": [
    "$$y=\\left(x^6+5x^3+\\frac{3}{x}\\right)\\left(x^{-1}+x+2x^{2/3}\\right)$$"
   ]
  },
  {
   "cell_type": "code",
   "execution_count": 239,
   "metadata": {},
   "outputs": [
    {
     "name": "stdout",
     "output_type": "stream",
     "text": [
      "/     2    3      5 \\ /     1      2/3 \\   / 3      3    6 \\\n",
      "| 15 x  - -- + 6 x  | | x + - + 2 x    | + | - + 5 x  + x  |\n",
      "|          2        | \\     x          /   \\ x             /\n",
      "\\         x         /\n",
      "\n",
      "   /    4      1     \\\n",
      "   | ------ - -- + 1 |\n",
      "   |    1/3    2     |\n",
      "   \\ 3 x      x      /\n",
      "\n"
     ]
    }
   ],
   "source": [
    "syms x\n",
    "pretty( simplify( diff( (x^6 + 5*x^3 + 3/x)*(1/x + x + 2*x^(2/3)) ) ) )"
   ]
  },
  {
   "cell_type": "markdown",
   "metadata": {},
   "source": [
    "$$y=\\frac{x+\\frac{1}{\\sqrt{x}}+\\sqrt[5]{x^3}}{x^2+x^{2/5}}$$"
   ]
  },
  {
   "cell_type": "code",
   "execution_count": 240,
   "metadata": {},
   "outputs": [
    {
     "name": "stdout",
     "output_type": "stream",
     "text": [
      "      8/5      3/2      11/10       27/10       31/10\n",
      "  25 x    - 6 x    - 2 x      + 14 x      + 10 x      + 9\n",
      "- -------------------------------------------------------\n",
      "                       19/10   8/5     2\n",
      "                   10 x      (x    + 1)\n",
      "\n"
     ]
    }
   ],
   "source": [
    "syms x\n",
    "pretty( simplify( diff( (x + x^(-1/2) + x^(3/5)) / (x^2 + x^(2/5)) , x)))"
   ]
  },
  {
   "cell_type": "markdown",
   "metadata": {},
   "source": [
    "$$y=\\frac{x^2+x+x^{-2}}{x^2+x+\\frac{3}{x}}$$"
   ]
  },
  {
   "cell_type": "code",
   "execution_count": 243,
   "metadata": {},
   "outputs": [
    {
     "name": "stdout",
     "output_type": "stream",
     "text": [
      "       4      3      2\n",
      "  - 9 x  - 2 x  + 3 x  + 3\n",
      "- ------------------------\n",
      "       2   3    2     2\n",
      "      x  (x  + x  + 3)\n",
      "\n"
     ]
    }
   ],
   "source": [
    "syms x\n",
    "pretty( simplify( diff( (x^2 + x + 1/x^2) / (x^2 + x + 3/x), x))) %chequear"
   ]
  },
  {
   "cell_type": "markdown",
   "metadata": {},
   "source": [
    "$$y=\\frac{x^{-5}+\\frac{1}{\\sqrt{x^3}}+\\sqrt[8]{x^3}}{x^5+x^{3/7}}$$"
   ]
  },
  {
   "cell_type": "code",
   "execution_count": 244,
   "metadata": {},
   "outputs": [
    {
     "name": "stdout",
     "output_type": "stream",
     "text": [
      "        2\n",
      "     3 x       5      3     /    4      3   \\ /     1       1    3/8 \\\n",
      "  --------- + -- - ------   | 5 x  + ------ | | -------- + -- + x    |\n",
      "      3 3/2    6      5/8   |           4/7 | |       3     5        |\n",
      "  2 (x )      x    8 x      \\        7 x    / \\ sqrt(x )   x         /\n",
      "- ----------------------- - ------------------------------------------\n",
      "             #1                                   2\n",
      "                                                #1\n",
      "\n",
      "where\n",
      "\n",
      "          5    3/7\n",
      "   #1 == x  + x\n",
      "\n",
      "\n"
     ]
    }
   ],
   "source": [
    "syms x\n",
    "pretty( simplify( diff( (1/x^5 + 1/sqrt(x^3) + x^(3/8) ) / (x^5 + x^(3/7) ) , x))) %chequear"
   ]
  },
  {
   "cell_type": "markdown",
   "metadata": {},
   "source": [
    "$$y=x^{2/9}+x^{2/7}+\\sqrt{x^5}$$"
   ]
  },
  {
   "cell_type": "code",
   "execution_count": 245,
   "metadata": {},
   "outputs": [
    {
     "name": "stdout",
     "output_type": "stream",
     "text": [
      "      4\n",
      "   5 x          2        2\n",
      "---------- + ------ + ------\n",
      "        5       5/7      7/9\n",
      "2 sqrt(x )   7 x      9 x\n",
      "\n"
     ]
    }
   ],
   "source": [
    "syms x\n",
    "pretty( simplify( diff(x^(2/9) + x^(2/7) + sqrt(x^5), x)))"
   ]
  },
  {
   "cell_type": "markdown",
   "metadata": {},
   "source": [
    "$$y=\\frac{x^{2/7}+x^{3/5}+\\sqrt[5]{x^7}}{x^2+3x+8+x^{-3}}$$"
   ]
  },
  {
   "cell_type": "code",
   "execution_count": 247,
   "metadata": {},
   "outputs": [
    {
     "name": "stdout",
     "output_type": "stream",
     "text": [
      " 16/7      11/35       39/35\n",
      "x     (21 x      + 49 x      + 10)\n",
      "----------------------------------\n",
      "               35 #1\n",
      "\n",
      "      2     5      4        3/5    2/7    7/5\n",
      "     x  (2 x  + 3 x  - 3) (x    + x    + x   )\n",
      "   - -----------------------------------------\n",
      "                          2\n",
      "                        #1\n",
      "\n",
      "where\n",
      "\n",
      "          5      4      3\n",
      "   #1 == x  + 3 x  + 8 x  + 1\n",
      "\n",
      "\n"
     ]
    }
   ],
   "source": [
    "syms x\n",
    "pretty( simplify( diff( (x^(2/7) + x^(3/5) + x^(7/5)) / (x^2 + 3*x + 8 + 1/x^3) , x)))"
   ]
  },
  {
   "cell_type": "markdown",
   "metadata": {},
   "source": [
    "## Derivadas aplicando la regla de la cadena\n",
    "$$y=\\frac{\\sqrt[3]{x^3+3x}}{\\sqrt{x^3+2x}}$$"
   ]
  },
  {
   "cell_type": "code",
   "execution_count": 248,
   "metadata": {},
   "outputs": [
    {
     "name": "stdout",
     "output_type": "stream",
     "text": [
      "              4      2\n",
      "          x (x  + 5 x  + 2)\n",
      "- ---------------------------------\n",
      "         2      3/2      2      2/3\n",
      "  2 (x (x  + 2))    (x (x  + 3))\n",
      "\n"
     ]
    }
   ],
   "source": [
    "syms x\n",
    "pretty( simplify( diff(( (x^3 + 3*x)^(1/3)) / (sqrt(x^3 + 2*x) ) , x)))"
   ]
  },
  {
   "cell_type": "markdown",
   "metadata": {},
   "source": [
    "$$y=\\frac{x^2+\\sqrt{x}+x^{1/3}}{\\sqrt{x+1}}$$"
   ]
  },
  {
   "cell_type": "code",
   "execution_count": 250,
   "metadata": {},
   "outputs": [
    {
     "name": "stdout",
     "output_type": "stream",
     "text": [
      "   1/6           5/3      8/3\n",
      "3 x    - x + 12 x    + 9 x    + 2\n",
      "---------------------------------\n",
      "           2/3        3/2\n",
      "        6 x    (x + 1)\n",
      "\n"
     ]
    }
   ],
   "source": [
    "syms x\n",
    "pretty( simplify ( diff ( (x^2 + sqrt(x) + x^(1/3) ) / sqrt(x+1), x)) )"
   ]
  },
  {
   "cell_type": "markdown",
   "metadata": {},
   "source": [
    "$$y={\\left(x^{1/2}+5\\right)}^4{\\left(x^2+3x\\right)}^5$$"
   ]
  },
  {
   "cell_type": "code",
   "execution_count": 254,
   "metadata": {},
   "outputs": [
    {
     "name": "stdout",
     "output_type": "stream",
     "text": [
      "  2       5              3\n",
      "(x  + 3 x)  (sqrt(x) + 5)  2     2       4                        4\n",
      "---------------------------- + (x  + 3 x)  (2 x + 3) (sqrt(x) + 5)  5\n",
      "           sqrt(x)\n",
      "\n"
     ]
    }
   ],
   "source": [
    "syms x\n",
    "pretty( simplify( diff( (sqrt(x) + 5)^4*(x^2 + 3*x)^5 ))) % chequear"
   ]
  },
  {
   "cell_type": "markdown",
   "metadata": {},
   "source": [
    "$$y=\\frac{x^2+x+\\sqrt{x}}{\\sqrt[4]{x^2+3}}$$"
   ]
  },
  {
   "cell_type": "code",
   "execution_count": 255,
   "metadata": {},
   "outputs": [
    {
     "name": "stdout",
     "output_type": "stream",
     "text": [
      "          1\n",
      "2 x + --------- + 1           2\n",
      "      2 sqrt(x)       x (x + x  + sqrt(x))\n",
      "------------------- - --------------------\n",
      "      2     1/4               2     5/4\n",
      "    (x  + 3)              2 (x  + 3)\n",
      "\n"
     ]
    }
   ],
   "source": [
    "syms x\n",
    "pretty( simplify( diff( ( x^2 + x + sqrt(x) ) / ((x^2 + 3)^(1/4)), x )) )"
   ]
  },
  {
   "cell_type": "markdown",
   "metadata": {},
   "source": [
    "$$y={\\left(x^2+5\\right)}^3{\\left(x^3+2x+3\\right)}^4$$"
   ]
  },
  {
   "cell_type": "code",
   "execution_count": 257,
   "metadata": {},
   "outputs": [
    {
     "name": "stdout",
     "output_type": "stream",
     "text": [
      "  2     2   3           3     4       2\n",
      "(x  + 5)  (x  + 2 x + 3)  (9 x  + 40 x  + 9 x + 20) 2\n",
      "\n"
     ]
    }
   ],
   "source": [
    "syms x\n",
    "pretty( simplify( diff( (x^2 + 5)^3*(x^3 + 2*x + 3)^4)))"
   ]
  },
  {
   "cell_type": "markdown",
   "metadata": {},
   "source": [
    "$$y=\\frac{\\sqrt{x^2+1}}{x^2-1}$$"
   ]
  },
  {
   "cell_type": "code",
   "execution_count": 258,
   "metadata": {},
   "outputs": [
    {
     "name": "stdout",
     "output_type": "stream",
     "text": [
      "            2\n",
      "        x (x  + 3)\n",
      "- ----------------------\n",
      "    2     2       2\n",
      "  (x  - 1)  sqrt(x  + 1)\n",
      "\n"
     ]
    }
   ],
   "source": [
    "syms x\n",
    "pretty( simplify( diff( sqrt(x^2 + 1) /(x^2 -1) , x)))"
   ]
  },
  {
   "cell_type": "markdown",
   "metadata": {},
   "source": [
    "$$y=\\frac{x\\sqrt{x^2+1}}{x^2+1}$$"
   ]
  },
  {
   "cell_type": "code",
   "execution_count": 260,
   "metadata": {},
   "outputs": [
    {
     "name": "stdout",
     "output_type": "stream",
     "text": [
      "     1\n",
      "-----------\n",
      "  2     3/2\n",
      "(x  + 1)\n",
      "\n"
     ]
    }
   ],
   "source": [
    "syms x\n",
    "pretty( simplify( diff( x*sqrt(x^2 +1) / (x^2 + 1), x)) )"
   ]
  },
  {
   "cell_type": "markdown",
   "metadata": {},
   "source": [
    "$$y=\\frac{x^2+5x+6}{{\\left(x^2+\\sqrt{x}\\right)}^3}$$"
   ]
  },
  {
   "cell_type": "code",
   "execution_count": 261,
   "metadata": {},
   "outputs": [
    {
     "name": "stdout",
     "output_type": "stream",
     "text": [
      "                  /           1     \\   2\n",
      "                  | 2 x + --------- | (x  + 5 x + 6) 3\n",
      "    2 x + 5       \\       2 sqrt(x) /\n",
      "--------------- - ------------------------------------\n",
      "  2           3                2           4\n",
      "(x  + sqrt(x))               (x  + sqrt(x))\n",
      "\n"
     ]
    }
   ],
   "source": [
    "syms x\n",
    "pretty( simplify( diff((x^2 + 5*x + 6) / ((x^2 + sqrt(x) )^3) , x)))"
   ]
  },
  {
   "cell_type": "markdown",
   "metadata": {},
   "source": [
    "$$y=\\frac{1}{\\sqrt[3]{x^3+3x+2}}$$"
   ]
  },
  {
   "cell_type": "code",
   "execution_count": 263,
   "metadata": {},
   "outputs": [
    {
     "name": "stdout",
     "output_type": "stream",
     "text": [
      "         2\n",
      "        x  + 1\n",
      "- -----------------\n",
      "    3           4/3\n",
      "  (x  + 3 x + 2)\n",
      "\n"
     ]
    }
   ],
   "source": [
    "syms x\n",
    "pretty( simplify( diff( (x^3 + 3*x + 2)^(-1/3) , x)))"
   ]
  },
  {
   "cell_type": "markdown",
   "metadata": {},
   "source": [
    "$$y=\\frac{x^2+3}{\\sqrt{x+1}}$$"
   ]
  },
  {
   "cell_type": "code",
   "execution_count": 264,
   "metadata": {},
   "outputs": [
    {
     "name": "stdout",
     "output_type": "stream",
     "text": [
      "   2\n",
      "3 x  + 4 x - 3\n",
      "--------------\n",
      "          3/2\n",
      " 2 (x + 1)\n",
      "\n"
     ]
    }
   ],
   "source": [
    "syms x\n",
    "pretty( simplify( diff( (x^2 + 3) /sqrt(x + 1) , x)))"
   ]
  },
  {
   "cell_type": "markdown",
   "metadata": {},
   "source": [
    "$$y=\\sqrt{x^2+2}\\cdot\\sqrt[4]{x+1}$$"
   ]
  },
  {
   "cell_type": "code",
   "execution_count": 265,
   "metadata": {},
   "outputs": [
    {
     "name": "stdout",
     "output_type": "stream",
     "text": [
      "         2\n",
      "      5 x  + 4 x + 2\n",
      "-------------------------\n",
      "        2             3/4\n",
      "4 sqrt(x  + 2) (x + 1)\n",
      "\n"
     ]
    }
   ],
   "source": [
    "syms x\n",
    "pretty( simplify( diff( sqrt(x^2 + 2)*(x + 1)^(1/4), x)))"
   ]
  },
  {
   "cell_type": "markdown",
   "metadata": {},
   "source": [
    "$$y=\\frac{x^2 + 3x + 6}{{\\left(x^4+5\\right)}^{1/3}}$$"
   ]
  },
  {
   "cell_type": "code",
   "execution_count": 266,
   "metadata": {},
   "outputs": [
    {
     "name": "stdout",
     "output_type": "stream",
     "text": [
      "   5      4       3\n",
      "2 x  - 3 x  - 24 x  + 30 x + 45\n",
      "-------------------------------\n",
      "             4     4/3\n",
      "         3 (x  + 5)\n",
      "\n"
     ]
    }
   ],
   "source": [
    "syms x\n",
    "pretty( simplify( diff( (x^2 + 3*x + 6) / (x^4 + 5)^(1/3) , x)))"
   ]
  },
  {
   "cell_type": "markdown",
   "metadata": {},
   "source": [
    "$$y=\\frac{{\\left(x+4\\right)}^2}{\\sqrt{x^2 + 5x -6}}$$"
   ]
  },
  {
   "cell_type": "code",
   "execution_count": 267,
   "metadata": {},
   "outputs": [
    {
     "name": "stdout",
     "output_type": "stream",
     "text": [
      "       3       2\n",
      "  - 2 x  - 15 x  + 16 x + 176\n",
      "- ---------------------------\n",
      "          2           3/2\n",
      "      2 (x  + 5 x - 6)\n",
      "\n"
     ]
    }
   ],
   "source": [
    "syms x\n",
    "pretty( simplify( diff( ((x + 4)^2) / sqrt(x^2 + 5*x - 6), x)))"
   ]
  },
  {
   "cell_type": "markdown",
   "metadata": {},
   "source": [
    "$$y=\\frac{\\left(x^2+3x+5\\right)\\left(x+3x^{-1}\\right)}{\\sqrt[5]{x^{-3}+3x+2}}$$"
   ]
  },
  {
   "cell_type": "code",
   "execution_count": 269,
   "metadata": {},
   "outputs": [
    {
     "name": "stdout",
     "output_type": "stream",
     "text": [
      "    8        7        6       5        4        3       2\n",
      "42 x  + 111 x  + 156 x  + 53 x  - 252 x  - 111 x  + 64 x  + 27 x - 30\n",
      "---------------------------------------------------------------------\n",
      "                          5 /        1     \\6/5\n",
      "                       5 x  | 3 x + -- + 2 |\n",
      "                            |        3     |\n",
      "                            \\       x      /\n",
      "\n"
     ]
    }
   ],
   "source": [
    "syms x\n",
    "pretty( simplify( diff( ((x^2 + 3*x + 5)*(x + 3/x) )/ ((x^(-3) + 3*x + 2)^(1/5)), x))) %chequear"
   ]
  },
  {
   "cell_type": "markdown",
   "metadata": {},
   "source": [
    "$$y=\\frac{\\sqrt{x^3+7x^2+4}}{x^2+x^{-2}+x}$$"
   ]
  },
  {
   "cell_type": "code",
   "execution_count": 270,
   "metadata": {},
   "outputs": [
    {
     "name": "stdout",
     "output_type": "stream",
     "text": [
      "      7       6       4    3       2\n",
      "  x (x  + 13 x  + 16 x  + x  - 42 x  - 16)\n",
      "- ----------------------------------------\n",
      "        4    3     2       3      2\n",
      "    2 (x  + x  + 1)  sqrt(x  + 7 x  + 4)\n",
      "\n"
     ]
    }
   ],
   "source": [
    "syms x\n",
    "pretty( simplify( diff(sqrt(x^3 + 7*x^2 + 4) / (x^2 + x^(-2) + x) , x)))"
   ]
  },
  {
   "cell_type": "markdown",
   "metadata": {},
   "source": [
    "## Derivadas de funciones exponenciales\n",
    "\n",
    "$$y=\\frac{\\exp(x^2)}{x^2+1}$$"
   ]
  },
  {
   "cell_type": "code",
   "execution_count": 272,
   "metadata": {},
   "outputs": [
    {
     "name": "stdout",
     "output_type": "stream",
     "text": [
      "   3      2\n",
      "2 x  exp(x )\n",
      "------------\n",
      "    2     2\n",
      "  (x  + 1)\n",
      "\n"
     ]
    }
   ],
   "source": [
    "syms x\n",
    "pretty( simplify( diff( (exp(x^2)) /(x^2 + 1) , x)))"
   ]
  },
  {
   "cell_type": "markdown",
   "metadata": {},
   "source": [
    "$$y=\\frac{\\exp(x)-\\exp(-x)}{\\exp(x)+\\exp(-x)}$$"
   ]
  },
  {
   "cell_type": "code",
   "execution_count": 274,
   "metadata": {},
   "outputs": [
    {
     "name": "stdout",
     "output_type": "stream",
     "text": [
      "   exp(2 x) 4\n",
      "---------------\n",
      "              2\n",
      "(exp(2 x) + 1)\n",
      "\n"
     ]
    }
   ],
   "source": [
    "syms x\n",
    "pretty(simplify( diff( ( exp(x) - exp(-x) ) / ( exp(x) + exp(-x ) ), x)) )"
   ]
  },
  {
   "cell_type": "markdown",
   "metadata": {},
   "source": [
    "Es importante recordar que: $$\\cosh=\\frac{\\exp(x)+\\exp(-x)}{2}$$"
   ]
  },
  {
   "cell_type": "markdown",
   "metadata": {},
   "source": [
    "$$y=\\frac{A\\exp(x^2+1)+B}{x^2+9x+\\frac{5}{x^2}}$$"
   ]
  },
  {
   "cell_type": "code",
   "execution_count": 275,
   "metadata": {},
   "outputs": [
    {
     "name": "stdout",
     "output_type": "stream",
     "text": [
      "     3      2                      2           4      3\n",
      "2 A x  exp(x  + 1)   x (B + A exp(x  + 1)) (2 x  + 9 x  - 10)\n",
      "------------------ - ----------------------------------------\n",
      "    4      3                       4      3     2\n",
      "   x  + 9 x  + 5                 (x  + 9 x  + 5)\n",
      "\n"
     ]
    }
   ],
   "source": [
    "syms A B x\n",
    "pretty( simplify( diff( (A*exp(x^2 + 1) + B) / (x^2 + 9*x + 5/x^2) , x)))"
   ]
  },
  {
   "cell_type": "markdown",
   "metadata": {},
   "source": [
    "$$y=\\frac{\\exp(x)+\\exp(x^2)+\\exp(2x)}{\\exp(x)}$$"
   ]
  },
  {
   "cell_type": "code",
   "execution_count": 276,
   "metadata": {},
   "outputs": [
    {
     "name": "stdout",
     "output_type": "stream",
     "text": [
      "exp(x) - exp(x (x - 1)) + 2 x exp(x (x - 1))\n",
      "\n"
     ]
    }
   ],
   "source": [
    "syms x\n",
    "pretty( simplify( diff( (exp(x) + exp(x^2) + exp(2*x) ) / exp(x) , x)))"
   ]
  },
  {
   "cell_type": "markdown",
   "metadata": {},
   "source": [
    "$$f(\\theta)=\\exp\\left(-\\frac{\\theta}{2}\\right)\\cos(2\\pi\\theta)$$"
   ]
  },
  {
   "cell_type": "code",
   "execution_count": 277,
   "metadata": {},
   "outputs": [
    {
     "name": "stdout",
     "output_type": "stream",
     "text": [
      "     /   theta \\\n",
      "  exp| - ----- | (cos(2 pi theta) + pi sin(2 pi theta) 4)\n",
      "     \\     2   /\n",
      "- -------------------------------------------------------\n",
      "                             2\n",
      "\n"
     ]
    }
   ],
   "source": [
    "syms theta\n",
    "pretty( simplify( diff( exp(-theta/2)*cos(2*pi*theta)  , theta)))"
   ]
  },
  {
   "cell_type": "markdown",
   "metadata": {},
   "source": [
    "$$f(\\theta)=\\frac{\\sin\\theta^2-\\cos2\\theta}{\\sqrt{\\theta^2+\\exp(\\theta^2)}}$$"
   ]
  },
  {
   "cell_type": "code",
   "execution_count": 280,
   "metadata": {},
   "outputs": [
    {
     "name": "stdout",
     "output_type": "stream",
     "text": [
      "                                  2\n",
      "sin(2 theta) 2 + 2 theta cos(theta )\n",
      "------------------------------------\n",
      "                   2         2\n",
      "     sqrt(exp(theta ) + theta )\n",
      "\n",
      "                                    2             2\n",
      "     theta (cos(2 theta) - sin(theta )) (exp(theta ) + 1)\n",
      "   + ----------------------------------------------------\n",
      "                             2         2 3/2\n",
      "                   (exp(theta ) + theta )\n",
      "\n"
     ]
    }
   ],
   "source": [
    "syms theta\n",
    "pretty( simplify( diff( (sin(theta^2) - cos(2*theta)) / sqrt(theta^2 + exp(theta^2)) , theta)))"
   ]
  },
  {
   "cell_type": "markdown",
   "metadata": {},
   "source": [
    "$$f(\\theta)=\\frac{\\cos\\theta\\sin\\left(\\exp(2\\theta-1)\\right)}{\\cot\\theta}$$"
   ]
  },
  {
   "cell_type": "code",
   "execution_count": 282,
   "metadata": {},
   "outputs": [
    {
     "name": "stdout",
     "output_type": "stream",
     "text": [
      "sin(exp(2 theta - 1)) cos(theta) + exp(2 theta - 1)\n",
      "\n",
      "   sin(theta) cos(exp(2 theta - 1)) 2\n",
      "\n"
     ]
    }
   ],
   "source": [
    "syms theta\n",
    "pretty( simplify( diff( cos(theta)*sin(exp(2*theta - 1))/cot(theta) , theta)))"
   ]
  },
  {
   "cell_type": "markdown",
   "metadata": {},
   "source": [
    "$$f(\\theta)=\\frac{\\csc\\theta\\sin\\left(\\exp(\\theta^2-3\\theta-1)\\right)}{\\sec\\theta}$$"
   ]
  },
  {
   "cell_type": "code",
   "execution_count": 285,
   "metadata": {},
   "outputs": [
    {
     "name": "stdout",
     "output_type": "stream",
     "text": [
      "      sin(theta)\n",
      "- ------------------\n",
      "  sin(theta sin(#1))\n",
      "\n",
      "   -\n",
      "\n",
      "  cos(theta sin(#1)) cos(theta) (sin(#1) + theta #1 cos(#1) (2 theta - 3))\n",
      "  ------------------------------------------------------------------------\n",
      "                                               2\n",
      "                             sin(theta sin(#1))\n",
      "\n",
      "where\n",
      "\n",
      "                  2\n",
      "   #1 == exp(theta  - 3 theta - 1)\n",
      "\n",
      "\n"
     ]
    }
   ],
   "source": [
    "syms theta\n",
    "pretty( simplify( diff( csc(theta*sin(exp(theta^2 - 3*theta - 1))) / sec(theta) , theta)))% chequear"
   ]
  },
  {
   "cell_type": "markdown",
   "metadata": {},
   "source": [
    "## Derivadas de funciones logarítmicas I\n",
    "$$y=\\ln\\left(x+\\sqrt{x^2-1}\\right)$$"
   ]
  },
  {
   "cell_type": "code",
   "execution_count": 286,
   "metadata": {},
   "outputs": [
    {
     "name": "stdout",
     "output_type": "stream",
     "text": [
      "      1\n",
      "------------\n",
      "      2\n",
      "sqrt(x  - 1)\n",
      "\n"
     ]
    }
   ],
   "source": [
    "syms x\n",
    "pretty( simplify( diff(log(x + sqrt(x^2 - 1)) , x)))"
   ]
  },
  {
   "cell_type": "markdown",
   "metadata": {},
   "source": [
    "$$y=\\ln\\left(\\frac{x^2+2}{x-1}\\right)$$"
   ]
  },
  {
   "cell_type": "code",
   "execution_count": 289,
   "metadata": {},
   "outputs": [
    {
     "name": "stdout",
     "output_type": "stream",
     "text": [
      "/           2      \\\n",
      "|  2 x     x  + 2  |\n",
      "| ----- - -------- | (x - 1)\n",
      "| x - 1          2 |\n",
      "\\         (x - 1)  /\n",
      "----------------------------\n",
      "            2\n",
      "           x  + 2\n",
      "\n"
     ]
    }
   ],
   "source": [
    "pretty( simplify( diff(log((x^2 + 2)/(x - 1)) , x)))"
   ]
  },
  {
   "cell_type": "markdown",
   "metadata": {},
   "source": [
    "$$y=x^2\\ln\\left(\\sqrt{\\frac{x^3+1}{\\sqrt{x}+2x}}\\right)$$"
   ]
  },
  {
   "cell_type": "code",
   "execution_count": 291,
   "metadata": {},
   "outputs": [
    {
     "name": "stdout",
     "output_type": "stream",
     "text": [
      "     /        3      \\              4      3/2      9/2\n",
      "     |  sqrt(x  + 1) |       x - 2 x  + 4 x    - 2 x\n",
      "x log| ------------- | 2 - -----------------------------\n",
      "     \\ 2 x + sqrt(x) /                    3      7/2\n",
      "                           4 sqrt(x) + 2 x  + 4 x    + 2\n",
      "\n"
     ]
    }
   ],
   "source": [
    "syms x\n",
    "pretty( simplify( diff(x^2 * log( sqrt(x^3 + 1) / (sqrt(x) + 2*x)), x))) %chequear"
   ]
  },
  {
   "cell_type": "markdown",
   "metadata": {},
   "source": [
    "$$y=\\frac{\\ln\\left(\\frac{\\sqrt{x}+x}{x^2+3x+1}\\right)}{\\ln\\left(\\frac{x^2+1}{\\sqrt{x}}\\right)}$$"
   ]
  },
  {
   "cell_type": "code",
   "execution_count": 293,
   "metadata": {},
   "outputs": [
    {
     "name": "stdout",
     "output_type": "stream",
     "text": [
      "  /    2 x + 3     2 sqrt(x) + 1 \\\n",
      "  | ------------ - ------------- | 2\n",
      "  |  2                    3/2    |\n",
      "  \\ x  + 3 x + 1    (x + x   ) 2 /\n",
      "- ----------------------------------\n",
      "                  #1\n",
      "\n",
      "                              2                 2\n",
      "     (log(x + sqrt(x)) - log(x  + 3 x + 1)) (3 x  - 1) 2\n",
      "   - ---------------------------------------------------\n",
      "                           2   3\n",
      "                         #1  (x  + x)\n",
      "\n",
      "where\n",
      "\n",
      "                2\n",
      "   #1 == 2 log(x  + 1) - log(x)\n",
      "\n",
      "\n"
     ]
    }
   ],
   "source": [
    "syms x\n",
    "pretty( simplify( diff( ( log(sqrt(x) + x) - log(x^2 + 3*x + 1) ) / ( log(x^2 +1) - log(sqrt(x)) ) , x))) % chequear"
   ]
  },
  {
   "cell_type": "markdown",
   "metadata": {},
   "source": [
    "$$y=\\ln\\left(\\tan x\\right)^3$$"
   ]
  },
  {
   "cell_type": "code",
   "execution_count": 294,
   "metadata": {},
   "outputs": [
    {
     "name": "stdout",
     "output_type": "stream",
     "text": [
      "    6\n",
      "--------\n",
      "sin(2 x)\n",
      "\n"
     ]
    }
   ],
   "source": [
    "syms x\n",
    "pretty( simplify( diff(3*log(tan(x)) , x)))"
   ]
  },
  {
   "cell_type": "markdown",
   "metadata": {},
   "source": [
    "$$y=\\ln\\left(\\frac{\\sin x}{1-\\cos^2(x)}\\right)$$"
   ]
  }
 ],
 "metadata": {
  "kernelspec": {
   "display_name": "Matlab",
   "language": "matlab",
   "name": "matlab"
  },
  "language_info": {
   "codemirror_mode": "octave",
   "file_extension": ".m",
   "help_links": [
    {
     "text": "MetaKernel Magics",
     "url": "https://github.com/calysto/metakernel/blob/master/metakernel/magics/README.md"
    }
   ],
   "mimetype": "text/x-octave",
   "name": "matlab",
   "version": "0.16.1"
  }
 },
 "nbformat": 4,
 "nbformat_minor": 2
}
