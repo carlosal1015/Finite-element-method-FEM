{
 "cells": [
  {
   "cell_type": "code",
   "execution_count": 4,
   "metadata": {},
   "outputs": [
    {
     "name": "stdout",
     "output_type": "stream",
     "text": [
      " MIN    Smallest component.\n",
      "    For vectors, MIN(X) is the smallest element in X. For matrices,\n",
      "    MIN(X) is a row vector containing the minimum element from each\n",
      "    column. For N-D arrays, MIN(X) operates along the first\n",
      "    non-singleton dimension.\n",
      " \n",
      "    [Y,I] = MIN(X) returns the indices of the minimum values in vector I.\n",
      "    If the values along the first non-singleton dimension contain more\n",
      "    than one minimal element, the index of the first one is returned.\n",
      " \n",
      "    MIN(X,Y) returns an array with the smallest elements taken from X or Y.\n",
      "    X and Y must have compatible sizes. In the simplest cases, they can be\n",
      "    the same size or one can be a scalar. Two inputs have compatible sizes\n",
      "    if, for every dimension, the dimension sizes of the inputs are either\n",
      "    the same or one of them is 1.\n",
      " \n",
      "    MIN(X,[],'all') returns the smallest element of X.\n",
      " \n",
      "    [Y,I] = MIN(X,[],DIM) operates along the dimension DIM.\n",
      " \n",
      "    MIN(X,[],VECDIM) operates on the dimensions specified in the vector \n",
      "    VECDIM. For example, MIN(X,[],[1 2]) operates on the elements contained\n",
      "    in the first and second dimensions of X.\n",
      " \n",
      "    When X is complex, the minimum is computed using the magnitude\n",
      "    MIN(ABS(X)). In the case of equal magnitude elements, then the phase\n",
      "    angle MIN(ANGLE(X)) is used.\n",
      " \n",
      "    MIN(...,NANFLAG) specifies how NaN (Not-A-Number) values are treated.\n",
      "    NANFLAG can be:\n",
      "    'omitnan'    - Ignores all NaN values and returns the minimum of the \n",
      "                   non-NaN elements.  If all elements are NaN, then the\n",
      "                   first one is returned.\n",
      "    'includenan' - Returns NaN if there is any NaN value.  The index points\n",
      "                   to the first NaN element.\n",
      "    Default is 'omitnan'.\n",
      " \n",
      "    Example: \n",
      "        X = [2 8 4; 7 3 9]\n",
      "        min(X,[],1)\n",
      "        min(X,[],2)\n",
      "        min(X,5)\n",
      " \n",
      "    See also MAX, BOUNDS, CUMMIN, MEDIAN, MEAN, SORT, MINK.\n",
      "\n",
      "    Reference page in Doc Center\n",
      "       doc min\n",
      "\n",
      "    Other functions named min\n",
      "\n",
      "       categorical/min      duration/min    gpuArray/min    tall/min\n",
      "       codistributed/min    fints/min       sym/min         timeseries/min\n",
      "       datetime/min\n",
      "\n",
      " MAX    Largest component.\n",
      "    For vectors, MAX(X) is the largest element in X. For matrices,\n",
      "    MAX(X) is a row vector containing the maximum element from each\n",
      "    column. For N-D arrays, MAX(X) operates along the first\n",
      "    non-singleton dimension.\n",
      " \n",
      "    [Y,I] = MAX(X) returns the indices of the maximum values in vector I.\n",
      "    If the values along the first non-singleton dimension contain more\n",
      "    than one maximal element, the index of the first one is returned.\n",
      " \n",
      "    MAX(X,Y) returns an array with the largest elements taken from X or Y.\n",
      "    X and Y must have compatible sizes. In the simplest cases, they can be\n",
      "    the same size or one can be a scalar. Two inputs have compatible sizes\n",
      "    if, for every dimension, the dimension sizes of the inputs are either\n",
      "    the same or one of them is 1.\n",
      " \n",
      "    MAX(X,[],'all') returns the largest element of X.\n",
      " \n",
      "    [Y,I] = MAX(X,[],DIM) operates along the dimension DIM.\n",
      " \n",
      "    MAX(X,[],VECDIM) operates on the dimensions specified in the vector \n",
      "    VECDIM. For example, MAX(X,[],[1 2]) operates on the elements contained\n",
      "    in the first and second dimensions of X.\n",
      " \n",
      "    When X is complex, the maximum is computed using the magnitude\n",
      "    MAX(ABS(X)). In the case of equal magnitude elements, then the phase\n",
      "    angle MAX(ANGLE(X)) is used.\n",
      " \n",
      "    MAX(...,NANFLAG) specifies how NaN (Not-A-Number) values are treated.\n",
      "    NANFLAG can be:\n",
      "    'omitnan'    - Ignores all NaN values and returns the maximum of the \n",
      "                   non-NaN elements.  If all elements are NaN, then the\n",
      "                   first one is returned.\n",
      "    'includenan' - Returns NaN if there is any NaN value.  The index points\n",
      "                   to the first NaN element.\n",
      "    Default is 'omitnan'.\n",
      " \n",
      "    Example: \n",
      "        X = [2 8 4; 7 3 9]\n",
      "        max(X,[],1)\n",
      "        max(X,[],2)\n",
      "        max(X,5)\n",
      " \n",
      "    See also MIN, BOUNDS, CUMMAX, MEDIAN, MEAN, SORT, MAXK.\n",
      "\n",
      "    Reference page in Doc Center\n",
      "       doc max\n",
      "\n",
      "    Other functions named max\n",
      "\n",
      "       categorical/max      duration/max    gpuArray/max    tall/max\n",
      "       codistributed/max    fints/max       sym/max         timeseries/max\n",
      "       datetime/max\n",
      "\n",
      " MEAN   Average or mean value.\n",
      "    S = MEAN(X) is the mean value of the elements in X if X is a vector. \n",
      "    For matrices, S is a row vector containing the mean value of each \n",
      "    column. \n",
      "    For N-D arrays, S is the mean value of the elements along the first \n",
      "    array dimension whose size does not equal 1.\n",
      " \n",
      "    MEAN(X,'all') is the mean of all elements in X.\n",
      " \n",
      "    MEAN(X,DIM) takes the mean along the dimension DIM of X.\n",
      " \n",
      "    MEAN(X,VECDIM) operates on the dimensions specified in the vector \n",
      "    VECDIM. For example, MEAN(X,[1 2]) operates on the elements contained\n",
      "    in the first and second dimensions of X.\n",
      " \n",
      "    S = MEAN(...,TYPE) specifies the type in which the mean is performed, \n",
      "    and the type of S. Available options are:\n",
      " \n",
      "    'double'    -  S has class double for any input X\n",
      "    'native'    -  S has the same class as X\n",
      "    'default'   -  If X is floating point, that is double or single,\n",
      "                   S has the same class as X. If X is not floating point, \n",
      "                   S has class double.\n",
      " \n",
      "    S = MEAN(...,NANFLAG) specifies how NaN (Not-A-Number) values are \n",
      "    treated. The default is 'includenan':\n",
      " \n",
      "    'includenan' - the mean of a vector containing NaN values is also NaN.\n",
      "    'omitnan'    - the mean of a vector containing NaN values is the mean \n",
      "                   of all its non-NaN elements. If all elements are NaN,\n",
      "                   the result is NaN.\n",
      " \n",
      "    Example:\n",
      "        X = [1 2 3; 3 3 6; 4 6 8; 4 7 7]\n",
      "        mean(X,1)\n",
      "        mean(X,2)\n",
      " \n",
      "    Class support for input X:\n",
      "       float: double, single\n",
      "       integer: uint8, int8, uint16, int16, uint32,\n",
      "                int32, uint64, int64\n",
      " \n",
      "    See also MEDIAN, STD, MIN, MAX, VAR, COV, MODE.\n",
      "\n",
      "    Reference page in Doc Center\n",
      "       doc mean\n",
      "\n",
      "    Other functions named mean\n",
      "\n",
      "       codistributed/mean    fints/mean       tall/mean\n",
      "       datetime/mean         gpuArray/mean    timeseries/mean\n",
      "       duration/mean\n",
      "\n"
     ]
    }
   ],
   "source": [
    "help(\"min\")\n",
    "help(\"max\")\n",
    "help(\"mean\")"
   ]
  },
  {
   "cell_type": "code",
   "execution_count": 5,
   "metadata": {},
   "outputs": [
    {
     "name": "stdout",
     "output_type": "stream",
     "text": [
      "\n",
      "ans =\n",
      "\n",
      "    -4\n",
      "\n",
      "\n",
      "ans =\n",
      "\n",
      "     7\n",
      "\n",
      "\n",
      "ans =\n",
      "\n",
      "    2.5000\n",
      "\n",
      "\n",
      "ans =\n",
      "\n",
      "     6\n",
      "\n",
      "\n",
      "c =\n",
      "\n",
      "     2     3\n",
      "     4     5\n",
      "     7     1\n",
      "\n",
      "\n",
      "ans =\n",
      "\n",
      "     1     6\n",
      "\n",
      "\n",
      "numf =\n",
      "\n",
      "     1\n",
      "\n",
      "\n",
      "numc =\n",
      "\n",
      "     6\n",
      "\n"
     ]
    }
   ],
   "source": [
    "a = [2, 3, 4, 7, -4, 3];\n",
    "min(a) % el mínimo de a\n",
    "max(a) % el máximo de a\n",
    "mean(a) % la media de a\n",
    "length(a) % longitud de a\n",
    "c = [2, 3; 4, 5; 7, 1]\n",
    "size(a)\n",
    "[numf, numc] = size(a)"
   ]
  },
  {
   "cell_type": "markdown",
   "metadata": {},
   "source": [
    "## Solución de sistemas de ecuaciones lineales\n",
    "\n",
    "**Ejemplo:** Encontrar la solución del siguiente sistema lineal\n",
    "\n",
    "$$\\begin{alignat}{9}\n",
    "2x_1&&\\; + \\;&& 6x_2   &&\\; + \\;&& 7x_3  &&\\; + \\;&& 9x_4 &&\\; = \\;&& 2 & \\\\\n",
    "3x_1 &&\\; + \\;&& 7x_2  &&\\; + \\;&& 2x_3 &&\\; + \\;&& 5x_4 &&\\; = \\;&& -1 & \\\\\n",
    "4x_1 &&\\; - \\;&& 2x_2  &&\\; + \\;&& x_3  &&\\; + \\;&& 6x_4 &&\\; = \\;&& 3 & \\\\\n",
    "x_1&&\\; + \\;&&  9x_2   &&\\; + \\;&& 8x_3 &&\\; + \\;&& 2x_4 &&\\; = \\;&& 4 & \\\\\n",
    "\\end{alignat}$$\n",
    "\n",
    "Forma matricial\n",
    "$$Ax=b$$\n",
    "donde"
   ]
  },
  {
   "cell_type": "code",
   "execution_count": 6,
   "metadata": {},
   "outputs": [
    {
     "name": "stdout",
     "output_type": "stream",
     "text": [
      "\n",
      "x =\n",
      "\n",
      "    0.9557\n",
      "   -0.5123\n",
      "    1.0788\n",
      "   -0.4877\n",
      "\n"
     ]
    }
   ],
   "source": [
    "A =[2 6 7 9\n",
    "    3 7 2 5\n",
    "    4 -2 1 6\n",
    "    1 9 8 2];\n",
    "b =[2 -1 3 4]';\n",
    "x = A\\b"
   ]
  },
  {
   "cell_type": "markdown",
   "metadata": {},
   "source": [
    "Verificando el resultado anterior:"
   ]
  },
  {
   "cell_type": "code",
   "execution_count": 7,
   "metadata": {},
   "outputs": [
    {
     "name": "stdout",
     "output_type": "stream",
     "text": [
      "\n",
      "ans =\n",
      "\n",
      "   1.0e-14 *\n",
      "\n",
      "    0.0444\n",
      "   -0.1776\n",
      "         0\n",
      "         0\n",
      "\n",
      "\n",
      "ans =\n",
      "\n",
      "   1.8310e-15\n",
      "\n"
     ]
    }
   ],
   "source": [
    "A*x-b\n",
    "norm(A*x-b) % El valor de la norma debe tender a 0."
   ]
  },
  {
   "cell_type": "code",
   "execution_count": 8,
   "metadata": {},
   "outputs": [
    {
     "name": "stdout",
     "output_type": "stream",
     "text": [
      " NORM   Matrix or vector norm.\n",
      "      NORM(X,2) returns the 2-norm of X.\n",
      " \n",
      "      NORM(X) is the same as NORM(X,2).\n",
      " \n",
      "      NORM(X,1) returns the 1-norm of X.\n",
      " \n",
      "      NORM(X,Inf) returns the infinity norm of X.\n",
      " \n",
      "      NORM(X,'fro') returns the Frobenius norm of X.\n",
      " \n",
      "    In addition, for vectors...\n",
      " \n",
      "      NORM(V,P) returns the p-norm of V defined as SUM(ABS(V).^P)^(1/P).\n",
      " \n",
      "      NORM(V,Inf) returns the largest element of ABS(V).\n",
      " \n",
      "      NORM(V,-Inf) returns the smallest element of ABS(V).\n",
      " \n",
      "    By convention, NaN is returned if X or V contains NaNs.\n",
      " \n",
      "    See also COND, RCOND, CONDEST, NORMEST, HYPOT.\n",
      "\n",
      "    Reference page in Doc Center\n",
      "       doc norm\n",
      "\n",
      "    Other functions named norm\n",
      "\n",
      "       codistributed/norm    DynamicSystem/norm    mfilt/norm    tall/norm\n",
      "       dfilt/norm            gpuArray/norm         sym/norm\n",
      "\n"
     ]
    }
   ],
   "source": [
    "help(\"norm\")"
   ]
  },
  {
   "cell_type": "markdown",
   "metadata": {},
   "source": [
    "## Gráficas con MATLAB"
   ]
  },
  {
   "cell_type": "code",
   "execution_count": 9,
   "metadata": {},
   "outputs": [
    {
     "name": "stdout",
     "output_type": "stream",
     "text": [
      " PLOT   Linear plot. \n",
      "    PLOT(X,Y) plots vector Y versus vector X. If X or Y is a matrix,\n",
      "    then the vector is plotted versus the rows or columns of the matrix,\n",
      "    whichever line up.  If X is a scalar and Y is a vector, disconnected\n",
      "    line objects are created and plotted as discrete points vertically at\n",
      "    X.\n",
      " \n",
      "    PLOT(Y) plots the columns of Y versus their index.\n",
      "    If Y is complex, PLOT(Y) is equivalent to PLOT(real(Y),imag(Y)).\n",
      "    In all other uses of PLOT, the imaginary part is ignored.\n",
      " \n",
      "    Various line types, plot symbols and colors may be obtained with\n",
      "    PLOT(X,Y,S) where S is a character string made from one element\n",
      "    from any or all the following 3 columns:\n",
      " \n",
      "           b     blue          .     point              -     solid\n",
      "           g     green         o     circle             :     dotted\n",
      "           r     red           x     x-mark             -.    dashdot \n",
      "           c     cyan          +     plus               --    dashed   \n",
      "           m     magenta       *     star             (none)  no line\n",
      "           y     yellow        s     square\n",
      "           k     black         d     diamond\n",
      "           w     white         v     triangle (down)\n",
      "                               ^     triangle (up)\n",
      "                               <     triangle (left)\n",
      "                               >     triangle (right)\n",
      "                               p     pentagram\n",
      "                               h     hexagram\n",
      "                          \n",
      "    For example, PLOT(X,Y,'c+:') plots a cyan dotted line with a plus \n",
      "    at each data point; PLOT(X,Y,'bd') plots blue diamond at each data \n",
      "    point but does not draw any line.\n",
      " \n",
      "    PLOT(X1,Y1,S1,X2,Y2,S2,X3,Y3,S3,...) combines the plots defined by\n",
      "    the (X,Y,S) triples, where the X's and Y's are vectors or matrices \n",
      "    and the S's are strings.  \n",
      " \n",
      "    For example, PLOT(X,Y,'y-',X,Y,'go') plots the data twice, with a\n",
      "    solid yellow line interpolating green circles at the data points.\n",
      " \n",
      "    The PLOT command, if no color is specified, makes automatic use of\n",
      "    the colors specified by the axes ColorOrder property.  By default,\n",
      "    PLOT cycles through the colors in the ColorOrder property.  For\n",
      "    monochrome systems, PLOT cycles over the axes LineStyleOrder property.\n",
      " \n",
      "    Note that RGB colors in the ColorOrder property may differ from\n",
      "    similarly-named colors in the (X,Y,S) triples.  For example, the \n",
      "    second axes ColorOrder property is medium green with RGB [0 .5 0],\n",
      "    while PLOT(X,Y,'g') plots a green line with RGB [0 1 0].\n",
      " \n",
      "    If you do not specify a marker type, PLOT uses no marker. \n",
      "    If you do not specify a line style, PLOT uses a solid line.\n",
      " \n",
      "    PLOT(AX,...) plots into the axes with handle AX.\n",
      " \n",
      "    PLOT returns a column vector of handles to lineseries objects, one\n",
      "    handle per plotted line. \n",
      " \n",
      "    The X,Y pairs, or X,Y,S triples, can be followed by \n",
      "    parameter/value pairs to specify additional properties \n",
      "    of the lines. For example, PLOT(X,Y,'LineWidth',2,'Color',[.6 0 0]) \n",
      "    will create a plot with a dark red line width of 2 points.\n",
      " \n",
      "    Example\n",
      "       x = -pi:pi/10:pi;\n",
      "       y = tan(sin(x)) - sin(tan(x));\n",
      "       plot(x,y,'--rs','LineWidth',2,...\n",
      "                       'MarkerEdgeColor','k',...\n",
      "                       'MarkerFaceColor','g',...\n",
      "                       'MarkerSize',10)\n",
      " \n",
      "    See also PLOTTOOLS, SEMILOGX, SEMILOGY, LOGLOG, PLOTYY, PLOT3, GRID,\n",
      "    TITLE, XLABEL, YLABEL, AXIS, AXES, HOLD, LEGEND, SUBPLOT, SCATTER.\n",
      "\n",
      "    Reference page in Doc Center\n",
      "       doc plot\n",
      "\n",
      "    Other functions named plot\n",
      "\n",
      "       alphaShape/plot      dspdata/plot         LinearModel/plot\n",
      "       blm/plot             empiricalblm/plot    mixconjugateblm/plot\n",
      "       cfit/plot            fints/plot           mixsemiconjugateblm/plot\n",
      "       channel/plot         graph/plot           phytree/plot\n",
      "       clustergram/plot     HeatMap/plot         polyshape/plot\n",
      "       conjugateblm/plot    iddata/plot          semiconjugateblm/plot\n",
      "       customblm/plot       idnlarx/plot         sfit/plot\n",
      "       diffuseblm/plot      idnlhw/plot          tall/plot\n",
      "       digraph/plot         lassoblm/plot        timeseries/plot\n",
      "\n"
     ]
    }
   ],
   "source": [
    "help(\"plot\")"
   ]
  },
  {
   "cell_type": "markdown",
   "metadata": {},
   "source": [
    "Comando `plot`:\n",
    "\n",
    "Sintáxis: `plot(X, Y)`\n",
    "\n",
    "Plotea el vector `Y` vs el vector `X`.\n",
    "\n",
    "Si `X` o `Y` es una matriz, entonces el vector es ploteado vs las filas o columnas de la matriz, dependiendo si el vector es fila o columna.\n",
    "\n",
    "Ejercicio: Grafique $f(t)=t\\mathrm{sen}t\\,,0\\le t\\le 6$.\n",
    "\n",
    "Ejemplo: Para graficar las funciones:\n",
    "$$f(t)=t\\mathrm{sen}t\\,,0\\le t\\le 6, \\text{ y } g(t)=t^2,0\\le t\\le 6.$$"
   ]
  },
  {
   "cell_type": "code",
   "execution_count": 11,
   "metadata": {},
   "outputs": [
    {
     "data": {
      "image/png": "[encoded data removed]",
      "text/plain": [
       "<IPython.core.display.Image object>"
      ]
     },
     "metadata": {},
     "output_type": "display_data"
    }
   ],
   "source": [
    "t_1 = 0:0.1:6;\n",
    "y = [t_1.*sin(t); t_1.^2];\n",
    "plot(t_1,y)"
   ]
  },
  {
   "cell_type": "markdown",
   "metadata": {},
   "source": [
    "Lo mismo se obtiene si se escribe"
   ]
  },
  {
   "cell_type": "code",
   "execution_count": 12,
   "metadata": {},
   "outputs": [
    {
     "data": {
      "image/png": "[encoded data removed]",
      "text/plain": [
       "<IPython.core.display.Image object>"
      ]
     },
     "metadata": {},
     "output_type": "display_data"
    }
   ],
   "source": [
    "t_2 = 0:0.1:6;\n",
    "plot(t_2,t_2.*sin(t_2),t_2,t_2.^2)"
   ]
  },
  {
   "cell_type": "markdown",
   "metadata": {},
   "source": [
    "Sintáxis plot (`X,Y,S`)\n",
    "S es un carácter o cadena (string) compuesto de uno o de todos los elementos de las siguientes tres columnas:\n",
    "\n",
    "| Color | Tipo de marca | Tipo de línea |\n",
    "|:-----:|:-------------:|:-------------:|\n",
    "|`y` yellow|`.` punto|`-` línea continua|\n",
    "|`m` magenta|`o` círculo | `:` línea punteada|\n",
    "|`c` cyan|`x` marca-x|`-.` línea raya-punto.|\n",
    "|`r` red| `+` más| `--` línea rayada|\n",
    "|`g` green|`*` estrella|\n",
    "|`b` blue| `s` cuadrado||\n",
    "|`w` white|`d` diamante||\n",
    "|`k` black|`.` triángulo (abajo)||\n",
    "||`^` triángulo (arriba)||\n",
    "||`<` triángulo (izquierdo)||\n",
    "||`>` triángulo (derecho)||\n",
    "||`p` estrella de 5 puntas||\n",
    "||`h` estrella de 6 puntas||"
   ]
  },
  {
   "cell_type": "markdown",
   "metadata": {},
   "source": [
    "Ejemplo: Graficar $g(x)=x\\exp(x)$, $-3\\le x\\le 5$."
   ]
  },
  {
   "cell_type": "code",
   "execution_count": null,
   "metadata": {},
   "outputs": [],
   "source": [
    "\n",
    "El objetivo de los métodos numéricos es hallar soluciones de ecuaciones desconocidas.a\n",
    "Implementar la matriz de Vandermonde en MATLAB\n"
   ]
  }
 ],
 "metadata": {
  "kernelspec": {
   "display_name": "Matlab",
   "language": "matlab",
   "name": "matlab"
  },
  "language_info": {
   "codemirror_mode": "octave",
   "file_extension": ".m",
   "help_links": [
    {
     "text": "MetaKernel Magics",
     "url": "https://github.com/calysto/metakernel/blob/master/metakernel/magics/README.md"
    }
   ],
   "mimetype": "text/x-octave",
   "name": "matlab",
   "version": "0.16.1"
  }
 },
 "nbformat": 4,
 "nbformat_minor": 2
}
